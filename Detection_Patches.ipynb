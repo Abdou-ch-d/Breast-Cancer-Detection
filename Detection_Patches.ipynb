{
  "cells": [
    {
      "cell_type": "markdown",
      "metadata": {
        "id": "view-in-github",
        "colab_type": "text"
      },
      "source": [
        "<a href=\"https://colab.research.google.com/github/Abdou-ch-d/Breast-Cancer-Detection/blob/main/Detection_Patches.ipynb\" target=\"_parent\"><img src=\"https://colab.research.google.com/assets/colab-badge.svg\" alt=\"Open In Colab\"/></a>"
      ]
    },
    {
      "cell_type": "code",
      "execution_count": null,
      "metadata": {
        "colab": {
          "base_uri": "https://localhost:8080/"
        },
        "id": "RtTTI3dt4Qo0",
        "outputId": "0f3fd81a-8aba-4268-9c73-8dd76745583f"
      },
      "outputs": [
        {
          "name": "stdout",
          "output_type": "stream",
          "text": [
            "Mounted at /content/drive\n"
          ]
        }
      ],
      "source": [
        "from google.colab import drive\n",
        "drive.mount('/content/drive',force_remount=True)"
      ]
    },
    {
      "cell_type": "markdown",
      "metadata": {
        "id": "Qcr6Hy3WdApL"
      },
      "source": [
        "#**Pakages**"
      ]
    },
    {
      "cell_type": "code",
      "execution_count": null,
      "metadata": {
        "id": "OB7JLpdc0k_1"
      },
      "outputs": [],
      "source": [
        "%%capture\n",
        "!pip install -U albumentations"
      ]
    },
    {
      "cell_type": "code",
      "execution_count": null,
      "metadata": {
        "id": "Dl7xf9hZLMZ-"
      },
      "outputs": [],
      "source": [
        "%%capture\n",
        "!pip install pydicom"
      ]
    },
    {
      "cell_type": "code",
      "execution_count": null,
      "metadata": {
        "id": "cHqyZJbp1Fay"
      },
      "outputs": [],
      "source": [
        "%%capture\n",
        "!pip install --force-reinstall albumentations==1.0.3"
      ]
    },
    {
      "cell_type": "code",
      "execution_count": null,
      "metadata": {
        "id": "fvcubnJmK1t0"
      },
      "outputs": [],
      "source": [
        "%%capture\n",
        "!pip install SimpleITK"
      ]
    },
    {
      "cell_type": "code",
      "execution_count": null,
      "metadata": {
        "id": "5H_8JqXi1SnJ"
      },
      "outputs": [],
      "source": [
        "%%capture\n",
        "!pip install --force-reinstall opencv-python-headless==4.1.2.30"
      ]
    },
    {
      "cell_type": "code",
      "execution_count": null,
      "metadata": {
        "id": "fjM9DT3rQOB5"
      },
      "outputs": [],
      "source": [
        "%%capture\n",
        "!pip install git+https://github.com/mjkvaak/ImageDataAugmentor"
      ]
    },
    {
      "cell_type": "code",
      "execution_count": null,
      "metadata": {
        "id": "dwhZqjdzZhnQ"
      },
      "outputs": [],
      "source": [
        "%%capture\n",
        "!pip install split-folders"
      ]
    },
    {
      "cell_type": "code",
      "execution_count": null,
      "metadata": {
        "id": "y2gCaN_ABuF_"
      },
      "outputs": [],
      "source": [
        "%%capture\n",
        "!pip install import_ipynb"
      ]
    },
    {
      "cell_type": "code",
      "execution_count": null,
      "metadata": {
        "id": "moToqeFi7m3k"
      },
      "outputs": [],
      "source": [
        "%%capture\n",
        "!pip install patchify"
      ]
    },
    {
      "cell_type": "code",
      "execution_count": null,
      "metadata": {
        "id": "kNCqecxNUYk7"
      },
      "outputs": [],
      "source": [
        "%%capture\n",
        "!pip install --upgrade --force-reinstall opencv-python-headless==4.1.2.30"
      ]
    },
    {
      "cell_type": "code",
      "execution_count": null,
      "metadata": {
        "id": "MVEOvvDIK29a"
      },
      "outputs": [],
      "source": [
        "exit()"
      ]
    },
    {
      "cell_type": "markdown",
      "metadata": {
        "id": "7MUZkawTKII7"
      },
      "source": [
        "#Data zip"
      ]
    },
    {
      "cell_type": "code",
      "execution_count": null,
      "metadata": {
        "colab": {
          "base_uri": "https://localhost:8080/"
        },
        "id": "DuMICokD7h9P",
        "outputId": "7d9334f3-2dc8-4098-d961-252738495f5d"
      },
      "outputs": [
        {
          "name": "stdout",
          "output_type": "stream",
          "text": [
            "rm: cannot remove '/content/Datasets': No such file or directory\n"
          ]
        }
      ],
      "source": [
        "!rm -r '/content/Datasets'\n",
        "# !rm -r '/content/Data'"
      ]
    },
    {
      "cell_type": "code",
      "execution_count": null,
      "metadata": {
        "id": "m6PG5i0BvbZB"
      },
      "outputs": [],
      "source": [
        "%%capture\n",
        "                              ## Original INBreast\n",
        "!unzip '/content/drive/MyDrive/INBreast_Dataset/INbreast Release 1.0.zip' -d '/content/Datasets'"
      ]
    },
    {
      "cell_type": "markdown",
      "metadata": {
        "id": "_Mq_hdDG-XSS"
      },
      "source": [
        "# Bib"
      ]
    },
    {
      "cell_type": "code",
      "execution_count": null,
      "metadata": {
        "colab": {
          "base_uri": "https://localhost:8080/"
        },
        "id": "c5VusdNwIQeQ",
        "outputId": "556da1c9-d1db-4e30-f5da-b4bf968ce9f1"
      },
      "outputs": [
        {
          "name": "stdout",
          "output_type": "stream",
          "text": [
            "/content\n",
            "/content/drive/MyDrive/Colab Notebooks\n"
          ]
        }
      ],
      "source": [
        "import os\n",
        "!pwd\n",
        "os.chdir('/content/drive/MyDrive/Colab Notebooks')\n",
        "!pwd    "
      ]
    },
    {
      "cell_type": "code",
      "execution_count": null,
      "metadata": {
        "id": "hjqdaEsuvH4e"
      },
      "outputs": [],
      "source": [
        "import tensorflow as tf\n",
        "import numpy as np\n",
        "import time\n",
        "import os\n",
        "import cv2\n",
        "import random \n",
        "import colorsys\n",
        "from matplotlib.colors import LinearSegmentedColormap\n",
        "import glob\n",
        "from tqdm.notebook import tqdm, trange\n",
        "import albumentations as A"
      ]
    },
    {
      "cell_type": "code",
      "execution_count": null,
      "metadata": {
        "id": "4B6xgBPrIvu4"
      },
      "outputs": [],
      "source": [
        "from keras.models import Model,Sequential,load_model\n",
        "from keras.layers import Conv2D, Add, ZeroPadding2D, UpSampling2D, Concatenate, MaxPooling2D,Activation,Dropout,Flatten,Conv2D,MaxPooling2D,Dense,Input, Lambda,Input\n",
        "from keras.layers.advanced_activations import LeakyReLU\n",
        "from tensorflow.keras.layers import BatchNormalization\n",
        "from tensorflow.python.keras import regularizers \n",
        "from tensorflow.keras.optimizers import Adam\n",
        "from keras.metrics import categorical_crossentropy\n",
        "from tensorflow.keras.utils import Sequence\n",
        "from keras import backend as K\n",
        "from patchify import patchify\n",
        "from functools import reduce\n",
        "from keras.models import Model\n",
        "import pydicom as dicom\n",
        "from PIL import Image \n",
        "import matplotlib.pyplot as plt \n",
        "from matplotlib.colors import rgb_to_hsv, hsv_to_rgb\n",
        "from keras.callbacks import TensorBoard, ModelCheckpoint, ReduceLROnPlateau, EarlyStopping\n",
        "from functools import reduce"
      ]
    },
    {
      "cell_type": "code",
      "execution_count": null,
      "metadata": {
        "id": "-bVwat2Yybus"
      },
      "outputs": [],
      "source": [
        "from kerasYolov3  import  box_iou,preprocess_true_boxes,yolo_eval,control_flow_ops\n",
        "# from Kerasyolo import yolo_loss* "
      ]
    },
    {
      "cell_type": "code",
      "execution_count": null,
      "metadata": {
        "colab": {
          "base_uri": "https://localhost:8080/"
        },
        "id": "3XMJOReaJ_gT",
        "outputId": "73b491eb-2ef1-4d57-8f08-f934e3623b30"
      },
      "outputs": [
        {
          "name": "stdout",
          "output_type": "stream",
          "text": [
            "sending incremental file list\n",
            "pre_train.ipynb\n",
            "        556,578 100%  249.77MB/s    0:00:00 (xfr#1, to-chk=0/1)\n",
            "sending incremental file list\n",
            "Dicom_Preprocessing.ipynb\n",
            "         39,980 100%    6.88MB/s    0:00:00 (xfr#1, to-chk=0/1)\n",
            "importing Jupyter notebook from pre_train.ipynb\n",
            "importing Jupyter notebook from Dicom_Preprocessing.ipynb\n"
          ]
        }
      ],
      "source": [
        "os.chdir('/content')\n",
        "source_path_file = '/content/drive/MyDrive/Colab Notebooks/pre_train.ipynb'\n",
        "source_path_file = source_path_file.replace(' ', '\\\\ ')\n",
        "!cp $source_path_file '/content' # to copy the file from drive to colab\n",
        "# run this line to sync with the parent file in case you made any changes\n",
        "!rsync -aP $source_path_file '/content/pre_train.ipynb'\n",
        "\n",
        "source_path_file = '/content/drive/MyDrive/Colab Notebooks/Dicom_Preprocessing.ipynb'\n",
        "source_path_file = source_path_file.replace(' ', '\\\\ ')\n",
        "!cp $source_path_file '/content' # to copy the file from drive to colab\n",
        "# run this line to sync with the parent file in case you made any changes\n",
        "!rsync -aP $source_path_file '/content/Dicom_Preprocessing.ipynb'\n",
        "\n",
        "\n",
        "import import_ipynb\n",
        "from pre_train import PreProcessing, Pad_mask\n",
        "from Dicom_Preprocessing import PreprocessDicomPatches,mask_to_yolo"
      ]
    },
    {
      "cell_type": "markdown",
      "metadata": {
        "id": "-FuVaNsVgeHn"
      },
      "source": [
        "# Model builder\n",
        "residual skip connections, and upsampling"
      ]
    },
    {
      "cell_type": "markdown",
      "metadata": {
        "id": "3BUghpaY2yOm"
      },
      "source": [
        "##Body Layers "
      ]
    },
    {
      "cell_type": "markdown",
      "metadata": {
        "id": "a3aWlOv7hu54"
      },
      "source": [
        "Darknet + ResNet as the base model: The new Darknet-53 still relies on successive 3x3 and 1x1 conv layers, just like the original dark net architecture, but has residual blocks added."
      ]
    },
    {
      "cell_type": "markdown",
      "metadata": {
        "id": "zaxkAYU7gbPP"
      },
      "source": [
        "Compose arbitrarily many functions, evaluated left to right."
      ]
    },
    {
      "cell_type": "code",
      "execution_count": null,
      "metadata": {
        "id": "gdihA4DUgY-l"
      },
      "outputs": [],
      "source": [
        "def compose(*funcs):\n",
        "    if funcs:\n",
        "        return reduce(lambda f, g: lambda *a, **kw: g(f(*a, **kw)), funcs)\n",
        "    else:\n",
        "        raise ValueError('Composition of empty sequence not supported.')"
      ]
    },
    {
      "cell_type": "markdown",
      "metadata": {
        "id": "3Glc42M9gmeE"
      },
      "source": [
        "Wrapper to set Darknet parameters for Convolution2D"
      ]
    },
    {
      "cell_type": "code",
      "execution_count": null,
      "metadata": {
        "id": "iwBX11ragkyB"
      },
      "outputs": [],
      "source": [
        "def DarknetConv2D(*args, **kwargs):\n",
        "    darknet_conv_kwargs = {'kernel_regularizer': regularizers.l2(5e-4)}#l2(5e-4)}\n",
        "    darknet_conv_kwargs['padding'] = 'valid' if kwargs.get('strides')==(2,2) else 'same'\n",
        "    darknet_conv_kwargs.update(kwargs)\n",
        "    return Conv2D(*args, **darknet_conv_kwargs)"
      ]
    },
    {
      "cell_type": "code",
      "execution_count": null,
      "metadata": {
        "id": "MQoogudSgp1u"
      },
      "outputs": [],
      "source": [
        "def DarknetConv2D_BN_Leaky(*args, **kwargs):\n",
        "    no_bias_kwargs = {'use_bias': False}\n",
        "    no_bias_kwargs.update(kwargs)\n",
        "    return compose(\n",
        "        DarknetConv2D(*args, **no_bias_kwargs),\n",
        "        BatchNormalization(),\n",
        "        LeakyReLU(alpha=0.1))"
      ]
    },
    {
      "cell_type": "markdown",
      "metadata": {
        "id": "KXe2eCeDgvmw"
      },
      "source": [
        "A series of resblocks starting with a downsampling Convolution2D\n",
        "\n",
        "Darknet uses left and top padding instead of 'same' mode"
      ]
    },
    {
      "cell_type": "code",
      "execution_count": null,
      "metadata": {
        "id": "Az-MZRc_g2Bv"
      },
      "outputs": [],
      "source": [
        "def resblock_body(x, num_filters, num_blocks):\n",
        "    x = ZeroPadding2D(((1,0),(1,0)))(x)\n",
        "    x = DarknetConv2D_BN_Leaky(num_filters, (3,3), strides=(2,2))(x)\n",
        "    for i in range(num_blocks):\n",
        "        y = compose(\n",
        "                DarknetConv2D_BN_Leaky(num_filters//2, (1,1)),\n",
        "                DarknetConv2D_BN_Leaky(num_filters, (3,3)))(x)\n",
        "        x = Add()([x,y])\n",
        "    return x"
      ]
    },
    {
      "cell_type": "markdown",
      "metadata": {
        "id": "5eS4NmJ0g37d"
      },
      "source": [
        "Darknent body having 52 Convolution2D layers"
      ]
    },
    {
      "cell_type": "code",
      "execution_count": null,
      "metadata": {
        "id": "uyFgaoheg5nJ"
      },
      "outputs": [],
      "source": [
        "def darknet_body(x):\n",
        "    x = DarknetConv2D_BN_Leaky(32, (3,3))(x)\n",
        "    x = resblock_body(x, 64, 1)\n",
        "    x = resblock_body(x, 128, 2)\n",
        "    x = resblock_body(x, 256, 8)\n",
        "    x = resblock_body(x, 512, 8)\n",
        "    x = resblock_body(x, 1024, 4)\n",
        "    return x"
      ]
    },
    {
      "cell_type": "markdown",
      "metadata": {
        "id": "ZpJSC5dug9Rl"
      },
      "source": [
        "6 Conv2D_BN_Leaky layers followed by a Conv2D_linear layer"
      ]
    },
    {
      "cell_type": "code",
      "execution_count": null,
      "metadata": {
        "id": "Gkzl6EfthBF-"
      },
      "outputs": [],
      "source": [
        "def make_last_layers(x, num_filters, out_filters):\n",
        "    x = compose(\n",
        "            DarknetConv2D_BN_Leaky(num_filters, (1,1)),\n",
        "            DarknetConv2D_BN_Leaky(num_filters*2, (3,3)),\n",
        "            DarknetConv2D_BN_Leaky(num_filters, (1,1)),\n",
        "            DarknetConv2D_BN_Leaky(num_filters*2, (3,3)),\n",
        "            DarknetConv2D_BN_Leaky(num_filters, (1,1)))(x)\n",
        "    y = compose(\n",
        "            DarknetConv2D_BN_Leaky(num_filters*2, (3,3)),\n",
        "            DarknetConv2D(out_filters, (1,1)))(x)\n",
        "    return x, y"
      ]
    },
    {
      "cell_type": "markdown",
      "metadata": {
        "id": "2yTIOE79hFjN"
      },
      "source": [
        "**Create YOLO_V3 model CNN body in Keras**"
      ]
    },
    {
      "cell_type": "code",
      "execution_count": null,
      "metadata": {
        "id": "tkTT4sUwgV_N"
      },
      "outputs": [],
      "source": [
        "def yolo_body(inputs, num_anchors, num_classes):\n",
        "    darknet = Model(inputs, darknet_body(inputs))\n",
        "    x, y1 = make_last_layers(darknet.output, 512, num_anchors*(num_classes+5))\n",
        "\n",
        "    x = compose(\n",
        "            DarknetConv2D_BN_Leaky(256, (1,1)),\n",
        "            UpSampling2D(2))(x)\n",
        "    x = Concatenate()([x,darknet.layers[152].output])\n",
        "    x, y2 = make_last_layers(x, 256, num_anchors*(num_classes+5))\n",
        "\n",
        "    x = compose(\n",
        "            DarknetConv2D_BN_Leaky(128, (1,1)),\n",
        "            UpSampling2D(2))(x)\n",
        "    x = Concatenate()([x,darknet.layers[92].output])\n",
        "    x, y3 = make_last_layers(x, 128, num_anchors*(num_classes+5))\n",
        "\n",
        "    return Model(inputs, [y1,y2,y3])"
      ]
    },
    {
      "cell_type": "markdown",
      "metadata": {
        "id": "EdNRvHWPHP1h"
      },
      "source": [
        "**MobileNet_featur extractor**"
      ]
    },
    {
      "cell_type": "code",
      "execution_count": null,
      "metadata": {
        "id": "GCUwFLXTHHKW"
      },
      "outputs": [],
      "source": [
        "from keras.applications.mobilenet import MobileNet\n",
        "def yolo_body_MobileNet(inputs, num_anchors, num_classes):\n",
        "    mobilenet = MobileNet(input_tensor=inputs,weights='imagenet')\n",
        "\n",
        "    f1 = mobilenet.get_layer('conv_pw_13_relu').output\n",
        "    # f1 :13 x 13 x 1024\n",
        "    x, y1 = make_last_layers(f1, 512, num_anchors * (num_classes + 5))\n",
        "    x = compose(\n",
        "            DarknetConv2D_BN_Leaky(256, (1,1)),\n",
        "            UpSampling2D(2))(x)\n",
        "\n",
        "    f2 = mobilenet.get_layer('conv_pw_11_relu').output\n",
        "    # f2: 26 x 26 x 512\n",
        "    x = Concatenate()([x,f2])\n",
        "\n",
        "    x, y2 = make_last_layers(x, 256, num_anchors*(num_classes+5))\n",
        "    x = compose(\n",
        "            DarknetConv2D_BN_Leaky(128, (1,1)),\n",
        "            UpSampling2D(2))(x)\n",
        "\n",
        "    f3 = mobilenet.get_layer('conv_pw_5_relu').output\n",
        "    # f3 : 52 x 52 x 256\n",
        "    x = Concatenate()([x, f3])\n",
        "    x, y3 = make_last_layers(x, 128, num_anchors*(num_classes+5))\n",
        "\n",
        "    return Model(inputs = inputs, outputs=[y1,y2,y3])"
      ]
    },
    {
      "cell_type": "markdown",
      "metadata": {
        "id": "1IFhOcUnhW8v"
      },
      "source": [
        "**Convert final layer features to bounding box parameters**"
      ]
    },
    {
      "cell_type": "code",
      "execution_count": null,
      "metadata": {
        "id": "CUYUZf6LhTyY"
      },
      "outputs": [],
      "source": [
        "def yolo_head(feats, anchors, num_classes, input_shape, calc_loss=False):\n",
        "    num_anchors = len(anchors)\n",
        "    # Reshape to batch, height, width, num_anchors, box_params.\n",
        "    anchors_tensor = K.reshape(K.constant(anchors), [1, 1, 1, num_anchors, 2])\n",
        "\n",
        "    grid_shape = K.shape(feats)[1:3] # height, width\n",
        "    grid_y = K.tile(K.reshape(K.arange(0, stop=grid_shape[0]), [-1, 1, 1, 1]),\n",
        "        [1, grid_shape[1], 1, 1])\n",
        "    grid_x = K.tile(K.reshape(K.arange(0, stop=grid_shape[1]), [1, -1, 1, 1]),\n",
        "        [grid_shape[0], 1, 1, 1])\n",
        "    grid = K.concatenate([grid_x, grid_y])\n",
        "    grid = K.cast(grid, K.dtype(feats))\n",
        "\n",
        "    feats = K.reshape(\n",
        "        feats, [-1, grid_shape[0], grid_shape[1], num_anchors, num_classes + 5])\n",
        "\n",
        "    # Adjust preditions to each spatial grid point and anchor size.\n",
        "    box_xy = (K.sigmoid(feats[..., :2]) + grid) / K.cast(grid_shape[::-1], K.dtype(feats))\n",
        "    box_wh = K.exp(feats[..., 2:4]) * anchors_tensor / K.cast(input_shape[::-1], K.dtype(feats))\n",
        "    box_confidence = K.sigmoid(feats[..., 4:5])\n",
        "    box_class_probs = K.sigmoid(feats[..., 5:])\n",
        "\n",
        "    if calc_loss == True:\n",
        "        return grid, feats, box_xy, box_wh\n",
        "    return box_xy, box_wh, box_confidence, box_class_probs"
      ]
    },
    {
      "cell_type": "markdown",
      "metadata": {
        "id": "sBbnYEY1x2K6"
      },
      "source": [
        "##**Yolo loss**"
      ]
    },
    {
      "cell_type": "markdown",
      "metadata": {
        "id": "BOVdeq1-qfaC"
      },
      "source": [
        " Example: Imagine you have three classes with **label_smoothing** factor as 0.3.\n",
        "\n",
        " Then, new_labels according to the above formula will be:\n",
        "\n",
        " = [0 1 2] * (1– 0.3) + ( 0.3 / 3 )\n",
        "\n",
        " = [0 1 2] * (0.7 )+ 0.1 = [ 0.1 0.8 1.5 ]\n",
        " Now, the new labels will be [0.1 0.8 1.5] instead of [0 1 2]"
      ]
    },
    {
      "cell_type": "code",
      "execution_count": null,
      "metadata": {
        "id": "Q5O52jS5Nkoo"
      },
      "outputs": [],
      "source": [
        "from re import T\n",
        "import math\n",
        "import tensorflow as tf\n",
        "from tensorflow.keras import backend as K \n",
        "\n",
        "def yolo3_decode(feats, anchors, num_classes, input_shape, scale_x_y=None, calc_loss=False):\n",
        "   \n",
        "    num_anchors = len(anchors)\n",
        "    # Reshape to batch, height, width, num_anchors, box_params.\n",
        "    anchors_tensor = K.reshape(K.constant(anchors), [1, 1, 1, num_anchors, 2])\n",
        "\n",
        "    grid_shape = K.shape(feats)[1:3] # height, width\n",
        "    grid_y = K.tile(K.reshape(K.arange(0, stop=grid_shape[0]), [-1, 1, 1, 1]),\n",
        "        [1, grid_shape[1], 1, 1])\n",
        "    grid_x = K.tile(K.reshape(K.arange(0, stop=grid_shape[1]), [1, -1, 1, 1]),\n",
        "        [grid_shape[0], 1, 1, 1])\n",
        "    grid = K.concatenate([grid_x, grid_y])\n",
        "    grid = K.cast(grid, K.dtype(feats))\n",
        "\n",
        "    feats = K.reshape(\n",
        "        feats, [-1, grid_shape[0], grid_shape[1], num_anchors, num_classes + 5])\n",
        "\n",
        "    # Adjust preditions to each spatial grid point and anchor size.\n",
        "    if scale_x_y:\n",
        "        box_xy_tmp = K.sigmoid(feats[..., :2]) * scale_x_y - (scale_x_y - 1) / 2\n",
        "        box_xy = (box_xy_tmp + grid) / K.cast(grid_shape[..., ::-1], K.dtype(feats))\n",
        "    else:\n",
        "        box_xy = (K.sigmoid(feats[..., :2]) + grid) / K.cast(grid_shape[..., ::-1], K.dtype(feats))\n",
        "    box_wh = K.exp(feats[..., 2:4]) * anchors_tensor / K.cast(input_shape[..., ::-1], K.dtype(feats))\n",
        "    box_confidence = K.sigmoid(feats[..., 4:5])\n",
        "    box_class_probs = K.sigmoid(feats[..., 5:])\n",
        "\n",
        "    if calc_loss == True:\n",
        "        return grid, feats, box_xy, box_wh\n",
        "    return box_xy, box_wh, box_confidence, box_class_probs\n",
        "\n",
        "\n",
        "\n",
        "def softmax_focal_loss(y_true, y_pred, gamma=2.5, alpha=0.25):    #gamma=2\n",
        "    #  alpha:  Weighting factor in range (0,1) to balance positive vs negative examples or -1 for ignore. \n",
        "    #  gamma: Exponent of the modulating factor (1 - p_t) to balance easy vs hard examples.\n",
        "    y_pred = tf.nn.softmax(y_pred)\n",
        "    y_pred = tf.maximum(tf.minimum(y_pred, 1 - 1e-15), 1e-15)\n",
        "   \n",
        "    # Calculate Cross Entropy\n",
        "    cross_entropy = -y_true * tf.math.log(y_pred)\n",
        "   \n",
        "    # Calculate Focal Loss\n",
        "    softmax_focal_loss = alpha * tf.pow(1 - y_pred, gamma) * cross_entropy\n",
        "\n",
        "    return softmax_focal_loss\n",
        "\n",
        "\n",
        "def sigmoid_focal_loss(y_true, y_pred, gamma=2.5, alpha=0.25):\n",
        "  #  alpha:  Weighting factor in range (0,1) to balance positive vs negative examples or -1 for ignore. \n",
        "  #  gamma: Exponent of the modulating factor (1 - p_t) to balance easy vs hard examples.\n",
        "  \n",
        "    sigmoid_loss = K.binary_crossentropy(y_true, y_pred, from_logits=True)\n",
        "\n",
        "    pred_prob = tf.sigmoid(y_pred)\n",
        "    p_t = ((y_true * pred_prob) + ((1 - y_true) * (1 - pred_prob)))\n",
        "    modulating_factor = tf.pow(1.0 - p_t, gamma)\n",
        "    alpha_weight_factor = (y_true * alpha + (1 - y_true) * (1 - alpha))\n",
        "\n",
        "    sigmoid_focal_loss = modulating_factor * alpha_weight_factor * sigmoid_loss\n",
        "    sigmoid_focal_loss = tf.reduce_sum(sigmoid_focal_loss, axis=-1)\n",
        "\n",
        "    return sigmoid_focal_loss\n",
        "\n",
        "\n",
        "\n",
        "def box_iou(b1, b2):\n",
        "   \n",
        "    # Expand dim to apply broadcasting.\n",
        "    b1 = K.expand_dims(b1, -2)\n",
        "    b1_xy = b1[..., :2]\n",
        "    b1_wh = b1[..., 2:4]\n",
        "    b1_wh_half = b1_wh/2.\n",
        "    b1_mins = b1_xy - b1_wh_half\n",
        "    b1_maxes = b1_xy + b1_wh_half\n",
        "\n",
        "    # Expand dim to apply broadcasting.\n",
        "    b2 = K.expand_dims(b2, 0)\n",
        "    b2_xy = b2[..., :2]\n",
        "    b2_wh = b2[..., 2:4]\n",
        "    b2_wh_half = b2_wh/2.\n",
        "    b2_mins = b2_xy - b2_wh_half\n",
        "    b2_maxes = b2_xy + b2_wh_half\n",
        "\n",
        "    intersect_mins = K.maximum(b1_mins, b2_mins)\n",
        "    intersect_maxes = K.minimum(b1_maxes, b2_maxes)\n",
        "    intersect_wh = K.maximum(intersect_maxes - intersect_mins, 0.)\n",
        "    intersect_area = intersect_wh[..., 0] * intersect_wh[..., 1]\n",
        "    b1_area = b1_wh[..., 0] * b1_wh[..., 1]\n",
        "    b2_area = b2_wh[..., 0] * b2_wh[..., 1]\n",
        "    iou = intersect_area / (b1_area + b2_area - intersect_area)\n",
        "\n",
        "    return iou\n",
        "\n",
        "\n",
        "def box_giou(b_true, b_pred):\n",
        "    \"\"\"\n",
        "        \"Generalized Iou: A Metric and A Loss for Bounding Box Regression\"\n",
        "    \"\"\"\n",
        "    b_true_xy = b_true[..., :2]\n",
        "    b_true_wh = b_true[..., 2:4]\n",
        "    b_true_wh_half = b_true_wh/2.\n",
        "    b_true_mins = b_true_xy - b_true_wh_half\n",
        "    b_true_maxes = b_true_xy + b_true_wh_half\n",
        "\n",
        "    b_pred_xy = b_pred[..., :2]\n",
        "    b_pred_wh = b_pred[..., 2:4]\n",
        "    b_pred_wh_half = b_pred_wh/2.\n",
        "    b_pred_mins = b_pred_xy - b_pred_wh_half\n",
        "    b_pred_maxes = b_pred_xy + b_pred_wh_half\n",
        "\n",
        "    intersect_mins = K.maximum(b_true_mins, b_pred_mins)\n",
        "    intersect_maxes = K.minimum(b_true_maxes, b_pred_maxes)\n",
        "    intersect_wh = K.maximum(intersect_maxes - intersect_mins, 0.)\n",
        "    intersect_area = intersect_wh[..., 0] * intersect_wh[..., 1]\n",
        "    b_true_area = b_true_wh[..., 0] * b_true_wh[..., 1]\n",
        "    b_pred_area = b_pred_wh[..., 0] * b_pred_wh[..., 1]\n",
        "    union_area = b_true_area + b_pred_area - intersect_area\n",
        "    # calculate IoU, add epsilon in denominator to avoid dividing by 0\n",
        "    iou = intersect_area / (union_area + K.epsilon())\n",
        "\n",
        "    # get enclosed area\n",
        "    enclose_mins = K.minimum(b_true_mins, b_pred_mins)\n",
        "    enclose_maxes = K.maximum(b_true_maxes, b_pred_maxes)\n",
        "    enclose_wh = K.maximum(enclose_maxes - enclose_mins, 0.0)\n",
        "    enclose_area = enclose_wh[..., 0] * enclose_wh[..., 1]\n",
        "    # calculate GIoU, add epsilon in denominator to avoid dividing by 0\n",
        "    giou = iou - 1.0 * (enclose_area - union_area) / (enclose_area + K.epsilon())\n",
        "    giou = K.expand_dims(giou, -1)\n",
        "\n",
        "    return giou\n",
        "\n",
        "\n",
        "def box_diou(b_true, b_pred, use_ciou=False):\n",
        "    \"\"\"\n",
        "        \"Distance-IoU Loss: Faster and Better Learning for Bounding Box Regression\"\n",
        "    \"\"\"\n",
        "    b_true_xy = b_true[..., :2]\n",
        "    b_true_wh = b_true[..., 2:4]\n",
        "    b_true_wh_half = b_true_wh/2.\n",
        "    b_true_mins = b_true_xy - b_true_wh_half\n",
        "    b_true_maxes = b_true_xy + b_true_wh_half\n",
        "\n",
        "    b_pred_xy = b_pred[..., :2]\n",
        "    b_pred_wh = b_pred[..., 2:4]\n",
        "    b_pred_wh_half = b_pred_wh/2.\n",
        "    b_pred_mins = b_pred_xy - b_pred_wh_half\n",
        "    b_pred_maxes = b_pred_xy + b_pred_wh_half\n",
        "\n",
        "    intersect_mins = K.maximum(b_true_mins, b_pred_mins)\n",
        "    intersect_maxes = K.minimum(b_true_maxes, b_pred_maxes)\n",
        "    intersect_wh = K.maximum(intersect_maxes - intersect_mins, 0.)\n",
        "    intersect_area = intersect_wh[..., 0] * intersect_wh[..., 1]\n",
        "    b_true_area = b_true_wh[..., 0] * b_true_wh[..., 1]\n",
        "    b_pred_area = b_pred_wh[..., 0] * b_pred_wh[..., 1]\n",
        "    union_area = b_true_area + b_pred_area - intersect_area\n",
        "    # calculate IoU, add epsilon in denominator to avoid dividing by 0\n",
        "    iou = intersect_area / (union_area + K.epsilon())\n",
        "\n",
        "    # box center distance\n",
        "    center_distance = K.sum(K.square(b_true_xy - b_pred_xy), axis=-1)\n",
        "    # get enclosed area\n",
        "    enclose_mins = K.minimum(b_true_mins, b_pred_mins)\n",
        "    enclose_maxes = K.maximum(b_true_maxes, b_pred_maxes)\n",
        "    enclose_wh = K.maximum(enclose_maxes - enclose_mins, 0.0)\n",
        "    # get enclosed diagonal distance\n",
        "    enclose_diagonal = K.sum(K.square(enclose_wh), axis=-1)\n",
        "    # calculate DIoU, add epsilon in denominator to avoid dividing by 0\n",
        "    diou = iou - 1.0 * (center_distance) / (enclose_diagonal + K.epsilon())\n",
        "\n",
        "    if use_ciou:\n",
        "        # calculate param v and alpha to extend to CIoU\n",
        "        v = 4*K.square(tf.math.atan2(b_true_wh[..., 0], b_true_wh[..., 1]) - tf.math.atan2(b_pred_wh[..., 0], b_pred_wh[..., 1])) / (math.pi * math.pi)\n",
        "        v = v * tf.stop_gradient(b_pred_wh[..., 0] * b_pred_wh[..., 0] + b_pred_wh[..., 1] * b_pred_wh[..., 1])\n",
        "\n",
        "        alpha = v / (1.0 - iou + v)\n",
        "        diou = diou - alpha*v\n",
        "\n",
        "    diou = K.expand_dims(diou, -1)\n",
        "    return diou\n",
        "\n",
        "\n",
        "def _smooth_labels(y_true, label_smoothing):\n",
        "    label_smoothing = K.constant(label_smoothing, dtype=K.floatx())\n",
        "    return y_true * (1.0 - label_smoothing) + 0.5 * label_smoothing\n",
        "\n",
        "\n",
        "def yolo3_loss(args, anchors, num_classes, ignore_thresh=.5, label_smoothing= 0, elim_grid_sense=False, use_focal_loss=False, use_softmax_loss=True, use_focal_obj_loss=False,  use_giou_loss=False, use_diou_loss=True ):\n",
        "    '''\n",
        "    YOLOv3 loss function.\n",
        "    Parameters\n",
        "    ----------\n",
        "    yolo_outputs: list of tensor, the output of yolo_body\n",
        "    y_true: list of array, the output of preprocess_true_boxes\n",
        "    anchors: array, shape=(N, 2), wh\n",
        "    num_classes: integer\n",
        "    ignore_thresh: float, the iou threshold whether to ignore object confidence loss\n",
        "    Returns\n",
        "    -------\n",
        "    loss: tensor, shape=(1,)\n",
        "    '''\n",
        "    num_layers = len(anchors)//3 # default setting\n",
        "    yolo_outputs = args[:num_layers]\n",
        "    y_true = args[num_layers:]\n",
        "\n",
        "    if num_layers == 3:\n",
        "        anchor_mask = [[6,7,8], [3,4,5], [0,1,2]]\n",
        "        scale_x_y = [1.05, 1.1, 1.2] if elim_grid_sense else [None, None, None]\n",
        "    else:\n",
        "        anchor_mask = [[3,4,5], [0,1,2]]\n",
        "        scale_x_y = [1.05, 1.05] if elim_grid_sense else [None, None]\n",
        "\n",
        "    input_shape = K.cast(K.shape(yolo_outputs[0])[1:3] * 32, K.dtype(y_true[0]))\n",
        "    grid_shapes = [K.cast(K.shape(yolo_outputs[i])[1:3], K.dtype(y_true[0])) for i in range(num_layers)]\n",
        "    loss = 0\n",
        "    total_location_loss = 0\n",
        "    total_confidence_loss = 0\n",
        "    total_class_loss = 0\n",
        "    batch_size = K.shape(yolo_outputs[0])[0] # batch size, tensor\n",
        "    batch_size_f = K.cast(batch_size, K.dtype(yolo_outputs[0]))\n",
        "\n",
        "    for i in range(num_layers):\n",
        "        object_mask = y_true[i][..., 4:5]\n",
        "        true_class_probs = y_true[i][..., 5:]\n",
        "        if label_smoothing:\n",
        "\n",
        "            true_class_probs = _smooth_labels(true_class_probs, label_smoothing)\n",
        "            true_objectness_probs = _smooth_labels(object_mask, label_smoothing)\n",
        "        else:\n",
        "            true_objectness_probs = object_mask\n",
        "\n",
        "        grid, raw_pred, pred_xy, pred_wh = yolo3_decode(yolo_outputs[i],\n",
        "             anchors[anchor_mask[i]], num_classes, input_shape, scale_x_y=scale_x_y[i], calc_loss=True)\n",
        "        pred_box = K.concatenate([pred_xy, pred_wh])\n",
        "\n",
        "        # Darknet raw box to calculate loss.\n",
        "        raw_true_xy = y_true[i][..., :2]*grid_shapes[i][::-1] - grid\n",
        "        raw_true_wh = K.log(y_true[i][..., 2:4] / anchors[anchor_mask[i]] * input_shape[::-1])\n",
        "        raw_true_wh = K.switch(object_mask, raw_true_wh, K.zeros_like(raw_true_wh)) # avoid log(0)=-inf\n",
        "        box_loss_scale = 2 - y_true[i][...,2:3]*y_true[i][...,3:4]\n",
        "\n",
        "        # Find ignore mask, iterate over each of batch.\n",
        "        ignore_mask = tf.TensorArray(K.dtype(y_true[0]), size=1, dynamic_size=True)\n",
        "        object_mask_bool = K.cast(object_mask, 'bool')\n",
        "        def loop_body(b, ignore_mask):\n",
        "            true_box = tf.boolean_mask(y_true[i][b,...,0:4], object_mask_bool[b,...,0])\n",
        "            iou = box_iou(pred_box[b], true_box)\n",
        "            best_iou = K.max(iou, axis=-1)\n",
        "            ignore_mask = ignore_mask.write(b, K.cast(best_iou<ignore_thresh, K.dtype(true_box)))\n",
        "            return b+1, ignore_mask\n",
        "        _, ignore_mask = tf.while_loop(lambda b,*args: b<batch_size, loop_body, [0, ignore_mask])\n",
        "        ignore_mask = ignore_mask.stack()\n",
        "        ignore_mask = K.expand_dims(ignore_mask, -1)\n",
        "\n",
        "        if use_focal_obj_loss:\n",
        "            # Focal loss for objectness confidence\n",
        "            confidence_loss = sigmoid_focal_loss(true_objectness_probs, raw_pred[...,4:5])\n",
        "        else:    \n",
        "            confidence_loss = object_mask * K.binary_crossentropy(true_objectness_probs, raw_pred[...,4:5], from_logits=True)+ \\\n",
        "                (1-object_mask) * K.binary_crossentropy(object_mask, raw_pred[...,4:5], from_logits=True) * ignore_mask\n",
        "                \n",
        "        if use_focal_loss:\n",
        "            # Focal loss for classification score\n",
        "            if use_softmax_loss:\n",
        "                class_loss = softmax_focal_loss(true_class_probs, raw_pred[...,5:])\n",
        "            else:\n",
        "                class_loss = sigmoid_focal_loss(true_class_probs, raw_pred[...,5:])\n",
        "        else:\n",
        "            if use_softmax_loss:\n",
        "                # use softmax style classification output\n",
        "                class_loss = object_mask * K.expand_dims(K.categorical_crossentropy(true_class_probs, raw_pred[...,5:], from_logits=True), axis=-1)\n",
        "            else:\n",
        "                # use sigmoid style classification output\n",
        "                class_loss = object_mask * K.binary_crossentropy(true_class_probs, raw_pred[...,5:], from_logits=True)\n",
        "\n",
        "\n",
        "        if use_giou_loss:\n",
        "            # Calculate GIoU 'Generalized Intersection...' loss as location loss\n",
        "            raw_true_box = y_true[i][...,0:4]\n",
        "            giou = box_giou(raw_true_box, pred_box)\n",
        "            giou_loss = object_mask * box_loss_scale * (1 - giou)\n",
        "            giou_loss = K.sum(giou_loss) / batch_size_f\n",
        "            location_loss = giou_loss\n",
        "        elif use_diou_loss:\n",
        "            # Calculate DIoU 'Distance'loss as location loss\n",
        "            raw_true_box = y_true[i][...,0:4]\n",
        "            diou = box_diou(raw_true_box, pred_box)\n",
        "            diou_loss = object_mask * box_loss_scale * (1 - diou)\n",
        "            diou_loss = K.sum(diou_loss) / batch_size_f\n",
        "            location_loss = diou_loss\n",
        "        else:\n",
        "            # Standard YOLOv3 location loss\n",
        "            # K.binary_crossentropy is helpful to avoid exp overflow.\n",
        "            xy_loss = object_mask * box_loss_scale * K.binary_crossentropy(raw_true_xy, raw_pred[...,0:2], from_logits=True)\n",
        "            wh_loss = object_mask * box_loss_scale * 0.5 * K.square(raw_true_wh-raw_pred[...,2:4])\n",
        "            xy_loss = K.sum(xy_loss) / batch_size_f\n",
        "            wh_loss = K.sum(wh_loss) / batch_size_f\n",
        "            location_loss = xy_loss + wh_loss\n",
        "\n",
        "        # only involve class loss for multiple classes\n",
        "        if num_classes == 1:\n",
        "            class_loss = K.constant(0)\n",
        "        else:\n",
        "            class_loss = K.sum(class_loss) / batch_size_f\n",
        "\n",
        "        confidence_loss = K.sum(confidence_loss) / batch_size_f\n",
        "        loss += location_loss + confidence_loss + class_loss\n",
        "        total_location_loss += location_loss\n",
        "        total_confidence_loss += confidence_loss\n",
        "        total_class_loss += class_loss\n",
        "\n",
        "    # Fit for tf 2.0.0 loss shape\n",
        "    loss = K.expand_dims(loss, axis=-1)\n",
        "\n",
        "    return loss #,total_location_loss, total_confidence_loss, total_class_loss"
      ]
    },
    {
      "cell_type": "markdown",
      "metadata": {
        "id": "YlqIAenfnBRh"
      },
      "source": [
        "## **Create the training model**"
      ]
    },
    {
      "cell_type": "code",
      "execution_count": null,
      "metadata": {
        "id": "FppTxgF9I_Zv"
      },
      "outputs": [],
      "source": [
        "def create_model(input_shape,anchors,num_classes,backboon='Darknet' ,load_pretrained=True, freeze_body=0,elim_grid_sense=False,\n",
        "                 weights_path='/content/drive/MyDrive/Detection_models/pré-trined/yolov4.h5',label_smoothing=0):\n",
        "  \n",
        "    K.clear_session() # get a new session\n",
        "    image_input = Input(shape=(None, None, 3))\n",
        "    h, w = input_shape\n",
        "    num_anchors = len(anchors)\n",
        "\n",
        "    y_true = [Input(shape=(h//{0:32, 1:16, 2:8}[l], w//{0:32, 1:16, 2:8}[l], \\\n",
        "        num_anchors//3, num_classes+5)) for l in range(3)]\n",
        "\n",
        "    if(backboon=='Darknet'):\n",
        "      model_body = yolo_body(image_input, num_anchors//3, num_classes)\n",
        "      print('yolo based Darknet')\n",
        "    elif(backboon=='MobileNet'):\n",
        "      model_body=yolo_body_MobileNet(image_input, num_anchors//3, num_classes)\n",
        "      print('yolo based MobileNet')\n",
        "\n",
        "    print('Create YOLOv3 model based on {} with {} anchors and {} classes.'.format(backboon,num_anchors, num_classes))\n",
        "\n",
        "    if load_pretrained:\n",
        "        model_body.load_weights(weights_path, by_name=True, skip_mismatch=True)\n",
        "        print('Load weights {}.'.format(weights_path))\n",
        "        # if freeze_body in [1, 2]:\n",
        "        #     # Freeze darknet53 body or freeze all but 3 output layers.\n",
        "        #     num = (185, len(model_body.layers)-3)[freeze_body-1]\n",
        "        #     for i in range(num): model_body.layers[i].trainable = False\n",
        "        #     print('Freeze the first {} layers of total {} layers.'.format(num, len(model_body.layers)))\n",
        "\n",
        "\n",
        "    # model_loss = Lambda(yolo_loss, output_shape=(1,), name='yolo_loss',\n",
        "    #     arguments={'anchors': anchors, 'num_classes': num_classes, 'ignore_thresh': 0.5})(\n",
        "    #     [*model_body.output, *y_true])\n",
        "    # model = Model([model_body.input, *y_true], model_loss)\n",
        "    #-------------\n",
        "    #, location_loss, confidence_loss, class_loss\n",
        "    model_loss = Lambda(yolo3_loss, name='yolo_loss',\n",
        "            arguments={'anchors': anchors, 'num_classes': num_classes, 'ignore_thresh': 0.5, 'label_smoothing': label_smoothing, 'elim_grid_sense': elim_grid_sense})(\n",
        "        [*model_body.output, *y_true])\n",
        "\n",
        "    model = Model([model_body.input, *y_true], model_loss)\n",
        "\n",
        "    # loss_dict = {'location_loss':location_loss, 'confidence_loss':confidence_loss, 'class_loss':class_loss}\n",
        "    # add_metrics(model, loss_dict)\n",
        "    \n",
        "    return  model"
      ]
    },
    {
      "cell_type": "markdown",
      "metadata": {
        "id": "RGvejUfgCbJ7"
      },
      "source": [
        "add metric scalar tensor into model, which could be tracked in training\n",
        "    log and tensorboard callback"
      ]
    },
    {
      "cell_type": "code",
      "execution_count": null,
      "metadata": {
        "id": "G6bej-tGOxDW"
      },
      "outputs": [],
      "source": [
        "def add_metrics(model, metric_dict):\n",
        "    for (name, metric) in metric_dict.items():\n",
        "        model.add_metric(metric, name=name, aggregation='mean')"
      ]
    },
    {
      "cell_type": "markdown",
      "metadata": {
        "id": "ILWe8x1m3ky-"
      },
      "source": [
        "**original loss**"
      ]
    },
    {
      "cell_type": "code",
      "execution_count": null,
      "metadata": {
        "id": "pTh8rpFjQfo9"
      },
      "outputs": [],
      "source": [
        "def yolo_loss(args, anchors, num_classes, ignore_thresh=.5, print_loss=False):\n",
        "    '''Return yolo_loss tensor\n",
        "    Parameters\n",
        "    ----------\n",
        "    yolo_outputs: list of tensor, the output of yolo_body or tiny_yolo_body\n",
        "    y_true: list of array, the output of preprocess_true_boxes\n",
        "    anchors: array, shape=(N, 2), wh\n",
        "    num_classes: integer\n",
        "    ignore_thresh: float, the iou threshold whether to ignore object confidence loss\n",
        "    Returns\n",
        "    -------\n",
        "    loss: tensor, shape=(1,)\n",
        "    '''\n",
        "    num_layers = len(anchors)//3 # default setting\n",
        "    yolo_outputs = args[:num_layers]\n",
        "    y_true = args[num_layers:]\n",
        "    anchor_mask = [[6,7,8], [3,4,5], [0,1,2]] if num_layers==3 else [[3,4,5], [1,2,3]]\n",
        "    input_shape = K.cast(K.shape(yolo_outputs[0])[1:3] * 32, K.dtype(y_true[0]))\n",
        "    grid_shapes = [K.cast(K.shape(yolo_outputs[l])[1:3], K.dtype(y_true[0])) for l in range(num_layers)]\n",
        "    loss = 0\n",
        "    m = K.shape(yolo_outputs[0])[0] # batch size, tensor\n",
        "    mf = K.cast(m, K.dtype(yolo_outputs[0]))\n",
        "\n",
        "    for l in range(num_layers):\n",
        "        object_mask = y_true[l][..., 4:5]\n",
        "        true_class_probs = y_true[l][..., 5:]\n",
        "\n",
        "        grid, raw_pred, pred_xy, pred_wh = yolo_head(yolo_outputs[l],\n",
        "             anchors[anchor_mask[l]], num_classes, input_shape, calc_loss=True)\n",
        "        pred_box = K.concatenate([pred_xy, pred_wh])\n",
        "\n",
        "        # Darknet raw box to calculate loss.\n",
        "        raw_true_xy = y_true[l][..., :2]*grid_shapes[l][::-1] - grid\n",
        "        raw_true_wh = K.log(y_true[l][..., 2:4] / anchors[anchor_mask[l]] * input_shape[::-1])\n",
        "        raw_true_wh = K.switch(object_mask, raw_true_wh, K.zeros_like(raw_true_wh)) # avoid log(0)=-inf\n",
        "        box_loss_scale = 2 - y_true[l][...,2:3]*y_true[l][...,3:4]\n",
        "\n",
        "        # Find ignore mask, iterate over each of batch.\n",
        "        ignore_mask = tf.TensorArray(K.dtype(y_true[0]), size=1, dynamic_size=True)\n",
        "        object_mask_bool = K.cast(object_mask, 'bool')\n",
        "        def loop_body(b, ignore_mask):\n",
        "            true_box = tf.boolean_mask(y_true[l][b,...,0:4], object_mask_bool[b,...,0])\n",
        "            iou = box_iou(pred_box[b], true_box)\n",
        "            best_iou = K.max(iou, axis=-1)\n",
        "            ignore_mask = ignore_mask.write(b, K.cast(best_iou<ignore_thresh, K.dtype(true_box)))\n",
        "            return b+1, ignore_mask\n",
        "        _, ignore_mask =tf.while_loop(lambda b,*args: b<m, loop_body, [0, ignore_mask])   #K.control_flow_ops.while_loop  \n",
        "        ignore_mask = ignore_mask.stack()\n",
        "        ignore_mask = K.expand_dims(ignore_mask, -1)\n",
        "\n",
        "        # K.binary_crossentropy is helpful to avoid exp overflow.\n",
        "        xy_loss = object_mask * box_loss_scale * K.binary_crossentropy(raw_true_xy, raw_pred[...,0:2], from_logits=True)\n",
        "        wh_loss = object_mask * box_loss_scale * 0.5 * K.square(raw_true_wh-raw_pred[...,2:4])\n",
        "        confidence_loss = object_mask * K.binary_crossentropy(object_mask, raw_pred[...,4:5], from_logits=True)+ \\\n",
        "            (1-object_mask) * K.binary_crossentropy(object_mask, raw_pred[...,4:5], from_logits=True) * ignore_mask\n",
        "        class_loss = object_mask * K.binary_crossentropy(true_class_probs, raw_pred[...,5:], from_logits=True)\n",
        "\n",
        "        xy_loss = K.sum(xy_loss) / mf\n",
        "        wh_loss = K.sum(wh_loss) / mf\n",
        "        confidence_loss = K.sum(confidence_loss) / mf\n",
        "        class_loss = K.sum(class_loss) / mf\n",
        "        print(\"xy_loss\",xy_loss,\"\\nwh_loss\",wh_loss,\"\\nconfidence_loss\",confidence_loss,\"\\nclass_loss\",class_loss)\n",
        "        loss += xy_loss + wh_loss + confidence_loss + class_loss\n",
        "        if print_loss:\n",
        "            loss = tf.Print(loss, [loss, xy_loss, wh_loss, confidence_loss, class_loss, K.sum(ignore_mask)], message='loss: ')\n",
        "    return loss"
      ]
    },
    {
      "cell_type": "markdown",
      "metadata": {
        "id": "IG_4KWZoOcuT"
      },
      "source": [
        "#New preprossesing & augmentations"
      ]
    },
    {
      "cell_type": "code",
      "execution_count": null,
      "metadata": {
        "id": "ohzlgWUkqyf0"
      },
      "outputs": [],
      "source": [
        "from sklearn.model_selection import train_test_split\n",
        "from tensorflow.random import set_seed"
      ]
    },
    {
      "cell_type": "code",
      "execution_count": null,
      "metadata": {
        "id": "4JgihtPstIjB"
      },
      "outputs": [],
      "source": [
        "input_folder= '/content/Datasets/INbreast Release 1.0/'\n",
        "\n",
        "seed=60\n",
        "batch_size=16\n",
        "size=256\n",
        "\n",
        "np.random.seed(seed)\n",
        "set_seed(seed)\n",
        "random.seed(seed)"
      ]
    },
    {
      "cell_type": "code",
      "execution_count": null,
      "metadata": {
        "colab": {
          "base_uri": "https://localhost:8080/"
        },
        "id": "Gmy5ME5qqSOu",
        "outputId": "8938003a-09df-4f51-c26b-ef24c40188de"
      },
      "outputs": [
        {
          "name": "stdout",
          "output_type": "stream",
          "text": [
            "train set: 308\n",
            "test set: 35\n"
          ]
        }
      ],
      "source": [
        "import glob\n",
        "XMLS=input_folder+'AllXML/*.xml'\n",
        "xml=glob.glob(XMLS)\n",
        "Callcification_PATIENT_ID=[x.split('/')[-1].split('.')[0]for x in xml]\n",
        "\n",
        "# Split the data into train val & test set\n",
        "train_set,test_set  = train_test_split(Callcification_PATIENT_ID, test_size = 0.1, random_state=seed)\n",
        "# train_set, test_set = train_test_split(train_set, test_size = 0.11, random_state=seed)\n",
        "\n",
        "print(\"train set: {0}\\ntest set: {1}\".format(len(train_set),\n",
        "                                    # len(val_set),\n",
        "                                    len(test_set)\n",
        "                                    )\n",
        "      )"
      ]
    },
    {
      "cell_type": "code",
      "execution_count": null,
      "metadata": {
        "id": "pmyv-AnTWi6G"
      },
      "outputs": [],
      "source": [
        "gen_dataset_path='Train_Set/'\n",
        "!rm -r {gen_dataset_path}\n",
        "!mkdir {gen_dataset_path}\n",
        "!mkdir {gen_dataset_path+'Images/'}\n",
        "!mkdir {gen_dataset_path+'Masks_masses/'}\n",
        "!mkdir {gen_dataset_path+'Masks_cal/'}"
      ]
    },
    {
      "cell_type": "code",
      "execution_count": null,
      "metadata": {
        "colab": {
          "base_uri": "https://localhost:8080/",
          "height": 49,
          "referenced_widgets": [
            "89e86411ab8646ce86216268879a6fac",
            "27272f418c1b4e2a9d49c5c885f908ea",
            "9d5b5c09c9494287ad275b456a25b4c9",
            "e0103b97a6154a52acbefa22c28d40dd",
            "678a5b7d9be848d7a116f7f6b9a26408",
            "63f50c934f344717b7e0c0f3fde63f22",
            "d3d9e158ca924d868f44803dda69b5dd",
            "a11ffcd4d9d34a189fe9c91e2299908c",
            "23abba78e3a54df091d8e884ae897d79",
            "ee190b529fb64293a09d9c944dd10855",
            "c319d6f790084c01a92883c6ef0d645b"
          ]
        },
        "id": "XF3FR-CGq0k8",
        "outputId": "00286575-21de-4650-8640-a6c83949ce2e"
      },
      "outputs": [
        {
          "data": {
            "application/vnd.jupyter.widget-view+json": {
              "model_id": "89e86411ab8646ce86216268879a6fac",
              "version_major": 2,
              "version_minor": 0
            },
            "text/plain": [
              "  0%|          | 0/308 [00:00<?, ?it/s]"
            ]
          },
          "metadata": {},
          "output_type": "display_data"
        }
      ],
      "source": [
        "PreprocessDicomPatches(train_set, 256, 1, input_folder, gen_dataset_path)"
      ]
    },
    {
      "cell_type": "code",
      "execution_count": null,
      "metadata": {
        "colab": {
          "base_uri": "https://localhost:8080/",
          "height": 67,
          "referenced_widgets": [
            "0cd74459e41e4f1a96a818abc0a96983",
            "496241d3be084323a2cb82761190b798",
            "3a52d948ddd84108920a33bde681a016",
            "17f29ad5fd8d4a77a8dc6340b5a40f02",
            "fe1168c218114efc83ac14f51241ac4f",
            "392d66c47d4d466d80ce85bfdd33811d",
            "c1cc5414e6de407ea0eeb7c3728c0040",
            "a224508e280c48308b131f50efa3acca",
            "5e23a318cb974aa584b5e1f9b8398376",
            "288089f2ef984606b5a5b7a9ad1a9d48",
            "99f7ce4e05bc4df2895aa3eb1ba6fe26"
          ]
        },
        "id": "jQ7sVlEQTO6n",
        "outputId": "6a916bdd-bb43-4c40-9b5c-577e319e1812"
      },
      "outputs": [
        {
          "data": {
            "application/vnd.jupyter.widget-view+json": {
              "model_id": "0cd74459e41e4f1a96a818abc0a96983",
              "version_major": 2,
              "version_minor": 0
            },
            "text/plain": [
              "  0%|          | 0/34858 [00:00<?, ?it/s]"
            ]
          },
          "metadata": {},
          "output_type": "display_data"
        },
        {
          "data": {
            "text/plain": [
              "33952"
            ]
          },
          "execution_count": 62,
          "metadata": {},
          "output_type": "execute_result"
        }
      ],
      "source": [
        "fargh=0\n",
        "for p in tqdm(glob.glob(gen_dataset_path+'Masks_masses/*')):\n",
        "  if len(np.unique(dicom.dcmread(p).pixel_array))-1==0:\n",
        "    fargh=fargh+1\n",
        "fargh"
      ]
    },
    {
      "cell_type": "code",
      "execution_count": null,
      "metadata": {
        "colab": {
          "base_uri": "https://localhost:8080/",
          "height": 67,
          "referenced_widgets": [
            "4ee05fa6b74b4a7891766eb97a4dc365",
            "64251f5ec14944b6be2a53aafd593dae",
            "7ab97aa361664ea0bea33907fbb0e9ae",
            "98f00af3d0db4e5db84d00794315fb76",
            "2b4377944712406892af5194038a0b60",
            "5db8ac5ccd3245539276938bebac7964",
            "faae30869433403c9182cdbebc54ce3e",
            "65f0079f8d9446028164e678060c41ab",
            "7d6a7579c9d44d7793858debe0fe8519",
            "450baa689a28419190748267adfbfc6b",
            "5fa8a1e0138148f6b3c2d32b11f9c37c"
          ]
        },
        "id": "NHWSwyb3UNqm",
        "outputId": "3f166a4a-47ea-443b-e2c3-4703d97d7f4d"
      },
      "outputs": [
        {
          "data": {
            "application/vnd.jupyter.widget-view+json": {
              "model_id": "4ee05fa6b74b4a7891766eb97a4dc365",
              "version_major": 2,
              "version_minor": 0
            },
            "text/plain": [
              "  0%|          | 0/34665 [00:00<?, ?it/s]"
            ]
          },
          "metadata": {},
          "output_type": "display_data"
        },
        {
          "data": {
            "text/plain": [
              "30776"
            ]
          },
          "execution_count": 54,
          "metadata": {},
          "output_type": "execute_result"
        }
      ],
      "source": [
        "farghs=0\n",
        "for p in tqdm(glob.glob(gen_dataset_path+'Masks_cal/*')):\n",
        "  if len(np.unique(dicom.dcmread(p).pixel_array))-1==0:\n",
        "    farghs=farghs+1\n",
        "farghs"
      ]
    },
    {
      "cell_type": "code",
      "execution_count": null,
      "metadata": {
        "colab": {
          "base_uri": "https://localhost:8080/",
          "height": 103,
          "referenced_widgets": [
            "f99c82d9d79d45e89e983f412f10b4c3",
            "6de7f55f67014f6c80a2ab32f9578253",
            "59a938f6cf8644fcb3d88c42fc5204c5",
            "5ffeb5dcb8f04437a41bb8aa178a4a0b",
            "615d969273c5481ca44ec079c4c69924",
            "80a8035ed69d455b9cd99d95370efb6b",
            "ed663006b0ad48c8b86fdea611e4ff76",
            "ca6672dab20e47aba74406ac699eca89",
            "94e12607db9744dd86ed919d4939a9ec",
            "88e02953efb94085b40e96d2f366c56c",
            "98faa6b58b9847c79f590612e4eea241"
          ]
        },
        "id": "5gWSugcSVVdr",
        "outputId": "0112de1a-67e9-42c3-9231-f01d198668c1"
      },
      "outputs": [
        {
          "name": "stdout",
          "output_type": "stream",
          "text": [
            "34858\n"
          ]
        },
        {
          "data": {
            "application/vnd.jupyter.widget-view+json": {
              "model_id": "f99c82d9d79d45e89e983f412f10b4c3",
              "version_major": 2,
              "version_minor": 0
            },
            "text/plain": [
              "  0%|          | 0/34858 [00:00<?, ?it/s]"
            ]
          },
          "metadata": {},
          "output_type": "display_data"
        },
        {
          "name": "stdout",
          "output_type": "stream",
          "text": [
            "30053\n",
            "34858\n"
          ]
        }
      ],
      "source": [
        "cpt=0\n",
        "IDs=[]\n",
        "print(len(glob.glob(gen_dataset_path+'Images/*')))\n",
        "for p in tqdm(glob.glob(gen_dataset_path+'Images/*')):\n",
        "    if len(np.unique(dicom.dcmread(gen_dataset_path+'Masks_masses/'+p.split(\"/\")[-1]).pixel_array))-1==0 and len(np.unique(dicom.dcmread(gen_dataset_path+'Masks_cal/'+p.split(\"/\")[-1]).pixel_array))-1==0:\n",
        "      cpt=cpt+1\n",
        "      IDs.append(p)\n",
        "print(cpt)\n",
        "print(len(glob.glob(gen_dataset_path+'Images/*')))\n"
      ]
    },
    {
      "cell_type": "code",
      "execution_count": null,
      "metadata": {
        "colab": {
          "background_save": true
        },
        "id": "hQnLlZJHvIkr",
        "outputId": "397cb2ef-ecb0-447f-b8cb-0bf237182cdf"
      },
      "outputs": [
        {
          "data": {
            "application/vnd.google.colaboratory.intrinsic+json": {
              "type": "string"
            },
            "text/plain": [
              "'Train_Set/Images/35_57.dcm'"
            ]
          },
          "execution_count": 88,
          "metadata": {},
          "output_type": "execute_result"
        }
      ],
      "source": [
        "ss=random.choice(IDs)\n",
        "ss"
      ]
    },
    {
      "cell_type": "code",
      "execution_count": null,
      "metadata": {
        "id": "XvGHJr_hoJot"
      },
      "outputs": [],
      "source": [
        "print(len(IDs))\n",
        "print(len(glob.glob(gen_dataset_path+'Images/*')),len(glob.glob(gen_dataset_path+'Masks_masses/*')),len(glob.glob(gen_dataset_path+'Masks_cal/*')))\n",
        "# 25248\n",
        "for i in range(25248):\n",
        "    pat=random.choice(IDs)\n",
        "    os.remove(pat)\n",
        "    os.remove(gen_dataset_path+'Masks_masses/'+pat.split(\"/\")[-1])\n",
        "    os.remove(gen_dataset_path+'Masks_cal/'+pat.split(\"/\")[-1])   \n",
        "\n",
        "print(len(IDs))\n",
        "print(len(glob.glob(gen_dataset_path+'Images/*')),len(glob.glob(gen_dataset_path+'Masks_masses/*')),len(glob.glob(gen_dataset_path+'Masks_cal/*')))"
      ]
    },
    {
      "cell_type": "markdown",
      "metadata": {
        "id": "b0LbrtdNuJMK"
      },
      "source": [
        "Test data"
      ]
    },
    {
      "cell_type": "code",
      "execution_count": null,
      "metadata": {
        "id": "z2QsRTIjjCUb"
      },
      "outputs": [],
      "source": [
        "gen_dataset_path='Test_Set/'\n",
        "!rm -r {gen_dataset_path}\n",
        "!mkdir {gen_dataset_path}\n",
        "!mkdir {gen_dataset_path+'Images/'}\n",
        "!mkdir {gen_dataset_path+'Masks_masses/'}\n",
        "!mkdir {gen_dataset_path+'Masks_cal/'}"
      ]
    },
    {
      "cell_type": "code",
      "execution_count": null,
      "metadata": {
        "id": "PAnPdycKjFN7"
      },
      "outputs": [],
      "source": [
        "# PreprocessDicomPatches(test_set, 512, 8, input_folder, gen_dataset_path)"
      ]
    },
    {
      "cell_type": "code",
      "execution_count": null,
      "metadata": {
        "id": "IhWR0857HyuQ"
      },
      "outputs": [],
      "source": [
        "# !zip -r '/content/drive/MyDrive/INBreast_Dataset/Dicom_Test_data.zip' '/content/Test_Set'\n"
      ]
    },
    {
      "cell_type": "code",
      "execution_count": null,
      "metadata": {
        "colab": {
          "base_uri": "https://localhost:8080/",
          "height": 328
        },
        "id": "qNgRnMPUEagJ",
        "outputId": "c54222f2-104d-4bd0-a41e-ca14ef45922e"
      },
      "outputs": [
        {
          "name": "stdout",
          "output_type": "stream",
          "text": [
            "nb calc 0 nb masses 0\n"
          ]
        },
        {
          "data": {
            "image/png": "[encoded data removed]",
            "text/plain": [
              "<Figure size 1080x1080 with 3 Axes>"
            ]
          },
          "metadata": {},
          "output_type": "display_data"
        }
      ],
      "source": [
        "# r=random.choice(glob.glob('GenDataset/'+'Images/*')).split(\"/\")[-1]\n",
        "r=random.choice(glob.glob('Train_Set/'+'Images/*')).split(\"/\")[-1]\n",
        "\n",
        "fig = plt.figure(figsize=(15, 15))\n",
        "\n",
        "fig.add_subplot(131)\n",
        "# fig.add_subplot(121)\n",
        "plt.title(\"Mamo\")\n",
        "plt.imshow(dicom.dcmread('Train_Set/'+'Images/'+r).pixel_array)\n",
        "\n",
        "dc_test_mask_cal=dicom.dcmread('Train_Set/'+'Masks_cal/'+r).pixel_array\n",
        "fig.add_subplot(132)\n",
        "# fig.add_subplot(122)\n",
        "plt.title(\"Calcification mask\")\n",
        "plt.imshow(dc_test_mask_cal, cmap=\"binary\")\n",
        "\n",
        "dc_test_mask_masse=dicom.dcmread('Train_Set/'+'Masks_masses/'+r).pixel_array\n",
        "\n",
        "fig.add_subplot(133)\n",
        "plt.title(\"Masse mask\")\n",
        "plt.imshow(dc_test_mask_masse, cmap=\"binary\")\n",
        "print(\"nb calc\", len(np.unique(dc_test_mask_cal))-1,\"nb masses\", len(np.unique(dc_test_mask_masse))-1)\n",
        "plt.show()"
      ]
    },
    {
      "cell_type": "markdown",
      "metadata": {
        "id": "KaoFxhrzRy91"
      },
      "source": [
        "# **Truth_Data_generators**"
      ]
    },
    {
      "cell_type": "markdown",
      "metadata": {
        "id": "LTorSZDynbG_"
      },
      "source": [
        "**Preprocess true boxes to training input format**\n",
        "    Parameters\n",
        "    ----------\n",
        "    true_boxes: array, shape=(m, T, 5)\n",
        "        Absolute x_min, y_min, x_max, y_max, class_id relative to input_shape.\n",
        "    input_shape: array-like, hw, multiples of 32\n",
        "    anchors: array, shape=(N, 2), wh\n",
        "    num_classes: integer\n",
        "    Returns\n",
        "    -------\n",
        "    y_true: list of array, shape like yolo_outputs, xywh are reletive value\n",
        "    "
      ]
    },
    {
      "cell_type": "code",
      "execution_count": null,
      "metadata": {
        "id": "DtV3l3AMnV11"
      },
      "outputs": [],
      "source": [
        "def preprocess_true_boxes(true_boxes, input_shape, anchors, num_classes):\n",
        "   \n",
        "    assert (true_boxes[..., 4]<num_classes).all(), 'class id must be less than num_classes'\n",
        "    num_layers = len(anchors)//3 # default setting\n",
        "    anchor_mask = [[6,7,8], [3,4,5], [0,1,2]] if num_layers==3 else [[3,4,5], [1,2,3]]\n",
        "\n",
        "    true_boxes = np.array(true_boxes, dtype='float32')\n",
        "    input_shape = np.array(input_shape, dtype='int32')\n",
        "    boxes_xy = (true_boxes[..., 0:2] + true_boxes[..., 2:4]) // 2\n",
        "    boxes_wh = true_boxes[..., 2:4] - true_boxes[..., 0:2]\n",
        "    true_boxes[..., 0:2] = boxes_xy/input_shape[::-1]\n",
        "    true_boxes[..., 2:4] = boxes_wh/input_shape[::-1]\n",
        "\n",
        "\n",
        "    m = true_boxes.shape[0]\n",
        "    grid_shapes = [input_shape//{0:32, 1:16, 2:8}[l] for l in range(num_layers)]\n",
        "    y_true = [np.zeros((m,grid_shapes[l][0],grid_shapes[l][1],len(anchor_mask[l]),5+num_classes),\n",
        "        dtype='float32') for l in range(num_layers)]\n",
        "\n",
        "    # Expand dim to apply broadcasting.\n",
        "    anchors = np.expand_dims(anchors, 0)\n",
        "    anchor_maxes = anchors / 2.\n",
        "    anchor_mins = -anchor_maxes\n",
        "    valid_mask = boxes_wh[..., 0]>0\n",
        "\n",
        "    for b in range(m):\n",
        "        # Discard zero rows.\n",
        "        wh = boxes_wh[b, valid_mask[b]]\n",
        "        if len(wh)==0: continue\n",
        "        # Expand dim to apply broadcasting.\n",
        "        wh = np.expand_dims(wh, -2)\n",
        "        box_maxes = wh / 2.\n",
        "        box_mins = -box_maxes\n",
        "\n",
        "        intersect_mins = np.maximum(box_mins, anchor_mins)\n",
        "        intersect_maxes = np.minimum(box_maxes, anchor_maxes)\n",
        "        intersect_wh = np.maximum(intersect_maxes - intersect_mins, 0.)\n",
        "        intersect_area = intersect_wh[..., 0] * intersect_wh[..., 1]\n",
        "        box_area = wh[..., 0] * wh[..., 1]\n",
        "        anchor_area = anchors[..., 0] * anchors[..., 1]\n",
        "        iou = intersect_area / (box_area + anchor_area - intersect_area)\n",
        "\n",
        "        # Find best anchor for each true box\n",
        "        best_anchor = np.argmax(iou, axis=-1)\n",
        "\n",
        "        for t, n in enumerate(best_anchor):\n",
        "            for l in range(num_layers):\n",
        "                if n in anchor_mask[l]:\n",
        "                    i = np.floor(true_boxes[b,t,0]*grid_shapes[l][1]).astype('int32')\n",
        "                    j = np.floor(true_boxes[b,t,1]*grid_shapes[l][0]).astype('int32')\n",
        "                    k = anchor_mask[l].index(n)\n",
        "                    c = true_boxes[b,t, 4].astype('int32')\n",
        "                    y_true[l][b, j, i, k, 0:4] = true_boxes[b,t, 0:4]\n",
        "                    y_true[l][b, j, i, k, 4] = 1\n",
        "                    y_true[l][b, j, i, k, 5+c] = 1\n",
        "\n",
        "    return y_true"
      ]
    },
    {
      "cell_type": "code",
      "execution_count": null,
      "metadata": {
        "id": "lfz0B-vTJQY5"
      },
      "outputs": [],
      "source": [
        "from itertools import count\n",
        "def data_generator(ens,batch_size, input_shape, anchors, num_classes,size,DatasetPath):\n",
        "    \n",
        "    # if(ens==1):\n",
        "    #   n = 240\n",
        "    #   Gen=train_generator\n",
        "    # elif(ens==2): \n",
        "    #   n=68\n",
        "    #   Gen=val_generator\n",
        "    n=len(ens)\n",
        "    i = 0\n",
        "    \n",
        "    while True:\n",
        "        image_data = []\n",
        "        list_box_data = []\n",
        "        # image,mask=next(Gen)\n",
        "        \n",
        "        for b in range(batch_size):\n",
        "            box = []\n",
        "            image= dicom.dcmread(DatasetPath+'Images/'+ens[i]).pixel_array/255\n",
        "            #---------------------\n",
        "            mask_cal= dicom.dcmread(DatasetPath+'Masks_cal/'+ens[i]).pixel_array\n",
        "            mask_masse=dicom.dcmread(DatasetPath+'Masks_masses/'+ens[i]).pixel_array\n",
        "\n",
        "            if size != 1024:\n",
        "              image= cv2.resize(image, (size, size), interpolation = cv2.INTER_AREA)\n",
        "              mask_cal= cv2.resize(mask_cal, (size, size), interpolation = cv2.INTER_NEAREST)\n",
        "              mask_masse=cv2.resize(mask_masse, (size, size), interpolation = cv2.INTER_NEAREST)\n",
        "\n",
        "            image_data.append(image)\n",
        "        \n",
        "            box_cal=mask_to_yolo(mask_cal,0)\n",
        "            [box.append(bx) for bx in box_cal]\n",
        "          \n",
        "            box_masse=mask_to_yolo(mask_masse,1)\n",
        "            [box.append(bx) for bx in box_masse]\n",
        "         \n",
        "            box_data = np.zeros((500,5))\n",
        "            box=np.array(box)\n",
        "            \n",
        "            if (len(box)>0):\n",
        "              box_data[:len(box)] =box\n",
        "\n",
        "        \n",
        "            list_box_data.append(box_data)\n",
        "            i = (i+1) % n\n",
        "        \n",
        "        #-------------------\n",
        "        list_box_data=np.array(list_box_data)\n",
        "       \n",
        "        image_data=np.array(image_data)\n",
        "\n",
        "     \n",
        "        y_true = preprocess_true_boxes(list_box_data, input_shape, anchors, num_classes)\n",
        "        \n",
        "        yield [image_data, *y_true], np.zeros(batch_size)"
      ]
    },
    {
      "cell_type": "code",
      "execution_count": null,
      "metadata": {
        "id": "DmGy3NWlJx-p"
      },
      "outputs": [],
      "source": [
        "def rand(a=0, b=1):\n",
        "    return np.random.rand()*(b-a) + a"
      ]
    },
    {
      "cell_type": "markdown",
      "metadata": {
        "id": "SATLU4INMi06"
      },
      "source": [
        "**extarct classes from txt file**"
      ]
    },
    {
      "cell_type": "code",
      "execution_count": null,
      "metadata": {
        "id": "8mheMz_6JQof"
      },
      "outputs": [],
      "source": [
        "def get_classes(classes_path):\n",
        "    with open(classes_path) as f:\n",
        "        class_names = f.readlines()\n",
        "    class_names = [c.strip() for c in class_names]\n",
        "    return class_names"
      ]
    },
    {
      "cell_type": "markdown",
      "metadata": {
        "id": "CHRtcjhdMc1o"
      },
      "source": [
        "**loads the anchors from a file**"
      ]
    },
    {
      "cell_type": "code",
      "execution_count": null,
      "metadata": {
        "id": "rnUd4TqiJQh_"
      },
      "outputs": [],
      "source": [
        "def get_anchors(anchors_path):\n",
        "    with open(anchors_path) as f:\n",
        "        anchors = f.readline()\n",
        "    anchors = [float(x) for x in anchors.split(',')]\n",
        "    return np.array(anchors).reshape(-1, 2)"
      ]
    },
    {
      "cell_type": "markdown",
      "metadata": {
        "id": "ppPiGJlhTDDQ"
      },
      "source": [
        "# **Training process**"
      ]
    },
    {
      "cell_type": "code",
      "execution_count": null,
      "metadata": {
        "cellView": "form",
        "id": "ALx3a99PpX9A"
      },
      "outputs": [],
      "source": [
        "#@title plot_training_statistics{form-width: \"1%\"}\n",
        "def plot_training_statistics(history, path):\n",
        "    epochs = [i for i in range(1, len(history['loss'])+1)]\n",
        "\n",
        "    plt.figure(figsize=(20,6))\n",
        "    keys = history.keys()\n",
        "    keys = [key for key in keys if not \"lr\" in key and not \"val_\" in key]\n",
        "    \n",
        "    for idx, key in enumerate(keys):\n",
        "        plt.subplot(1, len(keys), idx+1)\n",
        "        plt.plot(epochs, history[key], label=\"training_\"+key)\n",
        "        plt.plot(epochs, history['val_'+key], label=\"validation_\"+key)\n",
        "        plt.legend(loc='best')\n",
        "        plt.title(key)\n",
        "        plt.xlabel('epoch')\n",
        "\n",
        "    # plt.subplot(1, len(keys)+1,idx+1)\n",
        "    # plt.title('learning_rate')\n",
        "    # plt.xlabel('epoch')\n",
        "    # plt.plot(epochs, history['lr'], label=\"learning_rate\")\n",
        "\n",
        "    # plt.savefig(f'{path}ploted_stats.png')\n",
        "    plt.show()\n",
        "    plt.close('all')"
      ]
    },
    {
      "cell_type": "code",
      "execution_count": null,
      "metadata": {
        "cellView": "form",
        "id": "IOck3Ii1n_VE"
      },
      "outputs": [],
      "source": [
        "#@title Anchors{form-width: \"1%\"}\n",
        "\n",
        "#0,1,  0,0,  1,0,  2,1,  4,2,  6,3,  11,6,  21,11,  67,38\n",
        "#anchors of masses and calcification\n",
        "# anchors=np.array([[  0.62 ,   0.51 ],\n",
        "#        [  2.24 ,   1.2  ],\n",
        "#        [  5.09 ,   2.63 ],\n",
        "#        [  9.91 ,   4.99 ],\n",
        "#        [ 23.215,  11.155],\n",
        "#        [ 56.485,  26.665],\n",
        "#        [106.62 ,  53.665],\n",
        "#        [180.46 ,  96.915],\n",
        "#        [287.555, 181.29 ]])\n",
        "\n",
        "# anchors = get_anchors(anchors_path)\n",
        "# ANCHORS OF  just Callcifications\n",
        "# anchors= np.array([[ 1.,   1.],\n",
        "#  [ 1.51923077,2.38461538],\n",
        "#  [ 2.45454545 , 1.        ],\n",
        "#  [ 2.74509804 , 5.17647059],\n",
        "#  [ 4.42857143 ,10.95238095],\n",
        "#  [ 4.87301587 , 2.33333333],\n",
        "#  [ 5.         , 1.        ],\n",
        "#  [10.68421053 , 4.47368421],\n",
        "#  [30.65       ,11.7       ]])\n",
        "\n",
        "anchors=[[300,66,333,279,372,362],[163,272,242,130,299,191],[51,43,78, 218,116,84 ]]\n",
        "300,66, 333,279, 372,362, 163,272, 242,130, 299,191, 51,43, 78, 218, 116,84\n",
        "anchors= [[0.01659321,0.00996796],\n",
        "[0.02322134,0.01339871],\n",
        " [0.04895603,0.02613155],\n",
        " [0.09038873,0.04803848],\n",
        "  [0.15177747,0.07992665],\n",
        "  [0.22864079,0.12244233],\n",
        "  [0.37213292,0.19061959],\n",
        "   [0.69372979,0.35726062],\n",
        "  [2.0586748,1.06487927]]\n",
        "\n",
        "\n",
        "   [[0.01684334 0.01027266]\n",
        " [0.02715052 0.01462808]\n",
        " [0.058329   0.03008491]\n",
        " [0.1029251  0.05297063]\n",
        " [0.16298039 0.08699561]\n",
        " [0.24962453 0.13274962]\n",
        " [0.38254428 0.21181243]\n",
        " [0.72267308 0.38419121]\n",
        " [2.13097623 1.20345532]]\n",
        "\n",
        " anchors= 10,13,  16,30,  33,23,  30,61,  62,45,  59,119,  116,90,  156,198,  373,326\n",
        " 12, 16, 19, 36, 40, 28, 36, 75, 76, 55, 72, 146, 142, 110, 192, 243, 459,\n"
      ]
    },
    {
      "cell_type": "markdown",
      "metadata": {
        "id": "a1XA0gEEnyKz"
      },
      "source": [
        "##Train"
      ]
    },
    {
      "cell_type": "code",
      "execution_count": null,
      "metadata": {
        "colab": {
          "base_uri": "https://localhost:8080/"
        },
        "id": "86W0XKOq_ag_",
        "outputId": "170701a0-cf83-4794-c457-b3adccd9213a"
      },
      "outputs": [
        {
          "data": {
            "text/plain": [
              "array([[  0.38153846,   0.31384615],\n",
              "       [  1.37846154,   0.73846154],\n",
              "       [  3.13230769,   1.61846154],\n",
              "       [  6.09846154,   3.07076923],\n",
              "       [ 14.28615385,   6.86461538],\n",
              "       [ 34.76      ,  16.40923077],\n",
              "       [ 65.61230769,  33.02461538],\n",
              "       [111.05230769,  59.64      ],\n",
              "       [176.95692308, 111.56307692]])"
            ]
          },
          "execution_count": 53,
          "metadata": {},
          "output_type": "execute_result"
        }
      ],
      "source": [
        "an=np.array([[  0.62 ,   0.51 ],\n",
        "       [  2.24 ,   1.2  ],\n",
        "       [  5.09 ,   2.63 ],\n",
        "       [  9.91 ,   4.99 ],\n",
        "       [ 23.215,  11.155],\n",
        "       [ 56.485,  26.665],\n",
        "       [106.62 ,  53.665],\n",
        "       [180.46 ,  96.915],\n",
        "       [287.555, 181.29 ]])\n",
        "anchorsss=an*(256/416)\n",
        "anchorsss"
      ]
    },
    {
      "cell_type": "code",
      "execution_count": null,
      "metadata": {
        "colab": {
          "base_uri": "https://localhost:8080/"
        },
        "id": "75XeT8ukJIyu",
        "outputId": "cb485d3b-b551-4c6e-cf8a-53700edd07f0"
      },
      "outputs": [
        {
          "name": "stdout",
          "output_type": "stream",
          "text": [
            "9\n",
            "____ok__ i have :2 Classes_&_the input_sahpe is(256, 256):\n"
          ]
        }
      ],
      "source": [
        "# annotation_path ='/content/Augmented_Dataset/Yolo_data.txt'\n",
        "classesFile = '/content/drive/MyDrive/Colab Notebooks/Classes.txt'\n",
        "class_names = get_classes(classesFile)\n",
        "num_classes = len(class_names)\n",
        "# anchors_path = '/content/drive/MyDrive/Colab Notebooks/yolo_anchors.txt'\n",
        "# anchors = np.array([[116,90],  [156,198],  [373,326],  [30,61], [62,45],  [59,119], [10,13],  [16,30],  [33,23]])\n",
        "num_anchors = len(anchorsss)\n",
        "print(num_anchors)\n",
        "input_shape = (256,256)\n",
        "print(\"____ok__ i have :{} Classes_&_the input_sahpe is{}:\".format(num_classes,input_shape))"
      ]
    },
    {
      "cell_type": "markdown",
      "metadata": {
        "id": "Ub3rZzSf-L05"
      },
      "source": [
        "**Creat the model**"
      ]
    },
    {
      "cell_type": "code",
      "execution_count": null,
      "metadata": {
        "colab": {
          "base_uri": "https://localhost:8080/"
        },
        "id": "WFfU6jf4-sI0",
        "outputId": "205febe5-0e5d-46be-cd39-6db2c96a4508"
      },
      "outputs": [
        {
          "name": "stdout",
          "output_type": "stream",
          "text": [
            "yolo based Darknet\n",
            "Create YOLOv3 model based on Darknet with 9 anchors and 2 classes.\n",
            "Load weights /content/drive/MyDrive/Detection_models/pré-trined/yolov4.h5.\n"
          ]
        }
      ],
      "source": [
        "from keras.regularizers import l2\n",
        "model = create_model(input_shape, anchorsss ,num_classes,backboon='Darknet' ,load_pretrained=True)#anchors"
      ]
    },
    {
      "cell_type": "markdown",
      "metadata": {
        "id": "ztI4QZRX-Hvi"
      },
      "source": [
        "**Show the Summary**"
      ]
    },
    {
      "cell_type": "code",
      "execution_count": null,
      "metadata": {
        "id": "wLHNEnMZLohK"
      },
      "outputs": [],
      "source": [
        "model.summary()"
      ]
    },
    {
      "cell_type": "markdown",
      "metadata": {
        "id": "2c7Fy4rsTNBp"
      },
      "source": [
        "\n",
        "\n",
        "*   **Creating checkpoit model**to save loss and acc after each epoch\n",
        "*   **EarlyStopping To stop trining when we got the best rslts during the training**\n",
        "the goal of this is to to mim the risque of** ouver fiting**  \n",
        "***reduce_lr to** reduce the leraning rat The parameter **learning rate** controls how aggressively we should learn based on the current batch of data. Typically this is a number between 0.01 and 0.0001.\n",
        "\n",
        "\n",
        "\n",
        "\n",
        "\n",
        "\n",
        "\n"
      ]
    },
    {
      "cell_type": "code",
      "execution_count": null,
      "metadata": {
        "colab": {
          "base_uri": "https://localhost:8080/"
        },
        "id": "TjprTFBB-FyR",
        "outputId": "37e6b159-f900-48c2-b2ec-fe26761f5e5f"
      },
      "outputs": [
        {
          "name": "stdout",
          "output_type": "stream",
          "text": [
            "rm: cannot remove '/content/newDatalog': No such file or directory\n"
          ]
        }
      ],
      "source": [
        "!rm -r '/content/newDatalog'\n",
        "log_dir = '/content/newDatalog'\n",
        "logging = TensorBoard(log_dir=log_dir, write_graph = True,write_images= True,) #enable visualizations for TensorBoard\n",
        "reduce_lr = ReduceLROnPlateau(monitor='loss' , factor=0.1, patience=2, \n",
        "              verbose=1, mode= 'min', min_delta  = 0.01 ,min_lr = 0) #to reducing the learning rate verbose 1 to  update messages.\n",
        "\n",
        "# checkpoint = ModelCheckpoint(log_dir + 'ep{epoch:03d}-loss{loss:.3f}-val_loss{val_loss:.3f}.h5', monitor='val_loss', save_weights_only=True, save_best_only=True, save_freq='epoch')   #period=3,\n",
        "# early_stopping = EarlyStopping(monitor='val_loss', min_delta=0, patience=10, verbose=1)"
      ]
    },
    {
      "cell_type": "code",
      "execution_count": null,
      "metadata": {
        "colab": {
          "base_uri": "https://localhost:8080/",
          "height": 49,
          "referenced_widgets": [
            "07b15fe6dfd34ac493f455c7dc29eff2",
            "86414d6fa7a04752a80c1680ca74ca85",
            "3e101c0380954b6491d319e54ab4a083",
            "c12e2113d4464cfa89954d8a7b638fee",
            "e07481f0ad0846e0816d4e6fd6879ce0",
            "47d9e23efa7c451a94318bd78447e128",
            "4f4ecfa679f04bd9a80592b13b30f08a",
            "6938c40c0a094c3e93260bb63a345092",
            "33a1851c283f418ebf555f2ab465b385",
            "7bb9009b705b46ae998c4b28940ba36b",
            "1c4c0149c43d4d4bb3bdca01f77d99ab"
          ]
        },
        "id": "3kJ6z0GdAnuP",
        "outputId": "2e6915c1-21d5-41b1-9427-9cc59c99ae51"
      },
      "outputs": [
        {
          "data": {
            "application/vnd.jupyter.widget-view+json": {
              "model_id": "07b15fe6dfd34ac493f455c7dc29eff2",
              "version_major": 2,
              "version_minor": 0
            },
            "text/plain": [
              "  0%|          | 0/34830 [00:00<?, ?it/s]"
            ]
          },
          "metadata": {},
          "output_type": "display_data"
        }
      ],
      "source": [
        "ls_positive=[]\n",
        "for p in tqdm(glob.glob(gen_dataset_path+'Masks_cal/*')):\n",
        "  if dicom.dcmread(p).pixel_array.sum():\n",
        "    ls_positive.append(p.split(\"/\")[-1])"
      ]
    },
    {
      "cell_type": "code",
      "execution_count": null,
      "metadata": {
        "colab": {
          "base_uri": "https://localhost:8080/",
          "height": 49,
          "referenced_widgets": [
            "8de75f4b0e084508a3ae034a0cb3093d"
          ]
        },
        "id": "ipBB2bwz3F5t",
        "outputId": "22345a6b-bfbf-4207-8e33-2e81bae43d53"
      },
      "outputs": [
        {
          "data": {
            "application/vnd.jupyter.widget-view+json": {
              "model_id": "8de75f4b0e084508a3ae034a0cb3093d",
              "version_major": 2,
              "version_minor": 0
            },
            "text/plain": [
              "  0%|          | 0/17588 [00:00<?, ?it/s]"
            ]
          },
          "metadata": {},
          "output_type": "display_data"
        }
      ],
      "source": [
        "ls_negative=[]\n",
        "for p in tqdm(glob(gen_dataset_path+'Masks_cal/*')):\n",
        "  if not dicom.dcmread(p).pixel_array.sum():\n",
        "    ls_negative.append(p.split(\"/\")[-1])"
      ]
    },
    {
      "cell_type": "code",
      "execution_count": null,
      "metadata": {
        "colab": {
          "base_uri": "https://localhost:8080/"
        },
        "id": "0ObX5LAt4DvB",
        "outputId": "28cf23ad-6b40-432c-fc79-699425c1006a"
      },
      "outputs": [
        {
          "data": {
            "text/plain": [
              "(7761, '116_3.dcm')"
            ]
          },
          "execution_count": 13,
          "metadata": {},
          "output_type": "execute_result"
        }
      ],
      "source": [
        "random.seed(seed)\n",
        "\n",
        "ens=[*ls_positive, *random.choices(ls_negative, k=len(ls_positive)*2)]\n",
        "\n",
        "random.shuffle(ens)\n",
        "len(ens), ens[0]"
      ]
    },
    {
      "cell_type": "code",
      "execution_count": null,
      "metadata": {
        "colab": {
          "base_uri": "https://localhost:8080/"
        },
        "id": "Yvjj6aHzTH21",
        "outputId": "1fdd9dbb-5ae3-424a-9a4f-f372e6261827"
      },
      "outputs": [
        {
          "data": {
            "text/plain": [
              "(34226, '605_4.dcm')"
            ]
          },
          "execution_count": 54,
          "metadata": {},
          "output_type": "execute_result"
        }
      ],
      "source": [
        "# random.seed(30)\n",
        "# ens=[p.split(\"/\")[-1] for p in glob.glob('Train_Set/Images/*')]\n",
        "# random.shuffle(ens)\n",
        "# len(ens), ens[0]"
      ]
    },
    {
      "cell_type": "markdown",
      "metadata": {
        "id": "mR5icZWgF2Ue"
      },
      "source": [
        "**Compile The Model**"
      ]
    },
    {
      "cell_type": "code",
      "execution_count": null,
      "metadata": {
        "id": "2Z_iJzWh5P6l"
      },
      "outputs": [],
      "source": [
        "from tensorflow.keras.optimizers import *\n",
        "from tensorflow.keras.metrics import *\n",
        "import copy\n",
        "# continuous_hist=copy.deepcopy(history.history)\n",
        "\n",
        "RMSprop=RMSprop(learning_rate=0.001,rho=0.9,momentum=0.0,epsilon=1e-07,centered=False,name=\"RMSprop\")\n",
        "ada=Adadelta(learning_rate=0.001, rho=0.95, epsilon=1e-07, name=\"Adadelta\")\n",
        "sgd = SGD(learning_rate=0.001, decay=1e-4, momentum=0.8, nesterov=True) #0.1\n",
        "opt=Adam(learning_rate=1e-4)\n",
        "\n",
        "model.compile(optimizer=opt, loss={'yolo_loss': lambda y_true, y_pred: y_pred},metrics=[Recall(),Precision(),Accuracy()]) #,Recall(),Precision()\n",
        "# from sklearn.metrics import roc_curve, auc"
      ]
    },
    {
      "cell_type": "markdown",
      "metadata": {
        "id": "mje-n3j6oyI9"
      },
      "source": [
        "**Fit The Model**"
      ]
    },
    {
      "cell_type": "code",
      "execution_count": null,
      "metadata": {
        "colab": {
          "background_save": true,
          "base_uri": "https://localhost:8080/"
        },
        "id": "Rfy1xg7A9lmb",
        "outputId": "714b1c42-1910-4824-f5be-6c65b0aa054c"
      },
      "outputs": [
        {
          "name": "stdout",
          "output_type": "stream",
          "text": [
            "Epoch 1/5\n",
            " 52/229 [=====>........................] - ETA: 6:49 - loss: 636.4784 - location_loss: 0.1136 - confidence_loss: 624.7167 - class_loss: 0.0080"
          ]
        },
        {
          "name": "stderr",
          "output_type": "stream",
          "text": [
            "/usr/local/lib/python3.7/dist-packages/ipykernel_launcher.py:41: RuntimeWarning: invalid value encountered in true_divide\n"
          ]
        },
        {
          "name": "stdout",
          "output_type": "stream",
          "text": [
            "229/229 [==============================] - 637s 3s/step - loss: 172.5044 - location_loss: 0.1101 - confidence_loss: 160.7545 - class_loss: 0.0053 - val_loss: 74.9847 - val_location_loss: 0.0812 - val_confidence_loss: 63.2776 - val_class_loss: 0.0017 - lr: 1.0000e-04\n",
            "Epoch 2/5\n",
            "229/229 [==============================] - 653s 3s/step - loss: 20.1100 - location_loss: 0.1065 - confidence_loss: 8.3881 - class_loss: 0.0028 - val_loss: 21.2923 - val_location_loss: 0.0779 - val_confidence_loss: 9.6125 - val_class_loss: 0.0014 - lr: 1.0000e-04\n",
            "Epoch 3/5\n",
            "229/229 [==============================] - 654s 3s/step - loss: 16.4019 - location_loss: 0.1060 - confidence_loss: 4.7056 - class_loss: 0.0031 - val_loss: 16.2554 - val_location_loss: 0.0784 - val_confidence_loss: 4.6026 - val_class_loss: 0.0013 - lr: 1.0000e-04\n",
            "Epoch 4/5\n",
            "229/229 [==============================] - 646s 3s/step - loss: 14.7577 - location_loss: 0.1051 - confidence_loss: 3.0928 - class_loss: 0.0020 - val_loss: nan - val_location_loss: nan - val_confidence_loss: 5.6799 - val_class_loss: 0.0014 - lr: 1.0000e-04\n",
            "Epoch 5/5\n",
            "229/229 [==============================] - 601s 3s/step - loss: 13.8069 - location_loss: 0.1046 - confidence_loss: 2.1765 - class_loss: 0.0019 - val_loss: nan - val_location_loss: nan - val_confidence_loss: 3.3433 - val_class_loss: 0.0021 - lr: 1.0000e-04\n"
          ]
        }
      ],
      "source": [
        "batch_size=batch_size\n",
        "history=model.fit(data_generator(ens[len(ens)//10:],batch_size, input_shape, anchors, num_classes, size, 'Train_Set/'),      \n",
        "    validation_data= data_generator(ens[:len(ens)//10], batch_size, input_shape, anchors, num_classes, size, 'Train_Set/'),\n",
        "    steps_per_epoch=len(ens)//10*9//batch_size,\n",
        "    validation_steps=len(ens)//10//batch_size,\n",
        "    epochs=5 ,\n",
        "    shuffle=False, \n",
        "    callbacks=[logging,reduce_lr]  \n",
        ")"
      ]
    },
    {
      "cell_type": "code",
      "execution_count": null,
      "metadata": {
        "colab": {
          "base_uri": "https://localhost:8080/",
          "height": 422
        },
        "id": "9_nbRvXG-6yr",
        "outputId": "0a6cb102-afcb-4dd8-e5f0-64bf0adb75e5"
      },
      "outputs": [
        {
          "name": "stdout",
          "output_type": "stream",
          "text": [
            "Error: empty directory, model version: 0\n"
          ]
        },
        {
          "data": {
            "image/png": "[encoded data removed]",
            "text/plain": [
              "<Figure size 1440x432 with 4 Axes>"
            ]
          },
          "metadata": {},
          "output_type": "display_data"
        }
      ],
      "source": [
        "path= '/content/newDatalog/plots_models/'\n",
        "!rm -r {path}\n",
        "!mkdir {path}\n",
        "try:\n",
        "  v=max([int(p.split('/')[-1]) for p in glob(f'{path}*')])+1\n",
        "  print(\"model version:\", v)\n",
        "except:\n",
        "  v=0\n",
        "  print(\"Error: empty directory, model version:\", v)\n",
        "!mkdir {path}{v}\n",
        "plot_training_statistics(history.history, f'{path}{v}/')"
      ]
    },
    {
      "cell_type": "code",
      "execution_count": null,
      "metadata": {
        "id": "ITblgb9n-6vg"
      },
      "outputs": [],
      "source": [
        "from tensorflow.keras.optimizers import *\n",
        "from tensorflow.keras.metrics import *\n",
        "import copy\n",
        "# continuous_hist=copy.deepcopy(history.history)\n",
        "\n",
        "\n",
        "# for i in range(len(model.layers)):\n",
        "#             model.layers[i].trainable = True\n",
        "# print('Unfreeze all of the layers.')\n",
        "\n",
        "\n",
        "RMSprop=RMSprop(learning_rate=0.0015,rho=0.9,momentum=0.97,epsilon=1e-08,decay=0.0,centered=False,name=\"RMSprop\")\n",
        "ada=Adadelta(learning_rate=0.0001, rho=0.95 , decay=0.0, epsilon=1e-08, name=\"Adadelta\")\n",
        "sgd = SGD(learning_rate=0.0001, decay=1e-4, momentum=0.97, nesterov=True) #learning_rate=0.01  decay=1e-4\n",
        "opt=Adam(learning_rate=0.0001, )#beta_1=0.9, beta_2=0.999, epsilon=1e-08, decay=0.0) #0.0001\n",
        "\n",
        "model.compile(optimizer=opt, loss={'yolo_loss': lambda y_true, y_pred: y_pred})#,metrics=['acc'])#metrics=[Recall()]) #Accuracy(),Recall(),Precision()"
      ]
    },
    {
      "cell_type": "code",
      "execution_count": null,
      "metadata": {
        "colab": {
          "base_uri": "https://localhost:8080/"
        },
        "id": "GdzWCsYc-6sM",
        "outputId": "3c20165f-9a35-4e0f-f6ee-833764403add"
      },
      "outputs": [
        {
          "name": "stdout",
          "output_type": "stream",
          "text": [
            "Epoch 1/25\n",
            " 635/1924 [========>.....................] - ETA: 22:35 - loss: 26.3705 - location_loss: 0.0666 - confidence_loss: 14.7263 - class_loss: 0.0018"
          ]
        },
        {
          "name": "stderr",
          "output_type": "stream",
          "text": [
            "/usr/local/lib/python3.7/dist-packages/ipykernel_launcher.py:41: RuntimeWarning: invalid value encountered in true_divide\n"
          ]
        },
        {
          "name": "stdout",
          "output_type": "stream",
          "text": [
            "1924/1924 [==============================] - 2316s 1s/step - loss: 16.5299 - location_loss: 0.0605 - confidence_loss: 5.1732 - class_loss: 0.0015 - val_loss: 11.0484 - val_location_loss: 0.0642 - val_confidence_loss: 0.2384 - val_class_loss: 0.0011 - lr: 1.0000e-04\n",
            "Epoch 2/25\n",
            "1924/1924 [==============================] - 2275s 1s/step - loss: 10.0612 - location_loss: 0.0589 - confidence_loss: 0.1621 - class_loss: 0.0010 - val_loss: 9.4131 - val_location_loss: 0.0644 - val_confidence_loss: 0.5979 - val_class_loss: 0.0011 - lr: 1.0000e-04\n",
            "Epoch 3/25\n",
            "1924/1924 [==============================] - 2230s 1s/step - loss: 7.5166 - location_loss: 0.0589 - confidence_loss: 0.0651 - class_loss: 0.0010 - val_loss: 6.4884 - val_location_loss: 0.0637 - val_confidence_loss: 0.4409 - val_class_loss: 0.0010 - lr: 1.0000e-04\n",
            "Epoch 4/25\n",
            "1924/1924 [==============================] - 2237s 1s/step - loss: 4.7274 - location_loss: 0.0589 - confidence_loss: 0.0455 - class_loss: 9.6799e-04 - val_loss: 3.5717 - val_location_loss: 0.0643 - val_confidence_loss: 0.1419 - val_class_loss: 0.0010 - lr: 1.0000e-04\n",
            "Epoch 5/25\n",
            "1924/1924 [==============================] - 2284s 1s/step - loss: 2.8410 - location_loss: 0.0589 - confidence_loss: 0.0873 - class_loss: 0.0010 - val_loss: 2.0902 - val_location_loss: 0.0639 - val_confidence_loss: 0.0420 - val_class_loss: 0.0011 - lr: 1.0000e-04\n",
            "Epoch 6/25\n",
            "1924/1924 [==============================] - 2281s 1s/step - loss: 1.5014 - location_loss: 0.0590 - confidence_loss: 0.0394 - class_loss: 9.9186e-04 - val_loss: 1.0166 - val_location_loss: 0.0645 - val_confidence_loss: 0.0429 - val_class_loss: 0.0011 - lr: 1.0000e-04\n",
            "Epoch 7/25\n",
            "1924/1924 [==============================] - 2239s 1s/step - loss: 0.7070 - location_loss: 0.0593 - confidence_loss: 0.0411 - class_loss: 0.0011 - val_loss: 0.7840 - val_location_loss: 0.0686 - val_confidence_loss: 0.3168 - val_class_loss: 0.0101 - lr: 1.0000e-04\n",
            "Epoch 8/25\n",
            "1924/1924 [==============================] - 2272s 1s/step - loss: 0.3781 - location_loss: 0.0597 - confidence_loss: 0.0416 - class_loss: 0.0011 - val_loss: 0.2849 - val_location_loss: 0.0651 - val_confidence_loss: 0.0439 - val_class_loss: 0.0013 - lr: 1.0000e-04\n",
            "Epoch 9/25\n",
            "1924/1924 [==============================] - 2208s 1s/step - loss: 0.2415 - location_loss: 0.0598 - confidence_loss: 0.0417 - class_loss: 0.0011 - val_loss: 0.2094 - val_location_loss: 0.0635 - val_confidence_loss: 0.0481 - val_class_loss: 0.0012 - lr: 1.0000e-04\n",
            "Epoch 10/25\n",
            "1924/1924 [==============================] - 2208s 1s/step - loss: 0.2049 - location_loss: 0.0595 - confidence_loss: 0.0425 - class_loss: 0.0011 - val_loss: 0.1734 - val_location_loss: 0.0634 - val_confidence_loss: 0.0456 - val_class_loss: 0.0013 - lr: 1.0000e-04\n",
            "Epoch 11/25\n",
            "1924/1924 [==============================] - 2206s 1s/step - loss: 0.1612 - location_loss: 0.0596 - confidence_loss: 0.0414 - class_loss: 0.0011 - val_loss: 0.1537 - val_location_loss: 0.0648 - val_confidence_loss: 0.0443 - val_class_loss: 0.0011 - lr: 1.0000e-04\n",
            "Epoch 12/25\n",
            "1924/1924 [==============================] - 2252s 1s/step - loss: 0.1449 - location_loss: 0.0592 - confidence_loss: 0.0413 - class_loss: 0.0010 - val_loss: 0.1504 - val_location_loss: 0.0640 - val_confidence_loss: 0.0477 - val_class_loss: 0.0012 - lr: 1.0000e-04\n",
            "Epoch 13/25\n",
            "1924/1924 [==============================] - 2192s 1s/step - loss: 0.1598 - location_loss: 0.0600 - confidence_loss: 0.0429 - class_loss: 0.0011 - val_loss: 0.1502 - val_location_loss: 0.0640 - val_confidence_loss: 0.0431 - val_class_loss: 0.0011 - lr: 1.0000e-04\n",
            "Epoch 14/25\n",
            "1924/1924 [==============================] - ETA: 0s - loss: 0.1404 - location_loss: 0.0592 - confidence_loss: 0.0413 - class_loss: 0.0011\n",
            "Epoch 14: ReduceLROnPlateau reducing learning rate to 9.999999747378752e-06.\n",
            "1924/1924 [==============================] - 2199s 1s/step - loss: 0.1404 - location_loss: 0.0592 - confidence_loss: 0.0413 - class_loss: 0.0011 - val_loss: 0.1414 - val_location_loss: 0.0654 - val_confidence_loss: 0.0439 - val_class_loss: 0.0011 - lr: 1.0000e-04\n",
            "Epoch 15/25\n",
            "1924/1924 [==============================] - 2212s 1s/step - loss: 0.1241 - location_loss: 0.0585 - confidence_loss: 0.0389 - class_loss: 0.0010 - val_loss: 0.1282 - val_location_loss: 0.0636 - val_confidence_loss: 0.0420 - val_class_loss: 0.0012 - lr: 1.0000e-05\n",
            "Epoch 16/25\n",
            "1924/1924 [==============================] - 2216s 1s/step - loss: 0.1169 - location_loss: 0.0582 - confidence_loss: 0.0386 - class_loss: 0.0010 - val_loss: 0.1239 - val_location_loss: 0.0634 - val_confidence_loss: 0.0421 - val_class_loss: 0.0011 - lr: 1.0000e-05\n",
            "Epoch 17/25\n",
            "1924/1924 [==============================] - 2211s 1s/step - loss: 0.1140 - location_loss: 0.0580 - confidence_loss: 0.0388 - class_loss: 9.7156e-04 - val_loss: 0.1210 - val_location_loss: 0.0636 - val_confidence_loss: 0.0418 - val_class_loss: 0.0010 - lr: 1.0000e-05\n",
            "Epoch 18/25\n",
            "1924/1924 [==============================] - 2211s 1s/step - loss: 0.1110 - location_loss: 0.0580 - confidence_loss: 0.0383 - class_loss: 9.3366e-04 - val_loss: 0.1190 - val_location_loss: 0.0635 - val_confidence_loss: 0.0416 - val_class_loss: 0.0010 - lr: 1.0000e-05\n",
            "Epoch 19/25\n",
            "1924/1924 [==============================] - ETA: 0s - loss: 0.1097 - location_loss: 0.0578 - confidence_loss: 0.0382 - class_loss: 9.3480e-04\n",
            "Epoch 19: ReduceLROnPlateau reducing learning rate to 9.999999747378752e-07.\n",
            "1924/1924 [==============================] - 2205s 1s/step - loss: 0.1097 - location_loss: 0.0578 - confidence_loss: 0.0382 - class_loss: 9.3480e-04 - val_loss: 0.1187 - val_location_loss: 0.0632 - val_confidence_loss: 0.0419 - val_class_loss: 0.0010 - lr: 1.0000e-05\n",
            "Epoch 20/25\n",
            "1924/1924 [==============================] - 2265s 1s/step - loss: 0.1086 - location_loss: 0.0577 - confidence_loss: 0.0377 - class_loss: 9.0697e-04 - val_loss: 0.1179 - val_location_loss: 0.0633 - val_confidence_loss: 0.0416 - val_class_loss: 0.0010 - lr: 1.0000e-06\n",
            "Epoch 21/25\n",
            "1924/1924 [==============================] - ETA: 0s - loss: 0.1078 - location_loss: 0.0576 - confidence_loss: 0.0375 - class_loss: 9.2149e-04\n",
            "Epoch 21: ReduceLROnPlateau reducing learning rate to 9.999999974752428e-08.\n",
            "1924/1924 [==============================] - 2216s 1s/step - loss: 0.1078 - location_loss: 0.0576 - confidence_loss: 0.0375 - class_loss: 9.2149e-04 - val_loss: 0.1173 - val_location_loss: 0.0632 - val_confidence_loss: 0.0415 - val_class_loss: 0.0010 - lr: 1.0000e-06\n",
            "Epoch 22/25\n",
            "1924/1924 [==============================] - 2219s 1s/step - loss: 0.1074 - location_loss: 0.0575 - confidence_loss: 0.0373 - class_loss: 8.9528e-04 - val_loss: 0.1173 - val_location_loss: 0.0632 - val_confidence_loss: 0.0414 - val_class_loss: 0.0010 - lr: 1.0000e-07\n",
            "Epoch 23/25\n",
            "1924/1924 [==============================] - ETA: 0s - loss: 0.1072 - location_loss: 0.0574 - confidence_loss: 0.0372 - class_loss: 8.9537e-04\n",
            "Epoch 23: ReduceLROnPlateau reducing learning rate to 1.0000000116860975e-08.\n",
            "1924/1924 [==============================] - 2220s 1s/step - loss: 0.1072 - location_loss: 0.0574 - confidence_loss: 0.0372 - class_loss: 8.9537e-04 - val_loss: 0.1172 - val_location_loss: 0.0632 - val_confidence_loss: 0.0414 - val_class_loss: 0.0010 - lr: 1.0000e-07\n",
            "Epoch 24/25\n",
            "1924/1924 [==============================] - 2270s 1s/step - loss: 0.1073 - location_loss: 0.0576 - confidence_loss: 0.0372 - class_loss: 8.9340e-04 - val_loss: 0.1172 - val_location_loss: 0.0632 - val_confidence_loss: 0.0414 - val_class_loss: 0.0010 - lr: 1.0000e-08\n",
            "Epoch 25/25\n",
            "1924/1924 [==============================] - ETA: 0s - loss: 0.1070 - location_loss: 0.0574 - confidence_loss: 0.0371 - class_loss: 9.1689e-04\n",
            "Epoch 25: ReduceLROnPlateau reducing learning rate to 9.999999939225292e-10.\n",
            "1924/1924 [==============================] - 2271s 1s/step - loss: 0.1070 - location_loss: 0.0574 - confidence_loss: 0.0371 - class_loss: 9.1689e-04 - val_loss: 0.1172 - val_location_loss: 0.0632 - val_confidence_loss: 0.0414 - val_class_loss: 0.0010 - lr: 1.0000e-08\n"
          ]
        }
      ],
      "source": [
        "import copy\n",
        "# continuous_hist=copy.deepcopy(history.history)\n",
        "\n",
        "batch_size =batch_size\n",
        "history=model.fit(data_generator(ens[len(ens)//10:],batch_size, input_shape, anchors, num_classes, size, 'Train_Set/'),\n",
        "                validation_data= data_generator(ens[:len(ens)//10], batch_size, input_shape, anchors, num_classes, size, 'Train_Set/'),\n",
        "                steps_per_epoch=len(ens)//10*9//batch_size,\n",
        "                validation_steps=len(ens)//10//batch_size,\n",
        "                initial_epoch=0, \n",
        "                epochs=25,    \n",
        "                shuffle=False,  \n",
        "                callbacks=[ logging,reduce_lr])"
      ]
    },
    {
      "cell_type": "code",
      "execution_count": null,
      "metadata": {
        "id": "fTgXamsktq6a"
      },
      "outputs": [],
      "source": [
        "for key in continuous_hist.keys():\n",
        "  for element in history.history[key]:\n",
        "    continuous_hist[key].append(element)"
      ]
    },
    {
      "cell_type": "code",
      "execution_count": null,
      "metadata": {
        "id": "bklJ79Veriss"
      },
      "outputs": [],
      "source": [
        "path= '/content/newDatalog/plots_models/'\n",
        "!rm -r {path}\n",
        "!mkdir {path}\n",
        "try:\n",
        "  v=max([int(p.split('/')[-1]) for p in glob(f'{path}*')])+1\n",
        "  print(\"model version:\", v)\n",
        "except:\n",
        "  v=0\n",
        "  print(\"Error: empty directory, model version:\", v)\n",
        "!mkdir {path}{v}\n",
        "\n",
        "plot_training_statistics(history.history, f'{path}{v}/')"
      ]
    },
    {
      "cell_type": "code",
      "execution_count": null,
      "metadata": {
        "id": "MQcL2bukAOx3"
      },
      "outputs": [],
      "source": [
        "model.save('/content/drive/My Drive/Detection_models/masse_cal_v9.h5')\n",
        "model.save_weights(log_dir + 'trained_weights_final.h5')\n",
        "# !zip -r '/content/drive/MyDrive/Detection_models/TensorBoard/masse_cal_v7.zip' '/content/newDatalog'\n",
        "\n",
        "# !zip -r '/content/drive/MyDrive/INBreast_Dataset/Train_dicom' '/content/Train_Set/Images'\n",
        "\n"
      ]
    },
    {
      "cell_type": "code",
      "execution_count": null,
      "metadata": {
        "colab": {
          "base_uri": "https://localhost:8080/",
          "height": 350
        },
        "id": "dKqPlIEr-6oR",
        "outputId": "de81d126-6e8f-4656-92e7-285486767d65"
      },
      "outputs": [
        {
          "name": "stdout",
          "output_type": "stream",
          "text": [
            "Error: empty directory, model version: 0\n"
          ]
        },
        {
          "data": {
            "image/png": "[encoded data removed]",
            "text/plain": [
              "<Figure size 1440x432 with 4 Axes>"
            ]
          },
          "metadata": {},
          "output_type": "display_data"
        }
      ],
      "source": [
        "path= '/content/newDatalog/plots_models/'\n",
        "!rm -r {path}\n",
        "!mkdir {path}\n",
        "try:\n",
        "  v=max([int(p.split('/')[-1]) for p in glob(f'{path}*')])+1\n",
        "  print(\"model version:\", v)\n",
        "except:\n",
        "  v=0\n",
        "  print(\"Error: empty directory, model version:\", v)\n",
        "!mkdir {path}{v}\n",
        "\n",
        "plot_training_statistics(history.history, f'{path}{v}/')"
      ]
    },
    {
      "cell_type": "markdown",
      "metadata": {
        "id": "Pqrzb5NNbqqH"
      },
      "source": [
        "**serialize model to JSON**"
      ]
    },
    {
      "cell_type": "code",
      "execution_count": null,
      "metadata": {
        "id": "rtySiGBQbo8D"
      },
      "outputs": [],
      "source": [
        "model_json = model.to_json()\n",
        "with open(\"model.json\", \"w\") as json_file:\n",
        "    json_file.write(model_json)\n",
        "# serialize weights to HDF5\n",
        "model.save_weights(\"model.h5\")\n",
        "print(\"Saved model to disk\")"
      ]
    },
    {
      "cell_type": "code",
      "execution_count": null,
      "metadata": {
        "id": "vvodEZfNAOug"
      },
      "outputs": [],
      "source": [
        "# Precision = (True Positive)/(True Positive + False Positive)\n",
        "# Recall = (True Positive)/(True Positive + False Negative)\n",
        "# F1 score = (Precision × Recall)/[(Precision + Recall)/2]"
      ]
    },
    {
      "cell_type": "code",
      "execution_count": null,
      "metadata": {
        "id": "w5IV6n-658PK"
      },
      "outputs": [],
      "source": [
        "# https://github.com/Adamdad/Object-Detection-Metrics/blob/master/pascalvoc.py EVALUATION\n",
        "#https://github.com/ashish-roopan/mAP  "
      ]
    },
    {
      "cell_type": "markdown",
      "metadata": {
        "id": "bD5REhYfZrhU"
      },
      "source": [
        "##**Fine-tuning**"
      ]
    },
    {
      "cell_type": "markdown",
      "metadata": {
        "id": "MrCqd8pQ78Ah"
      },
      "source": [
        "**Unfreeze and continue training** & **Compile** the model with my **custom loss function**\n",
        "\n",
        "> Stochastic Gradient Descent SGD\n",
        "\n",
        "1.  Frequent updates of model parameter\n",
        "2.  Requires less Memory.\n",
        "Allows the use of large data sets as it has to update only one example at a time.\n"
      ]
    },
    {
      "cell_type": "markdown",
      "metadata": {
        "id": "sfG79iZPBMS9"
      },
      "source": [
        "**momentum** is used to penalize large weight changes between iterations."
      ]
    },
    {
      "cell_type": "markdown",
      "metadata": {
        "id": "Vdxqg03uBYoN"
      },
      "source": [
        " penalize large value for weights with  **decay** controls this penalty term. "
      ]
    },
    {
      "cell_type": "code",
      "execution_count": null,
      "metadata": {
        "colab": {
          "base_uri": "https://localhost:8080/"
        },
        "id": "yXPwPqqd73yI",
        "outputId": "d45127ac-3b01-4167-d873-7e83c57cd44c"
      },
      "outputs": [
        {
          "name": "stdout",
          "output_type": "stream",
          "text": [
            "Unfreeze all of the layers.\n"
          ]
        }
      ],
      "source": [
        "from tensorflow.keras.optimizers import *\n",
        "for i in range(len(model.layers)):\n",
        "            model.layers[i].trainable = True\n",
        "print('Unfreeze all of the layers.')\n",
        "\n",
        "RMSprop=RMSprop(learning_rate=0.0001,rho=0.9,momentum=0.0,epsilon=1e-07,centered=False,name=\"RMSprop\")\n",
        "ada=Adadelta(learning_rate=0.001, rho=0.95, epsilon=1e-07, name=\"Adadelta\")\n",
        "sgd = SGD(learning_rate=0.0001, decay=1e-4, momentum=0.97, nesterov=True) #learning_rate=0.01  decay=1e-4\n",
        "opt=Adam(learning_rate=1.0000e-04) #0.0001\n",
        "\n",
        "model.compile(optimizer=RMSprop, loss={'yolo_loss': lambda y_true, y_pred: y_pred},) "
      ]
    },
    {
      "cell_type": "markdown",
      "metadata": {
        "id": "_PiesOwO94Wm"
      },
      "source": [
        "**Begin the fine-tuning**\n",
        "\n",
        "\n",
        "> batch size les then first trinig because that more GPU memory is required after unfreezing the body\n",
        "\n"
      ]
    },
    {
      "cell_type": "code",
      "execution_count": null,
      "metadata": {
        "colab": {
          "base_uri": "https://localhost:8080/"
        },
        "id": "oKp7Pn9zlt9W",
        "outputId": "b26f732b-5a27-4290-ccfc-c25f2491a9e9"
      },
      "outputs": [
        {
          "name": "stdout",
          "output_type": "stream",
          "text": [
            "Epoch 6/10\n",
            "155/155 [==============================] - 796s 5s/step - loss: 0.3989 - location_loss: 0.0165 - confidence_loss: 0.0687 - class_loss: 0.0023 - val_loss: 0.3009 - val_location_loss: 0.0077 - val_confidence_loss: 0.0044 - val_class_loss: 0.0010 - lr: 1.0000e-04\n",
            "Epoch 7/10\n",
            "155/155 [==============================] - 750s 5s/step - loss: 0.3411 - location_loss: 0.0166 - confidence_loss: 0.0704 - class_loss: 0.0012 - val_loss: 0.2473 - val_location_loss: 0.0077 - val_confidence_loss: 0.0028 - val_class_loss: 7.4111e-04 - lr: 1.0000e-04\n",
            "Epoch 8/10\n",
            "155/155 [==============================] - 765s 5s/step - loss: 0.2385 - location_loss: 0.0162 - confidence_loss: 0.0054 - class_loss: 8.7051e-04 - val_loss: 0.2064 - val_location_loss: 0.0077 - val_confidence_loss: 0.0027 - val_class_loss: 5.5117e-04 - lr: 1.0000e-04\n",
            "Epoch 9/10\n",
            "155/155 [==============================] - 753s 5s/step - loss: 0.7836 - location_loss: 0.0159 - confidence_loss: 0.5746 - class_loss: 6.9033e-04 - val_loss: 0.1941 - val_location_loss: 0.0077 - val_confidence_loss: 0.0028 - val_class_loss: 4.1666e-04 - lr: 1.0000e-04\n",
            "Epoch 10/10\n",
            "155/155 [==============================] - 746s 5s/step - loss: 0.3106 - location_loss: 0.0158 - confidence_loss: 0.1242 - class_loss: 5.5025e-04 - val_loss: 0.1764 - val_location_loss: 0.0077 - val_confidence_loss: 0.0029 - val_class_loss: 3.6692e-04 - lr: 1.0000e-04\n"
          ]
        }
      ],
      "source": [
        "batch_size =16\n",
        "history=model.fit(data_generator(ens[len(ens)//10:],batch_size, input_shape, anchors, num_classes, size, 'GenDataset/'),\n",
        "                validation_data= data_generator(ens[:len(ens)//10], batch_size, input_shape, anchors, num_classes, size, 'GenDataset/'),\n",
        "                steps_per_epoch=len(ens)//10*9//batch_size,\n",
        "                validation_steps=len(ens)//10//batch_size,\n",
        "                initial_epoch=5,\n",
        "                epochs=10,\n",
        "                shuffle=False,  \n",
        "                callbacks=[ logging,reduce_lr]) "
      ]
    },
    {
      "cell_type": "code",
      "execution_count": null,
      "metadata": {
        "colab": {
          "base_uri": "https://localhost:8080/",
          "height": 368
        },
        "id": "kZDGDr_epsMC",
        "outputId": "54c6ca92-4b03-4ce0-9232-26298f601b5e"
      },
      "outputs": [
        {
          "name": "stdout",
          "output_type": "stream",
          "text": [
            "rm: cannot remove '/content/newDatalog/plots_models/': No such file or directory\n",
            "Error: empty directory, model version: 0\n"
          ]
        },
        {
          "data": {
            "image/png": "[encoded data removed]",
            "text/plain": [
              "<Figure size 1440x432 with 4 Axes>"
            ]
          },
          "metadata": {},
          "output_type": "display_data"
        }
      ],
      "source": [
        "path= '/content/newDatalog/plots_models/'\n",
        "!rm -r {path}\n",
        "!mkdir {path}\n",
        "try:\n",
        "  v=max([int(p.split('/')[-1]) for p in glob(f'{path}*')])+1\n",
        "  print(\"model version:\", v)\n",
        "except:\n",
        "  v=0\n",
        "  print(\"Error: empty directory, model version:\", v)\n",
        "!mkdir {path}{v}\n",
        "\n",
        "plot_training_statistics(history.history, f'{path}{v}/')"
      ]
    },
    {
      "cell_type": "code",
      "execution_count": null,
      "metadata": {
        "id": "8gdVfzHUU87W"
      },
      "outputs": [],
      "source": [
        "model.save('/content/drive/My Drive/Detection_models/best_yolov3.h5')"
      ]
    },
    {
      "cell_type": "markdown",
      "metadata": {
        "id": "CvZ3WTVW6zvh"
      },
      "source": [
        "**Plot loss resalts**\n",
        "after fin_tuning of My model"
      ]
    },
    {
      "cell_type": "code",
      "execution_count": null,
      "metadata": {
        "colab": {
          "base_uri": "https://localhost:8080/",
          "height": 295
        },
        "id": "npyi6DBU5RQt",
        "outputId": "a9e102ec-1aa4-426a-98e7-0b9b5f1e0b23"
      },
      "outputs": [
        {
          "data": {
            "image/png": "[encoded data removed]",
            "text/plain": [
              "<Figure size 432x288 with 1 Axes>"
            ]
          },
          "metadata": {},
          "output_type": "display_data"
        }
      ],
      "source": [
        "import matplotlib.pyplot as plt\n",
        "plt.plot(history.history['loss'])\n",
        "plt.plot(history.history['val_loss'])\n",
        "plt.title(\"model loss\")\n",
        "plt.ylabel(\"Training_loss\")\n",
        "plt.xlabel(\"Epoch\")\n",
        "plt.legend([\"loss\",\"Validation_Loss\"])\n",
        "plt.show()"
      ]
    },
    {
      "cell_type": "code",
      "execution_count": null,
      "metadata": {
        "colab": {
          "base_uri": "https://localhost:8080/",
          "height": 283
        },
        "id": "JJCG2rp1PMDq",
        "outputId": "38ee2c8b-acbf-442f-953e-d4b10593e180"
      },
      "outputs": [
        {
          "data": {
            "text/plain": [
              "[<matplotlib.lines.Line2D at 0x7f2f55ae3c10>]"
            ]
          },
          "execution_count": 111,
          "metadata": {},
          "output_type": "execute_result"
        },
        {
          "data": {
            "image/png": "[encoded data removed]",
            "text/plain": [
              "<Figure size 432x288 with 1 Axes>"
            ]
          },
          "metadata": {},
          "output_type": "display_data"
        }
      ],
      "source": [
        "plt.plot(history.history['lr'])"
      ]
    },
    {
      "cell_type": "markdown",
      "metadata": {
        "id": "pKTbQ6oHkNod"
      },
      "source": [
        "##**Tensorboard vusialisation**"
      ]
    },
    {
      "cell_type": "code",
      "execution_count": null,
      "metadata": {
        "id": "4tWxqoka-Kuf"
      },
      "outputs": [],
      "source": [
        "!unzip '/content/drive/MyDrive/Detection_models/TensorBoard/Best_log.zip' -r '01'\n",
        "!unzip '/content/drive/MyDrive/Detection_models/TensorBoard/best_log2.zip' -r '02'\n",
        "!unzip '/content/drive/MyDrive/Detection_models/TensorBoard/newDatalogv1.zip' -r '03'\n",
        "!unzip '/content/drive/MyDrive/Detection_models/TensorBoard/newDatalogv2.zip' -r '04'"
      ]
    },
    {
      "cell_type": "code",
      "execution_count": null,
      "metadata": {
        "id": "3-05mtGVEUHj"
      },
      "outputs": [],
      "source": [
        "!rm -r '/content/newDatalog/plots_models'"
      ]
    },
    {
      "cell_type": "code",
      "execution_count": null,
      "metadata": {
        "id": "wsFDYUU2-LRH"
      },
      "outputs": [],
      "source": [
        "%load_ext tensorboard"
      ]
    },
    {
      "cell_type": "code",
      "execution_count": null,
      "metadata": {
        "id": "GgP4piGdkJcd"
      },
      "outputs": [],
      "source": [
        "%tensorboard --logdir='/content/newDatalog/train/'"
      ]
    }
  ],
  "metadata": {
    "accelerator": "GPU",
    "colab": {
      "collapsed_sections": [
        "Qcr6Hy3WdApL",
        "7MUZkawTKII7",
        "_Mq_hdDG-XSS",
        "-FuVaNsVgeHn",
        "3BUghpaY2yOm",
        "sBbnYEY1x2K6",
        "KaoFxhrzRy91",
        "bD5REhYfZrhU",
        "pKTbQ6oHkNod"
      ],
      "provenance": [],
      "authorship_tag": "ABX9TyM7/dvBiYypiGJdMFj/WdaT",
      "include_colab_link": true
    },
    "gpuClass": "standard",
    "kernelspec": {
      "display_name": "Python 3",
      "name": "python3"
    },
    "language_info": {
      "name": "python"
    },
    "widgets": {
      "application/vnd.jupyter.widget-state+json": {
        "07b15fe6dfd34ac493f455c7dc29eff2": {
          "model_module": "@jupyter-widgets/controls",
          "model_module_version": "1.5.0",
          "model_name": "HBoxModel",
          "state": {
            "_dom_classes": [],
            "_model_module": "@jupyter-widgets/controls",
            "_model_module_version": "1.5.0",
            "_model_name": "HBoxModel",
            "_view_count": null,
            "_view_module": "@jupyter-widgets/controls",
            "_view_module_version": "1.5.0",
            "_view_name": "HBoxView",
            "box_style": "",
            "children": [
              "IPY_MODEL_86414d6fa7a04752a80c1680ca74ca85",
              "IPY_MODEL_3e101c0380954b6491d319e54ab4a083",
              "IPY_MODEL_c12e2113d4464cfa89954d8a7b638fee"
            ],
            "layout": "IPY_MODEL_e07481f0ad0846e0816d4e6fd6879ce0"
          }
        },
        "0cd74459e41e4f1a96a818abc0a96983": {
          "model_module": "@jupyter-widgets/controls",
          "model_module_version": "1.5.0",
          "model_name": "HBoxModel",
          "state": {
            "_dom_classes": [],
            "_model_module": "@jupyter-widgets/controls",
            "_model_module_version": "1.5.0",
            "_model_name": "HBoxModel",
            "_view_count": null,
            "_view_module": "@jupyter-widgets/controls",
            "_view_module_version": "1.5.0",
            "_view_name": "HBoxView",
            "box_style": "",
            "children": [
              "IPY_MODEL_496241d3be084323a2cb82761190b798",
              "IPY_MODEL_3a52d948ddd84108920a33bde681a016",
              "IPY_MODEL_17f29ad5fd8d4a77a8dc6340b5a40f02"
            ],
            "layout": "IPY_MODEL_fe1168c218114efc83ac14f51241ac4f"
          }
        },
        "17f29ad5fd8d4a77a8dc6340b5a40f02": {
          "model_module": "@jupyter-widgets/controls",
          "model_module_version": "1.5.0",
          "model_name": "HTMLModel",
          "state": {
            "_dom_classes": [],
            "_model_module": "@jupyter-widgets/controls",
            "_model_module_version": "1.5.0",
            "_model_name": "HTMLModel",
            "_view_count": null,
            "_view_module": "@jupyter-widgets/controls",
            "_view_module_version": "1.5.0",
            "_view_name": "HTMLView",
            "description": "",
            "description_tooltip": null,
            "layout": "IPY_MODEL_288089f2ef984606b5a5b7a9ad1a9d48",
            "placeholder": "​",
            "style": "IPY_MODEL_99f7ce4e05bc4df2895aa3eb1ba6fe26",
            "value": " 34858/34858 [02:09&lt;00:00, 143.45it/s]"
          }
        },
        "1c4c0149c43d4d4bb3bdca01f77d99ab": {
          "model_module": "@jupyter-widgets/controls",
          "model_module_version": "1.5.0",
          "model_name": "DescriptionStyleModel",
          "state": {
            "_model_module": "@jupyter-widgets/controls",
            "_model_module_version": "1.5.0",
            "_model_name": "DescriptionStyleModel",
            "_view_count": null,
            "_view_module": "@jupyter-widgets/base",
            "_view_module_version": "1.2.0",
            "_view_name": "StyleView",
            "description_width": ""
          }
        },
        "23abba78e3a54df091d8e884ae897d79": {
          "model_module": "@jupyter-widgets/controls",
          "model_module_version": "1.5.0",
          "model_name": "ProgressStyleModel",
          "state": {
            "_model_module": "@jupyter-widgets/controls",
            "_model_module_version": "1.5.0",
            "_model_name": "ProgressStyleModel",
            "_view_count": null,
            "_view_module": "@jupyter-widgets/base",
            "_view_module_version": "1.2.0",
            "_view_name": "StyleView",
            "bar_color": null,
            "description_width": ""
          }
        },
        "27272f418c1b4e2a9d49c5c885f908ea": {
          "model_module": "@jupyter-widgets/controls",
          "model_module_version": "1.5.0",
          "model_name": "HTMLModel",
          "state": {
            "_dom_classes": [],
            "_model_module": "@jupyter-widgets/controls",
            "_model_module_version": "1.5.0",
            "_model_name": "HTMLModel",
            "_view_count": null,
            "_view_module": "@jupyter-widgets/controls",
            "_view_module_version": "1.5.0",
            "_view_name": "HTMLView",
            "description": "",
            "description_tooltip": null,
            "layout": "IPY_MODEL_63f50c934f344717b7e0c0f3fde63f22",
            "placeholder": "​",
            "style": "IPY_MODEL_d3d9e158ca924d868f44803dda69b5dd",
            "value": "100%"
          }
        },
        "288089f2ef984606b5a5b7a9ad1a9d48": {
          "model_module": "@jupyter-widgets/base",
          "model_module_version": "1.2.0",
          "model_name": "LayoutModel",
          "state": {
            "_model_module": "@jupyter-widgets/base",
            "_model_module_version": "1.2.0",
            "_model_name": "LayoutModel",
            "_view_count": null,
            "_view_module": "@jupyter-widgets/base",
            "_view_module_version": "1.2.0",
            "_view_name": "LayoutView",
            "align_content": null,
            "align_items": null,
            "align_self": null,
            "border": null,
            "bottom": null,
            "display": null,
            "flex": null,
            "flex_flow": null,
            "grid_area": null,
            "grid_auto_columns": null,
            "grid_auto_flow": null,
            "grid_auto_rows": null,
            "grid_column": null,
            "grid_gap": null,
            "grid_row": null,
            "grid_template_areas": null,
            "grid_template_columns": null,
            "grid_template_rows": null,
            "height": null,
            "justify_content": null,
            "justify_items": null,
            "left": null,
            "margin": null,
            "max_height": null,
            "max_width": null,
            "min_height": null,
            "min_width": null,
            "object_fit": null,
            "object_position": null,
            "order": null,
            "overflow": null,
            "overflow_x": null,
            "overflow_y": null,
            "padding": null,
            "right": null,
            "top": null,
            "visibility": null,
            "width": null
          }
        },
        "2b4377944712406892af5194038a0b60": {
          "model_module": "@jupyter-widgets/base",
          "model_module_version": "1.2.0",
          "model_name": "LayoutModel",
          "state": {
            "_model_module": "@jupyter-widgets/base",
            "_model_module_version": "1.2.0",
            "_model_name": "LayoutModel",
            "_view_count": null,
            "_view_module": "@jupyter-widgets/base",
            "_view_module_version": "1.2.0",
            "_view_name": "LayoutView",
            "align_content": null,
            "align_items": null,
            "align_self": null,
            "border": null,
            "bottom": null,
            "display": null,
            "flex": null,
            "flex_flow": null,
            "grid_area": null,
            "grid_auto_columns": null,
            "grid_auto_flow": null,
            "grid_auto_rows": null,
            "grid_column": null,
            "grid_gap": null,
            "grid_row": null,
            "grid_template_areas": null,
            "grid_template_columns": null,
            "grid_template_rows": null,
            "height": null,
            "justify_content": null,
            "justify_items": null,
            "left": null,
            "margin": null,
            "max_height": null,
            "max_width": null,
            "min_height": null,
            "min_width": null,
            "object_fit": null,
            "object_position": null,
            "order": null,
            "overflow": null,
            "overflow_x": null,
            "overflow_y": null,
            "padding": null,
            "right": null,
            "top": null,
            "visibility": null,
            "width": null
          }
        },
        "33a1851c283f418ebf555f2ab465b385": {
          "model_module": "@jupyter-widgets/controls",
          "model_module_version": "1.5.0",
          "model_name": "ProgressStyleModel",
          "state": {
            "_model_module": "@jupyter-widgets/controls",
            "_model_module_version": "1.5.0",
            "_model_name": "ProgressStyleModel",
            "_view_count": null,
            "_view_module": "@jupyter-widgets/base",
            "_view_module_version": "1.2.0",
            "_view_name": "StyleView",
            "bar_color": null,
            "description_width": ""
          }
        },
        "392d66c47d4d466d80ce85bfdd33811d": {
          "model_module": "@jupyter-widgets/base",
          "model_module_version": "1.2.0",
          "model_name": "LayoutModel",
          "state": {
            "_model_module": "@jupyter-widgets/base",
            "_model_module_version": "1.2.0",
            "_model_name": "LayoutModel",
            "_view_count": null,
            "_view_module": "@jupyter-widgets/base",
            "_view_module_version": "1.2.0",
            "_view_name": "LayoutView",
            "align_content": null,
            "align_items": null,
            "align_self": null,
            "border": null,
            "bottom": null,
            "display": null,
            "flex": null,
            "flex_flow": null,
            "grid_area": null,
            "grid_auto_columns": null,
            "grid_auto_flow": null,
            "grid_auto_rows": null,
            "grid_column": null,
            "grid_gap": null,
            "grid_row": null,
            "grid_template_areas": null,
            "grid_template_columns": null,
            "grid_template_rows": null,
            "height": null,
            "justify_content": null,
            "justify_items": null,
            "left": null,
            "margin": null,
            "max_height": null,
            "max_width": null,
            "min_height": null,
            "min_width": null,
            "object_fit": null,
            "object_position": null,
            "order": null,
            "overflow": null,
            "overflow_x": null,
            "overflow_y": null,
            "padding": null,
            "right": null,
            "top": null,
            "visibility": null,
            "width": null
          }
        },
        "3a52d948ddd84108920a33bde681a016": {
          "model_module": "@jupyter-widgets/controls",
          "model_module_version": "1.5.0",
          "model_name": "FloatProgressModel",
          "state": {
            "_dom_classes": [],
            "_model_module": "@jupyter-widgets/controls",
            "_model_module_version": "1.5.0",
            "_model_name": "FloatProgressModel",
            "_view_count": null,
            "_view_module": "@jupyter-widgets/controls",
            "_view_module_version": "1.5.0",
            "_view_name": "ProgressView",
            "bar_style": "success",
            "description": "",
            "description_tooltip": null,
            "layout": "IPY_MODEL_a224508e280c48308b131f50efa3acca",
            "max": 34858,
            "min": 0,
            "orientation": "horizontal",
            "style": "IPY_MODEL_5e23a318cb974aa584b5e1f9b8398376",
            "value": 34858
          }
        },
        "3e101c0380954b6491d319e54ab4a083": {
          "model_module": "@jupyter-widgets/controls",
          "model_module_version": "1.5.0",
          "model_name": "FloatProgressModel",
          "state": {
            "_dom_classes": [],
            "_model_module": "@jupyter-widgets/controls",
            "_model_module_version": "1.5.0",
            "_model_name": "FloatProgressModel",
            "_view_count": null,
            "_view_module": "@jupyter-widgets/controls",
            "_view_module_version": "1.5.0",
            "_view_name": "ProgressView",
            "bar_style": "",
            "description": "",
            "description_tooltip": null,
            "layout": "IPY_MODEL_6938c40c0a094c3e93260bb63a345092",
            "max": 34830,
            "min": 0,
            "orientation": "horizontal",
            "style": "IPY_MODEL_33a1851c283f418ebf555f2ab465b385",
            "value": 490
          }
        },
        "450baa689a28419190748267adfbfc6b": {
          "model_module": "@jupyter-widgets/base",
          "model_module_version": "1.2.0",
          "model_name": "LayoutModel",
          "state": {
            "_model_module": "@jupyter-widgets/base",
            "_model_module_version": "1.2.0",
            "_model_name": "LayoutModel",
            "_view_count": null,
            "_view_module": "@jupyter-widgets/base",
            "_view_module_version": "1.2.0",
            "_view_name": "LayoutView",
            "align_content": null,
            "align_items": null,
            "align_self": null,
            "border": null,
            "bottom": null,
            "display": null,
            "flex": null,
            "flex_flow": null,
            "grid_area": null,
            "grid_auto_columns": null,
            "grid_auto_flow": null,
            "grid_auto_rows": null,
            "grid_column": null,
            "grid_gap": null,
            "grid_row": null,
            "grid_template_areas": null,
            "grid_template_columns": null,
            "grid_template_rows": null,
            "height": null,
            "justify_content": null,
            "justify_items": null,
            "left": null,
            "margin": null,
            "max_height": null,
            "max_width": null,
            "min_height": null,
            "min_width": null,
            "object_fit": null,
            "object_position": null,
            "order": null,
            "overflow": null,
            "overflow_x": null,
            "overflow_y": null,
            "padding": null,
            "right": null,
            "top": null,
            "visibility": null,
            "width": null
          }
        },
        "47d9e23efa7c451a94318bd78447e128": {
          "model_module": "@jupyter-widgets/base",
          "model_module_version": "1.2.0",
          "model_name": "LayoutModel",
          "state": {
            "_model_module": "@jupyter-widgets/base",
            "_model_module_version": "1.2.0",
            "_model_name": "LayoutModel",
            "_view_count": null,
            "_view_module": "@jupyter-widgets/base",
            "_view_module_version": "1.2.0",
            "_view_name": "LayoutView",
            "align_content": null,
            "align_items": null,
            "align_self": null,
            "border": null,
            "bottom": null,
            "display": null,
            "flex": null,
            "flex_flow": null,
            "grid_area": null,
            "grid_auto_columns": null,
            "grid_auto_flow": null,
            "grid_auto_rows": null,
            "grid_column": null,
            "grid_gap": null,
            "grid_row": null,
            "grid_template_areas": null,
            "grid_template_columns": null,
            "grid_template_rows": null,
            "height": null,
            "justify_content": null,
            "justify_items": null,
            "left": null,
            "margin": null,
            "max_height": null,
            "max_width": null,
            "min_height": null,
            "min_width": null,
            "object_fit": null,
            "object_position": null,
            "order": null,
            "overflow": null,
            "overflow_x": null,
            "overflow_y": null,
            "padding": null,
            "right": null,
            "top": null,
            "visibility": null,
            "width": null
          }
        },
        "496241d3be084323a2cb82761190b798": {
          "model_module": "@jupyter-widgets/controls",
          "model_module_version": "1.5.0",
          "model_name": "HTMLModel",
          "state": {
            "_dom_classes": [],
            "_model_module": "@jupyter-widgets/controls",
            "_model_module_version": "1.5.0",
            "_model_name": "HTMLModel",
            "_view_count": null,
            "_view_module": "@jupyter-widgets/controls",
            "_view_module_version": "1.5.0",
            "_view_name": "HTMLView",
            "description": "",
            "description_tooltip": null,
            "layout": "IPY_MODEL_392d66c47d4d466d80ce85bfdd33811d",
            "placeholder": "​",
            "style": "IPY_MODEL_c1cc5414e6de407ea0eeb7c3728c0040",
            "value": "100%"
          }
        },
        "4ee05fa6b74b4a7891766eb97a4dc365": {
          "model_module": "@jupyter-widgets/controls",
          "model_module_version": "1.5.0",
          "model_name": "HBoxModel",
          "state": {
            "_dom_classes": [],
            "_model_module": "@jupyter-widgets/controls",
            "_model_module_version": "1.5.0",
            "_model_name": "HBoxModel",
            "_view_count": null,
            "_view_module": "@jupyter-widgets/controls",
            "_view_module_version": "1.5.0",
            "_view_name": "HBoxView",
            "box_style": "",
            "children": [
              "IPY_MODEL_64251f5ec14944b6be2a53aafd593dae",
              "IPY_MODEL_7ab97aa361664ea0bea33907fbb0e9ae",
              "IPY_MODEL_98f00af3d0db4e5db84d00794315fb76"
            ],
            "layout": "IPY_MODEL_2b4377944712406892af5194038a0b60"
          }
        },
        "4f4ecfa679f04bd9a80592b13b30f08a": {
          "model_module": "@jupyter-widgets/controls",
          "model_module_version": "1.5.0",
          "model_name": "DescriptionStyleModel",
          "state": {
            "_model_module": "@jupyter-widgets/controls",
            "_model_module_version": "1.5.0",
            "_model_name": "DescriptionStyleModel",
            "_view_count": null,
            "_view_module": "@jupyter-widgets/base",
            "_view_module_version": "1.2.0",
            "_view_name": "StyleView",
            "description_width": ""
          }
        },
        "59a938f6cf8644fcb3d88c42fc5204c5": {
          "model_module": "@jupyter-widgets/controls",
          "model_module_version": "1.5.0",
          "model_name": "FloatProgressModel",
          "state": {
            "_dom_classes": [],
            "_model_module": "@jupyter-widgets/controls",
            "_model_module_version": "1.5.0",
            "_model_name": "FloatProgressModel",
            "_view_count": null,
            "_view_module": "@jupyter-widgets/controls",
            "_view_module_version": "1.5.0",
            "_view_name": "ProgressView",
            "bar_style": "success",
            "description": "",
            "description_tooltip": null,
            "layout": "IPY_MODEL_ca6672dab20e47aba74406ac699eca89",
            "max": 34858,
            "min": 0,
            "orientation": "horizontal",
            "style": "IPY_MODEL_94e12607db9744dd86ed919d4939a9ec",
            "value": 34858
          }
        },
        "5db8ac5ccd3245539276938bebac7964": {
          "model_module": "@jupyter-widgets/base",
          "model_module_version": "1.2.0",
          "model_name": "LayoutModel",
          "state": {
            "_model_module": "@jupyter-widgets/base",
            "_model_module_version": "1.2.0",
            "_model_name": "LayoutModel",
            "_view_count": null,
            "_view_module": "@jupyter-widgets/base",
            "_view_module_version": "1.2.0",
            "_view_name": "LayoutView",
            "align_content": null,
            "align_items": null,
            "align_self": null,
            "border": null,
            "bottom": null,
            "display": null,
            "flex": null,
            "flex_flow": null,
            "grid_area": null,
            "grid_auto_columns": null,
            "grid_auto_flow": null,
            "grid_auto_rows": null,
            "grid_column": null,
            "grid_gap": null,
            "grid_row": null,
            "grid_template_areas": null,
            "grid_template_columns": null,
            "grid_template_rows": null,
            "height": null,
            "justify_content": null,
            "justify_items": null,
            "left": null,
            "margin": null,
            "max_height": null,
            "max_width": null,
            "min_height": null,
            "min_width": null,
            "object_fit": null,
            "object_position": null,
            "order": null,
            "overflow": null,
            "overflow_x": null,
            "overflow_y": null,
            "padding": null,
            "right": null,
            "top": null,
            "visibility": null,
            "width": null
          }
        },
        "5e23a318cb974aa584b5e1f9b8398376": {
          "model_module": "@jupyter-widgets/controls",
          "model_module_version": "1.5.0",
          "model_name": "ProgressStyleModel",
          "state": {
            "_model_module": "@jupyter-widgets/controls",
            "_model_module_version": "1.5.0",
            "_model_name": "ProgressStyleModel",
            "_view_count": null,
            "_view_module": "@jupyter-widgets/base",
            "_view_module_version": "1.2.0",
            "_view_name": "StyleView",
            "bar_color": null,
            "description_width": ""
          }
        },
        "5fa8a1e0138148f6b3c2d32b11f9c37c": {
          "model_module": "@jupyter-widgets/controls",
          "model_module_version": "1.5.0",
          "model_name": "DescriptionStyleModel",
          "state": {
            "_model_module": "@jupyter-widgets/controls",
            "_model_module_version": "1.5.0",
            "_model_name": "DescriptionStyleModel",
            "_view_count": null,
            "_view_module": "@jupyter-widgets/base",
            "_view_module_version": "1.2.0",
            "_view_name": "StyleView",
            "description_width": ""
          }
        },
        "5ffeb5dcb8f04437a41bb8aa178a4a0b": {
          "model_module": "@jupyter-widgets/controls",
          "model_module_version": "1.5.0",
          "model_name": "HTMLModel",
          "state": {
            "_dom_classes": [],
            "_model_module": "@jupyter-widgets/controls",
            "_model_module_version": "1.5.0",
            "_model_name": "HTMLModel",
            "_view_count": null,
            "_view_module": "@jupyter-widgets/controls",
            "_view_module_version": "1.5.0",
            "_view_name": "HTMLView",
            "description": "",
            "description_tooltip": null,
            "layout": "IPY_MODEL_88e02953efb94085b40e96d2f366c56c",
            "placeholder": "​",
            "style": "IPY_MODEL_98faa6b58b9847c79f590612e4eea241",
            "value": " 34858/34858 [02:45&lt;00:00, 160.46it/s]"
          }
        },
        "615d969273c5481ca44ec079c4c69924": {
          "model_module": "@jupyter-widgets/base",
          "model_module_version": "1.2.0",
          "model_name": "LayoutModel",
          "state": {
            "_model_module": "@jupyter-widgets/base",
            "_model_module_version": "1.2.0",
            "_model_name": "LayoutModel",
            "_view_count": null,
            "_view_module": "@jupyter-widgets/base",
            "_view_module_version": "1.2.0",
            "_view_name": "LayoutView",
            "align_content": null,
            "align_items": null,
            "align_self": null,
            "border": null,
            "bottom": null,
            "display": null,
            "flex": null,
            "flex_flow": null,
            "grid_area": null,
            "grid_auto_columns": null,
            "grid_auto_flow": null,
            "grid_auto_rows": null,
            "grid_column": null,
            "grid_gap": null,
            "grid_row": null,
            "grid_template_areas": null,
            "grid_template_columns": null,
            "grid_template_rows": null,
            "height": null,
            "justify_content": null,
            "justify_items": null,
            "left": null,
            "margin": null,
            "max_height": null,
            "max_width": null,
            "min_height": null,
            "min_width": null,
            "object_fit": null,
            "object_position": null,
            "order": null,
            "overflow": null,
            "overflow_x": null,
            "overflow_y": null,
            "padding": null,
            "right": null,
            "top": null,
            "visibility": null,
            "width": null
          }
        },
        "63f50c934f344717b7e0c0f3fde63f22": {
          "model_module": "@jupyter-widgets/base",
          "model_module_version": "1.2.0",
          "model_name": "LayoutModel",
          "state": {
            "_model_module": "@jupyter-widgets/base",
            "_model_module_version": "1.2.0",
            "_model_name": "LayoutModel",
            "_view_count": null,
            "_view_module": "@jupyter-widgets/base",
            "_view_module_version": "1.2.0",
            "_view_name": "LayoutView",
            "align_content": null,
            "align_items": null,
            "align_self": null,
            "border": null,
            "bottom": null,
            "display": null,
            "flex": null,
            "flex_flow": null,
            "grid_area": null,
            "grid_auto_columns": null,
            "grid_auto_flow": null,
            "grid_auto_rows": null,
            "grid_column": null,
            "grid_gap": null,
            "grid_row": null,
            "grid_template_areas": null,
            "grid_template_columns": null,
            "grid_template_rows": null,
            "height": null,
            "justify_content": null,
            "justify_items": null,
            "left": null,
            "margin": null,
            "max_height": null,
            "max_width": null,
            "min_height": null,
            "min_width": null,
            "object_fit": null,
            "object_position": null,
            "order": null,
            "overflow": null,
            "overflow_x": null,
            "overflow_y": null,
            "padding": null,
            "right": null,
            "top": null,
            "visibility": null,
            "width": null
          }
        },
        "64251f5ec14944b6be2a53aafd593dae": {
          "model_module": "@jupyter-widgets/controls",
          "model_module_version": "1.5.0",
          "model_name": "HTMLModel",
          "state": {
            "_dom_classes": [],
            "_model_module": "@jupyter-widgets/controls",
            "_model_module_version": "1.5.0",
            "_model_name": "HTMLModel",
            "_view_count": null,
            "_view_module": "@jupyter-widgets/controls",
            "_view_module_version": "1.5.0",
            "_view_name": "HTMLView",
            "description": "",
            "description_tooltip": null,
            "layout": "IPY_MODEL_5db8ac5ccd3245539276938bebac7964",
            "placeholder": "​",
            "style": "IPY_MODEL_faae30869433403c9182cdbebc54ce3e",
            "value": "100%"
          }
        },
        "65f0079f8d9446028164e678060c41ab": {
          "model_module": "@jupyter-widgets/base",
          "model_module_version": "1.2.0",
          "model_name": "LayoutModel",
          "state": {
            "_model_module": "@jupyter-widgets/base",
            "_model_module_version": "1.2.0",
            "_model_name": "LayoutModel",
            "_view_count": null,
            "_view_module": "@jupyter-widgets/base",
            "_view_module_version": "1.2.0",
            "_view_name": "LayoutView",
            "align_content": null,
            "align_items": null,
            "align_self": null,
            "border": null,
            "bottom": null,
            "display": null,
            "flex": null,
            "flex_flow": null,
            "grid_area": null,
            "grid_auto_columns": null,
            "grid_auto_flow": null,
            "grid_auto_rows": null,
            "grid_column": null,
            "grid_gap": null,
            "grid_row": null,
            "grid_template_areas": null,
            "grid_template_columns": null,
            "grid_template_rows": null,
            "height": null,
            "justify_content": null,
            "justify_items": null,
            "left": null,
            "margin": null,
            "max_height": null,
            "max_width": null,
            "min_height": null,
            "min_width": null,
            "object_fit": null,
            "object_position": null,
            "order": null,
            "overflow": null,
            "overflow_x": null,
            "overflow_y": null,
            "padding": null,
            "right": null,
            "top": null,
            "visibility": null,
            "width": null
          }
        },
        "678a5b7d9be848d7a116f7f6b9a26408": {
          "model_module": "@jupyter-widgets/base",
          "model_module_version": "1.2.0",
          "model_name": "LayoutModel",
          "state": {
            "_model_module": "@jupyter-widgets/base",
            "_model_module_version": "1.2.0",
            "_model_name": "LayoutModel",
            "_view_count": null,
            "_view_module": "@jupyter-widgets/base",
            "_view_module_version": "1.2.0",
            "_view_name": "LayoutView",
            "align_content": null,
            "align_items": null,
            "align_self": null,
            "border": null,
            "bottom": null,
            "display": null,
            "flex": null,
            "flex_flow": null,
            "grid_area": null,
            "grid_auto_columns": null,
            "grid_auto_flow": null,
            "grid_auto_rows": null,
            "grid_column": null,
            "grid_gap": null,
            "grid_row": null,
            "grid_template_areas": null,
            "grid_template_columns": null,
            "grid_template_rows": null,
            "height": null,
            "justify_content": null,
            "justify_items": null,
            "left": null,
            "margin": null,
            "max_height": null,
            "max_width": null,
            "min_height": null,
            "min_width": null,
            "object_fit": null,
            "object_position": null,
            "order": null,
            "overflow": null,
            "overflow_x": null,
            "overflow_y": null,
            "padding": null,
            "right": null,
            "top": null,
            "visibility": null,
            "width": null
          }
        },
        "6938c40c0a094c3e93260bb63a345092": {
          "model_module": "@jupyter-widgets/base",
          "model_module_version": "1.2.0",
          "model_name": "LayoutModel",
          "state": {
            "_model_module": "@jupyter-widgets/base",
            "_model_module_version": "1.2.0",
            "_model_name": "LayoutModel",
            "_view_count": null,
            "_view_module": "@jupyter-widgets/base",
            "_view_module_version": "1.2.0",
            "_view_name": "LayoutView",
            "align_content": null,
            "align_items": null,
            "align_self": null,
            "border": null,
            "bottom": null,
            "display": null,
            "flex": null,
            "flex_flow": null,
            "grid_area": null,
            "grid_auto_columns": null,
            "grid_auto_flow": null,
            "grid_auto_rows": null,
            "grid_column": null,
            "grid_gap": null,
            "grid_row": null,
            "grid_template_areas": null,
            "grid_template_columns": null,
            "grid_template_rows": null,
            "height": null,
            "justify_content": null,
            "justify_items": null,
            "left": null,
            "margin": null,
            "max_height": null,
            "max_width": null,
            "min_height": null,
            "min_width": null,
            "object_fit": null,
            "object_position": null,
            "order": null,
            "overflow": null,
            "overflow_x": null,
            "overflow_y": null,
            "padding": null,
            "right": null,
            "top": null,
            "visibility": null,
            "width": null
          }
        },
        "6de7f55f67014f6c80a2ab32f9578253": {
          "model_module": "@jupyter-widgets/controls",
          "model_module_version": "1.5.0",
          "model_name": "HTMLModel",
          "state": {
            "_dom_classes": [],
            "_model_module": "@jupyter-widgets/controls",
            "_model_module_version": "1.5.0",
            "_model_name": "HTMLModel",
            "_view_count": null,
            "_view_module": "@jupyter-widgets/controls",
            "_view_module_version": "1.5.0",
            "_view_name": "HTMLView",
            "description": "",
            "description_tooltip": null,
            "layout": "IPY_MODEL_80a8035ed69d455b9cd99d95370efb6b",
            "placeholder": "​",
            "style": "IPY_MODEL_ed663006b0ad48c8b86fdea611e4ff76",
            "value": "100%"
          }
        },
        "7ab97aa361664ea0bea33907fbb0e9ae": {
          "model_module": "@jupyter-widgets/controls",
          "model_module_version": "1.5.0",
          "model_name": "FloatProgressModel",
          "state": {
            "_dom_classes": [],
            "_model_module": "@jupyter-widgets/controls",
            "_model_module_version": "1.5.0",
            "_model_name": "FloatProgressModel",
            "_view_count": null,
            "_view_module": "@jupyter-widgets/controls",
            "_view_module_version": "1.5.0",
            "_view_name": "ProgressView",
            "bar_style": "success",
            "description": "",
            "description_tooltip": null,
            "layout": "IPY_MODEL_65f0079f8d9446028164e678060c41ab",
            "max": 34665,
            "min": 0,
            "orientation": "horizontal",
            "style": "IPY_MODEL_7d6a7579c9d44d7793858debe0fe8519",
            "value": 34665
          }
        },
        "7bb9009b705b46ae998c4b28940ba36b": {
          "model_module": "@jupyter-widgets/base",
          "model_module_version": "1.2.0",
          "model_name": "LayoutModel",
          "state": {
            "_model_module": "@jupyter-widgets/base",
            "_model_module_version": "1.2.0",
            "_model_name": "LayoutModel",
            "_view_count": null,
            "_view_module": "@jupyter-widgets/base",
            "_view_module_version": "1.2.0",
            "_view_name": "LayoutView",
            "align_content": null,
            "align_items": null,
            "align_self": null,
            "border": null,
            "bottom": null,
            "display": null,
            "flex": null,
            "flex_flow": null,
            "grid_area": null,
            "grid_auto_columns": null,
            "grid_auto_flow": null,
            "grid_auto_rows": null,
            "grid_column": null,
            "grid_gap": null,
            "grid_row": null,
            "grid_template_areas": null,
            "grid_template_columns": null,
            "grid_template_rows": null,
            "height": null,
            "justify_content": null,
            "justify_items": null,
            "left": null,
            "margin": null,
            "max_height": null,
            "max_width": null,
            "min_height": null,
            "min_width": null,
            "object_fit": null,
            "object_position": null,
            "order": null,
            "overflow": null,
            "overflow_x": null,
            "overflow_y": null,
            "padding": null,
            "right": null,
            "top": null,
            "visibility": null,
            "width": null
          }
        },
        "7d6a7579c9d44d7793858debe0fe8519": {
          "model_module": "@jupyter-widgets/controls",
          "model_module_version": "1.5.0",
          "model_name": "ProgressStyleModel",
          "state": {
            "_model_module": "@jupyter-widgets/controls",
            "_model_module_version": "1.5.0",
            "_model_name": "ProgressStyleModel",
            "_view_count": null,
            "_view_module": "@jupyter-widgets/base",
            "_view_module_version": "1.2.0",
            "_view_name": "StyleView",
            "bar_color": null,
            "description_width": ""
          }
        },
        "80a8035ed69d455b9cd99d95370efb6b": {
          "model_module": "@jupyter-widgets/base",
          "model_module_version": "1.2.0",
          "model_name": "LayoutModel",
          "state": {
            "_model_module": "@jupyter-widgets/base",
            "_model_module_version": "1.2.0",
            "_model_name": "LayoutModel",
            "_view_count": null,
            "_view_module": "@jupyter-widgets/base",
            "_view_module_version": "1.2.0",
            "_view_name": "LayoutView",
            "align_content": null,
            "align_items": null,
            "align_self": null,
            "border": null,
            "bottom": null,
            "display": null,
            "flex": null,
            "flex_flow": null,
            "grid_area": null,
            "grid_auto_columns": null,
            "grid_auto_flow": null,
            "grid_auto_rows": null,
            "grid_column": null,
            "grid_gap": null,
            "grid_row": null,
            "grid_template_areas": null,
            "grid_template_columns": null,
            "grid_template_rows": null,
            "height": null,
            "justify_content": null,
            "justify_items": null,
            "left": null,
            "margin": null,
            "max_height": null,
            "max_width": null,
            "min_height": null,
            "min_width": null,
            "object_fit": null,
            "object_position": null,
            "order": null,
            "overflow": null,
            "overflow_x": null,
            "overflow_y": null,
            "padding": null,
            "right": null,
            "top": null,
            "visibility": null,
            "width": null
          }
        },
        "86414d6fa7a04752a80c1680ca74ca85": {
          "model_module": "@jupyter-widgets/controls",
          "model_module_version": "1.5.0",
          "model_name": "HTMLModel",
          "state": {
            "_dom_classes": [],
            "_model_module": "@jupyter-widgets/controls",
            "_model_module_version": "1.5.0",
            "_model_name": "HTMLModel",
            "_view_count": null,
            "_view_module": "@jupyter-widgets/controls",
            "_view_module_version": "1.5.0",
            "_view_name": "HTMLView",
            "description": "",
            "description_tooltip": null,
            "layout": "IPY_MODEL_47d9e23efa7c451a94318bd78447e128",
            "placeholder": "​",
            "style": "IPY_MODEL_4f4ecfa679f04bd9a80592b13b30f08a",
            "value": "  1%"
          }
        },
        "88e02953efb94085b40e96d2f366c56c": {
          "model_module": "@jupyter-widgets/base",
          "model_module_version": "1.2.0",
          "model_name": "LayoutModel",
          "state": {
            "_model_module": "@jupyter-widgets/base",
            "_model_module_version": "1.2.0",
            "_model_name": "LayoutModel",
            "_view_count": null,
            "_view_module": "@jupyter-widgets/base",
            "_view_module_version": "1.2.0",
            "_view_name": "LayoutView",
            "align_content": null,
            "align_items": null,
            "align_self": null,
            "border": null,
            "bottom": null,
            "display": null,
            "flex": null,
            "flex_flow": null,
            "grid_area": null,
            "grid_auto_columns": null,
            "grid_auto_flow": null,
            "grid_auto_rows": null,
            "grid_column": null,
            "grid_gap": null,
            "grid_row": null,
            "grid_template_areas": null,
            "grid_template_columns": null,
            "grid_template_rows": null,
            "height": null,
            "justify_content": null,
            "justify_items": null,
            "left": null,
            "margin": null,
            "max_height": null,
            "max_width": null,
            "min_height": null,
            "min_width": null,
            "object_fit": null,
            "object_position": null,
            "order": null,
            "overflow": null,
            "overflow_x": null,
            "overflow_y": null,
            "padding": null,
            "right": null,
            "top": null,
            "visibility": null,
            "width": null
          }
        },
        "89e86411ab8646ce86216268879a6fac": {
          "model_module": "@jupyter-widgets/controls",
          "model_module_version": "1.5.0",
          "model_name": "HBoxModel",
          "state": {
            "_dom_classes": [],
            "_model_module": "@jupyter-widgets/controls",
            "_model_module_version": "1.5.0",
            "_model_name": "HBoxModel",
            "_view_count": null,
            "_view_module": "@jupyter-widgets/controls",
            "_view_module_version": "1.5.0",
            "_view_name": "HBoxView",
            "box_style": "",
            "children": [
              "IPY_MODEL_27272f418c1b4e2a9d49c5c885f908ea",
              "IPY_MODEL_9d5b5c09c9494287ad275b456a25b4c9",
              "IPY_MODEL_e0103b97a6154a52acbefa22c28d40dd"
            ],
            "layout": "IPY_MODEL_678a5b7d9be848d7a116f7f6b9a26408"
          }
        },
        "94e12607db9744dd86ed919d4939a9ec": {
          "model_module": "@jupyter-widgets/controls",
          "model_module_version": "1.5.0",
          "model_name": "ProgressStyleModel",
          "state": {
            "_model_module": "@jupyter-widgets/controls",
            "_model_module_version": "1.5.0",
            "_model_name": "ProgressStyleModel",
            "_view_count": null,
            "_view_module": "@jupyter-widgets/base",
            "_view_module_version": "1.2.0",
            "_view_name": "StyleView",
            "bar_color": null,
            "description_width": ""
          }
        },
        "98f00af3d0db4e5db84d00794315fb76": {
          "model_module": "@jupyter-widgets/controls",
          "model_module_version": "1.5.0",
          "model_name": "HTMLModel",
          "state": {
            "_dom_classes": [],
            "_model_module": "@jupyter-widgets/controls",
            "_model_module_version": "1.5.0",
            "_model_name": "HTMLModel",
            "_view_count": null,
            "_view_module": "@jupyter-widgets/controls",
            "_view_module_version": "1.5.0",
            "_view_name": "HTMLView",
            "description": "",
            "description_tooltip": null,
            "layout": "IPY_MODEL_450baa689a28419190748267adfbfc6b",
            "placeholder": "​",
            "style": "IPY_MODEL_5fa8a1e0138148f6b3c2d32b11f9c37c",
            "value": " 34665/34665 [01:40&lt;00:00, 260.65it/s]"
          }
        },
        "98faa6b58b9847c79f590612e4eea241": {
          "model_module": "@jupyter-widgets/controls",
          "model_module_version": "1.5.0",
          "model_name": "DescriptionStyleModel",
          "state": {
            "_model_module": "@jupyter-widgets/controls",
            "_model_module_version": "1.5.0",
            "_model_name": "DescriptionStyleModel",
            "_view_count": null,
            "_view_module": "@jupyter-widgets/base",
            "_view_module_version": "1.2.0",
            "_view_name": "StyleView",
            "description_width": ""
          }
        },
        "99f7ce4e05bc4df2895aa3eb1ba6fe26": {
          "model_module": "@jupyter-widgets/controls",
          "model_module_version": "1.5.0",
          "model_name": "DescriptionStyleModel",
          "state": {
            "_model_module": "@jupyter-widgets/controls",
            "_model_module_version": "1.5.0",
            "_model_name": "DescriptionStyleModel",
            "_view_count": null,
            "_view_module": "@jupyter-widgets/base",
            "_view_module_version": "1.2.0",
            "_view_name": "StyleView",
            "description_width": ""
          }
        },
        "9d5b5c09c9494287ad275b456a25b4c9": {
          "model_module": "@jupyter-widgets/controls",
          "model_module_version": "1.5.0",
          "model_name": "FloatProgressModel",
          "state": {
            "_dom_classes": [],
            "_model_module": "@jupyter-widgets/controls",
            "_model_module_version": "1.5.0",
            "_model_name": "FloatProgressModel",
            "_view_count": null,
            "_view_module": "@jupyter-widgets/controls",
            "_view_module_version": "1.5.0",
            "_view_name": "ProgressView",
            "bar_style": "success",
            "description": "",
            "description_tooltip": null,
            "layout": "IPY_MODEL_a11ffcd4d9d34a189fe9c91e2299908c",
            "max": 308,
            "min": 0,
            "orientation": "horizontal",
            "style": "IPY_MODEL_23abba78e3a54df091d8e884ae897d79",
            "value": 308
          }
        },
        "a11ffcd4d9d34a189fe9c91e2299908c": {
          "model_module": "@jupyter-widgets/base",
          "model_module_version": "1.2.0",
          "model_name": "LayoutModel",
          "state": {
            "_model_module": "@jupyter-widgets/base",
            "_model_module_version": "1.2.0",
            "_model_name": "LayoutModel",
            "_view_count": null,
            "_view_module": "@jupyter-widgets/base",
            "_view_module_version": "1.2.0",
            "_view_name": "LayoutView",
            "align_content": null,
            "align_items": null,
            "align_self": null,
            "border": null,
            "bottom": null,
            "display": null,
            "flex": null,
            "flex_flow": null,
            "grid_area": null,
            "grid_auto_columns": null,
            "grid_auto_flow": null,
            "grid_auto_rows": null,
            "grid_column": null,
            "grid_gap": null,
            "grid_row": null,
            "grid_template_areas": null,
            "grid_template_columns": null,
            "grid_template_rows": null,
            "height": null,
            "justify_content": null,
            "justify_items": null,
            "left": null,
            "margin": null,
            "max_height": null,
            "max_width": null,
            "min_height": null,
            "min_width": null,
            "object_fit": null,
            "object_position": null,
            "order": null,
            "overflow": null,
            "overflow_x": null,
            "overflow_y": null,
            "padding": null,
            "right": null,
            "top": null,
            "visibility": null,
            "width": null
          }
        },
        "a224508e280c48308b131f50efa3acca": {
          "model_module": "@jupyter-widgets/base",
          "model_module_version": "1.2.0",
          "model_name": "LayoutModel",
          "state": {
            "_model_module": "@jupyter-widgets/base",
            "_model_module_version": "1.2.0",
            "_model_name": "LayoutModel",
            "_view_count": null,
            "_view_module": "@jupyter-widgets/base",
            "_view_module_version": "1.2.0",
            "_view_name": "LayoutView",
            "align_content": null,
            "align_items": null,
            "align_self": null,
            "border": null,
            "bottom": null,
            "display": null,
            "flex": null,
            "flex_flow": null,
            "grid_area": null,
            "grid_auto_columns": null,
            "grid_auto_flow": null,
            "grid_auto_rows": null,
            "grid_column": null,
            "grid_gap": null,
            "grid_row": null,
            "grid_template_areas": null,
            "grid_template_columns": null,
            "grid_template_rows": null,
            "height": null,
            "justify_content": null,
            "justify_items": null,
            "left": null,
            "margin": null,
            "max_height": null,
            "max_width": null,
            "min_height": null,
            "min_width": null,
            "object_fit": null,
            "object_position": null,
            "order": null,
            "overflow": null,
            "overflow_x": null,
            "overflow_y": null,
            "padding": null,
            "right": null,
            "top": null,
            "visibility": null,
            "width": null
          }
        },
        "c12e2113d4464cfa89954d8a7b638fee": {
          "model_module": "@jupyter-widgets/controls",
          "model_module_version": "1.5.0",
          "model_name": "HTMLModel",
          "state": {
            "_dom_classes": [],
            "_model_module": "@jupyter-widgets/controls",
            "_model_module_version": "1.5.0",
            "_model_name": "HTMLModel",
            "_view_count": null,
            "_view_module": "@jupyter-widgets/controls",
            "_view_module_version": "1.5.0",
            "_view_name": "HTMLView",
            "description": "",
            "description_tooltip": null,
            "layout": "IPY_MODEL_7bb9009b705b46ae998c4b28940ba36b",
            "placeholder": "​",
            "style": "IPY_MODEL_1c4c0149c43d4d4bb3bdca01f77d99ab",
            "value": " 490/34830 [00:02&lt;02:27, 232.68it/s]"
          }
        },
        "c1cc5414e6de407ea0eeb7c3728c0040": {
          "model_module": "@jupyter-widgets/controls",
          "model_module_version": "1.5.0",
          "model_name": "DescriptionStyleModel",
          "state": {
            "_model_module": "@jupyter-widgets/controls",
            "_model_module_version": "1.5.0",
            "_model_name": "DescriptionStyleModel",
            "_view_count": null,
            "_view_module": "@jupyter-widgets/base",
            "_view_module_version": "1.2.0",
            "_view_name": "StyleView",
            "description_width": ""
          }
        },
        "c319d6f790084c01a92883c6ef0d645b": {
          "model_module": "@jupyter-widgets/controls",
          "model_module_version": "1.5.0",
          "model_name": "DescriptionStyleModel",
          "state": {
            "_model_module": "@jupyter-widgets/controls",
            "_model_module_version": "1.5.0",
            "_model_name": "DescriptionStyleModel",
            "_view_count": null,
            "_view_module": "@jupyter-widgets/base",
            "_view_module_version": "1.2.0",
            "_view_name": "StyleView",
            "description_width": ""
          }
        },
        "ca6672dab20e47aba74406ac699eca89": {
          "model_module": "@jupyter-widgets/base",
          "model_module_version": "1.2.0",
          "model_name": "LayoutModel",
          "state": {
            "_model_module": "@jupyter-widgets/base",
            "_model_module_version": "1.2.0",
            "_model_name": "LayoutModel",
            "_view_count": null,
            "_view_module": "@jupyter-widgets/base",
            "_view_module_version": "1.2.0",
            "_view_name": "LayoutView",
            "align_content": null,
            "align_items": null,
            "align_self": null,
            "border": null,
            "bottom": null,
            "display": null,
            "flex": null,
            "flex_flow": null,
            "grid_area": null,
            "grid_auto_columns": null,
            "grid_auto_flow": null,
            "grid_auto_rows": null,
            "grid_column": null,
            "grid_gap": null,
            "grid_row": null,
            "grid_template_areas": null,
            "grid_template_columns": null,
            "grid_template_rows": null,
            "height": null,
            "justify_content": null,
            "justify_items": null,
            "left": null,
            "margin": null,
            "max_height": null,
            "max_width": null,
            "min_height": null,
            "min_width": null,
            "object_fit": null,
            "object_position": null,
            "order": null,
            "overflow": null,
            "overflow_x": null,
            "overflow_y": null,
            "padding": null,
            "right": null,
            "top": null,
            "visibility": null,
            "width": null
          }
        },
        "d3d9e158ca924d868f44803dda69b5dd": {
          "model_module": "@jupyter-widgets/controls",
          "model_module_version": "1.5.0",
          "model_name": "DescriptionStyleModel",
          "state": {
            "_model_module": "@jupyter-widgets/controls",
            "_model_module_version": "1.5.0",
            "_model_name": "DescriptionStyleModel",
            "_view_count": null,
            "_view_module": "@jupyter-widgets/base",
            "_view_module_version": "1.2.0",
            "_view_name": "StyleView",
            "description_width": ""
          }
        },
        "e0103b97a6154a52acbefa22c28d40dd": {
          "model_module": "@jupyter-widgets/controls",
          "model_module_version": "1.5.0",
          "model_name": "HTMLModel",
          "state": {
            "_dom_classes": [],
            "_model_module": "@jupyter-widgets/controls",
            "_model_module_version": "1.5.0",
            "_model_name": "HTMLModel",
            "_view_count": null,
            "_view_module": "@jupyter-widgets/controls",
            "_view_module_version": "1.5.0",
            "_view_name": "HTMLView",
            "description": "",
            "description_tooltip": null,
            "layout": "IPY_MODEL_ee190b529fb64293a09d9c944dd10855",
            "placeholder": "​",
            "style": "IPY_MODEL_c319d6f790084c01a92883c6ef0d645b",
            "value": " 308/308 [05:27&lt;00:00,  1.03it/s]"
          }
        },
        "e07481f0ad0846e0816d4e6fd6879ce0": {
          "model_module": "@jupyter-widgets/base",
          "model_module_version": "1.2.0",
          "model_name": "LayoutModel",
          "state": {
            "_model_module": "@jupyter-widgets/base",
            "_model_module_version": "1.2.0",
            "_model_name": "LayoutModel",
            "_view_count": null,
            "_view_module": "@jupyter-widgets/base",
            "_view_module_version": "1.2.0",
            "_view_name": "LayoutView",
            "align_content": null,
            "align_items": null,
            "align_self": null,
            "border": null,
            "bottom": null,
            "display": null,
            "flex": null,
            "flex_flow": null,
            "grid_area": null,
            "grid_auto_columns": null,
            "grid_auto_flow": null,
            "grid_auto_rows": null,
            "grid_column": null,
            "grid_gap": null,
            "grid_row": null,
            "grid_template_areas": null,
            "grid_template_columns": null,
            "grid_template_rows": null,
            "height": null,
            "justify_content": null,
            "justify_items": null,
            "left": null,
            "margin": null,
            "max_height": null,
            "max_width": null,
            "min_height": null,
            "min_width": null,
            "object_fit": null,
            "object_position": null,
            "order": null,
            "overflow": null,
            "overflow_x": null,
            "overflow_y": null,
            "padding": null,
            "right": null,
            "top": null,
            "visibility": null,
            "width": null
          }
        },
        "ed663006b0ad48c8b86fdea611e4ff76": {
          "model_module": "@jupyter-widgets/controls",
          "model_module_version": "1.5.0",
          "model_name": "DescriptionStyleModel",
          "state": {
            "_model_module": "@jupyter-widgets/controls",
            "_model_module_version": "1.5.0",
            "_model_name": "DescriptionStyleModel",
            "_view_count": null,
            "_view_module": "@jupyter-widgets/base",
            "_view_module_version": "1.2.0",
            "_view_name": "StyleView",
            "description_width": ""
          }
        },
        "ee190b529fb64293a09d9c944dd10855": {
          "model_module": "@jupyter-widgets/base",
          "model_module_version": "1.2.0",
          "model_name": "LayoutModel",
          "state": {
            "_model_module": "@jupyter-widgets/base",
            "_model_module_version": "1.2.0",
            "_model_name": "LayoutModel",
            "_view_count": null,
            "_view_module": "@jupyter-widgets/base",
            "_view_module_version": "1.2.0",
            "_view_name": "LayoutView",
            "align_content": null,
            "align_items": null,
            "align_self": null,
            "border": null,
            "bottom": null,
            "display": null,
            "flex": null,
            "flex_flow": null,
            "grid_area": null,
            "grid_auto_columns": null,
            "grid_auto_flow": null,
            "grid_auto_rows": null,
            "grid_column": null,
            "grid_gap": null,
            "grid_row": null,
            "grid_template_areas": null,
            "grid_template_columns": null,
            "grid_template_rows": null,
            "height": null,
            "justify_content": null,
            "justify_items": null,
            "left": null,
            "margin": null,
            "max_height": null,
            "max_width": null,
            "min_height": null,
            "min_width": null,
            "object_fit": null,
            "object_position": null,
            "order": null,
            "overflow": null,
            "overflow_x": null,
            "overflow_y": null,
            "padding": null,
            "right": null,
            "top": null,
            "visibility": null,
            "width": null
          }
        },
        "f99c82d9d79d45e89e983f412f10b4c3": {
          "model_module": "@jupyter-widgets/controls",
          "model_module_version": "1.5.0",
          "model_name": "HBoxModel",
          "state": {
            "_dom_classes": [],
            "_model_module": "@jupyter-widgets/controls",
            "_model_module_version": "1.5.0",
            "_model_name": "HBoxModel",
            "_view_count": null,
            "_view_module": "@jupyter-widgets/controls",
            "_view_module_version": "1.5.0",
            "_view_name": "HBoxView",
            "box_style": "",
            "children": [
              "IPY_MODEL_6de7f55f67014f6c80a2ab32f9578253",
              "IPY_MODEL_59a938f6cf8644fcb3d88c42fc5204c5",
              "IPY_MODEL_5ffeb5dcb8f04437a41bb8aa178a4a0b"
            ],
            "layout": "IPY_MODEL_615d969273c5481ca44ec079c4c69924"
          }
        },
        "faae30869433403c9182cdbebc54ce3e": {
          "model_module": "@jupyter-widgets/controls",
          "model_module_version": "1.5.0",
          "model_name": "DescriptionStyleModel",
          "state": {
            "_model_module": "@jupyter-widgets/controls",
            "_model_module_version": "1.5.0",
            "_model_name": "DescriptionStyleModel",
            "_view_count": null,
            "_view_module": "@jupyter-widgets/base",
            "_view_module_version": "1.2.0",
            "_view_name": "StyleView",
            "description_width": ""
          }
        },
        "fe1168c218114efc83ac14f51241ac4f": {
          "model_module": "@jupyter-widgets/base",
          "model_module_version": "1.2.0",
          "model_name": "LayoutModel",
          "state": {
            "_model_module": "@jupyter-widgets/base",
            "_model_module_version": "1.2.0",
            "_model_name": "LayoutModel",
            "_view_count": null,
            "_view_module": "@jupyter-widgets/base",
            "_view_module_version": "1.2.0",
            "_view_name": "LayoutView",
            "align_content": null,
            "align_items": null,
            "align_self": null,
            "border": null,
            "bottom": null,
            "display": null,
            "flex": null,
            "flex_flow": null,
            "grid_area": null,
            "grid_auto_columns": null,
            "grid_auto_flow": null,
            "grid_auto_rows": null,
            "grid_column": null,
            "grid_gap": null,
            "grid_row": null,
            "grid_template_areas": null,
            "grid_template_columns": null,
            "grid_template_rows": null,
            "height": null,
            "justify_content": null,
            "justify_items": null,
            "left": null,
            "margin": null,
            "max_height": null,
            "max_width": null,
            "min_height": null,
            "min_width": null,
            "object_fit": null,
            "object_position": null,
            "order": null,
            "overflow": null,
            "overflow_x": null,
            "overflow_y": null,
            "padding": null,
            "right": null,
            "top": null,
            "visibility": null,
            "width": null
          }
        }
      }
    }
  },
  "nbformat": 4,
  "nbformat_minor": 0
}