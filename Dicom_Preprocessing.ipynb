{
  "cells": [
    {
      "cell_type": "markdown",
      "metadata": {
        "id": "view-in-github",
        "colab_type": "text"
      },
      "source": [
        "<a href=\"https://colab.research.google.com/github/Abdou-ch-d/Breast-Cancer-Detection/blob/main/Dicom_Preprocessing.ipynb\" target=\"_parent\"><img src=\"https://colab.research.google.com/assets/colab-badge.svg\" alt=\"Open In Colab\"/></a>"
      ]
    },
    {
      "cell_type": "markdown",
      "metadata": {
        "id": "juX6ghh5xO_F"
      },
      "source": [
        "# mount drive"
      ]
    },
    {
      "cell_type": "code",
      "execution_count": null,
      "metadata": {
        "colab": {
          "base_uri": "https://localhost:8080/"
        },
        "id": "GlDI9UVqxY6q",
        "outputId": "b4ea178c-a0f3-4034-ea93-87df0fa1f8fb"
      },
      "outputs": [
        {
          "name": "stdout",
          "output_type": "stream",
          "text": [
            "Mounted at /content/drive\n"
          ]
        }
      ],
      "source": [
        "# from google.colab import drive\n",
        "# drive.mount('/content/drive', force_remount=True)"
      ]
    },
    {
      "cell_type": "markdown",
      "metadata": {
        "id": "jVI9n-U0P69-"
      },
      "source": [
        "# Install necessary packages \n"
      ]
    },
    {
      "cell_type": "code",
      "execution_count": null,
      "metadata": {
        "id": "oFb4gF-ZlpLd"
      },
      "outputs": [],
      "source": [
        "# %%capture\n",
        "# !pip install patchify"
      ]
    },
    {
      "cell_type": "code",
      "execution_count": null,
      "metadata": {
        "id": "NgjcRHoD5_0c"
      },
      "outputs": [],
      "source": [
        "# %%capture\n",
        "# !pip install SimpleITK"
      ]
    },
    {
      "cell_type": "code",
      "execution_count": null,
      "metadata": {
        "id": "eeMwycDnhjc-"
      },
      "outputs": [],
      "source": [
        "# %%capture\n",
        "# !pip install pydicom"
      ]
    },
    {
      "cell_type": "code",
      "execution_count": null,
      "metadata": {
        "id": "DJjf4XPuikNE"
      },
      "outputs": [],
      "source": [
        "# %%capture\n",
        "# !pip install opencv-python-headless==4.5.2.52"
      ]
    },
    {
      "cell_type": "code",
      "execution_count": null,
      "metadata": {
        "id": "PINsOc7Sf2Nj"
      },
      "outputs": [],
      "source": [
        "# %%capture\n",
        "# !pip install --upgrade pandas"
      ]
    },
    {
      "cell_type": "code",
      "execution_count": null,
      "metadata": {
        "id": "DtLDqbO_mVU3"
      },
      "outputs": [],
      "source": [
        "# %%capture\n",
        "# !pip install --upgrade matplotlib"
      ]
    },
    {
      "cell_type": "code",
      "execution_count": null,
      "metadata": {
        "id": "OB7JLpdc0k_1"
      },
      "outputs": [],
      "source": [
        "# %%capture\n",
        "# !pip install -U albumentations"
      ]
    },
    {
      "cell_type": "code",
      "execution_count": null,
      "metadata": {
        "id": "cHqyZJbp1Fay"
      },
      "outputs": [],
      "source": [
        "# %%capture\n",
        "# !pip install --force-reinstall albumentations==1.0.3"
      ]
    },
    {
      "cell_type": "code",
      "execution_count": null,
      "metadata": {
        "id": "5H_8JqXi1SnJ"
      },
      "outputs": [],
      "source": [
        "# %%capture\n",
        "# !pip install --force-reinstall opencv-python-headless==4.1.2.30"
      ]
    },
    {
      "cell_type": "code",
      "execution_count": null,
      "metadata": {
        "id": "5nmNAhQczAFg"
      },
      "outputs": [],
      "source": [
        "# %%capture\n",
        "# !unzip '/content/drive/MyDrive/INBreast_Dataset/INbreast Release 1.0.zip' -d '/content/Datasets'"
      ]
    },
    {
      "cell_type": "code",
      "execution_count": null,
      "metadata": {
        "id": "YM35iPWlTxj-"
      },
      "outputs": [],
      "source": [
        "# exit()"
      ]
    },
    {
      "cell_type": "markdown",
      "metadata": {
        "id": "_Mq_hdDG-XSS"
      },
      "source": [
        "# Bib"
      ]
    },
    {
      "cell_type": "code",
      "execution_count": null,
      "metadata": {
        "id": "hjqdaEsuvH4e"
      },
      "outputs": [],
      "source": [
        "import time\n",
        "import cv2\n",
        "import colorsys\n",
        "from tqdm.notebook import tqdm, trange\n",
        "import albumentations as A\n",
        "import pandas as pd, numpy as np, matplotlib.pyplot as plt\n",
        "import random\n",
        "import os, shutil\n",
        "from glob import glob\n",
        "import SimpleITK as sitk\n",
        "\n",
        "from matplotlib.colors import LinearSegmentedColormap\n",
        "\n",
        "import pydicom as dicom\n",
        "from pathlib import Path\n",
        "from sklearn.model_selection import train_test_split\n",
        "import shutil\n",
        "import plistlib\n",
        "from skimage.draw import polygon\n",
        "from patchify import patchify"
      ]
    },
    {
      "cell_type": "markdown",
      "metadata": {
        "id": "V4LzcUeoORL5"
      },
      "source": [
        "# Functions"
      ]
    },
    {
      "cell_type": "markdown",
      "metadata": {
        "id": "B3Utpb29AX-s"
      },
      "source": [
        "**This function loads a osirix xml region as a binary numpy array for INBREAST\n",
        "  dataset**\n",
        "\n",
        "return: numpy array where each mass has a different number id"
      ]
    },
    {
      "cell_type": "code",
      "execution_count": null,
      "metadata": {
        "cellView": "form",
        "id": "sgRJ1pqjh5lq"
      },
      "outputs": [],
      "source": [
        "#@title load_inbreast_mask{form-width:\"0.5%\"}\n",
        "def load_inbreast_mask(mask_path, imshape=(4084, 3328), class__=0):\n",
        "    \"\"\"\n",
        "    This function loads a osirix xml region as a binary numpy array for INBREASTdataset\n",
        "    @mask_path : Path to the xml file\n",
        "    @class__: mask class, \n",
        "              class__ != 0 --> mass\n",
        "              class__ == 0 --> calcification (default)\n",
        "    @imshape : The shape of the image as an array e.g. [4084, 3328]\n",
        "    return: numpy array where each mass has a different number id.\n",
        "\n",
        "    \n",
        "    \"\"\"\n",
        "\n",
        "    def load_point(point_string):\n",
        "        x, y = tuple([float(num) for num in point_string.strip('()').split(',')])\n",
        "        return y, x\n",
        "        \n",
        "    i =  0\n",
        "    mask = np.zeros(imshape)\n",
        "    if(class__):\n",
        "      c='Mass'\n",
        "    else:\n",
        "      c='Calcification'\n",
        "\n",
        "    with open(mask_path, 'rb') as mask_file:\n",
        "        plist_dict = plistlib.load(mask_file, fmt=plistlib.FMT_XML)['Images'][0]\n",
        "        numRois = plist_dict['NumberOfROIs']\n",
        "        rois = plist_dict['ROIs']\n",
        "        assert len(rois) == numRois\n",
        "        for roi in rois:\n",
        "            numPoints = roi['NumberOfPoints']\n",
        "            \n",
        "            if roi['Name'] == c:\n",
        "                i+=1\n",
        "                points = roi['Point_px']\n",
        "                assert numPoints == len(points)\n",
        "                points = [load_point(point) for point in points]\n",
        "                if len(points) <= 2:\n",
        "                    for point in points:\n",
        "                        mask[int(point[0]), int(point[1])] = i\n",
        "                else:\n",
        "                    x, y = zip(*points)\n",
        "                    x, y = np.array(x), np.array(y)\n",
        "                    poly_x, poly_y = polygon(x, y, shape=imshape)\n",
        "                    mask[poly_x, poly_y] = i\n",
        "        \n",
        "\n",
        "    return mask"
      ]
    },
    {
      "cell_type": "markdown",
      "metadata": {
        "id": "BE_7pPCSAzpA"
      },
      "source": [
        "**Convert a mask into albumentations format**\n",
        "\n",
        "\n",
        "mass_mask : numpy array mask where each pixel correspond to a lesion (one pixel id per lesion)"
      ]
    },
    {
      "cell_type": "code",
      "execution_count": null,
      "metadata": {
        "id": "_jOs702dh5kK"
      },
      "outputs": [],
      "source": [
        "#@title mask_to_yolo{form-width:\"0.5%\"}\n",
        "def mask_to_yolo(mass_mask,c):\n",
        "    \"\"\"\n",
        "    return: a list of list containing masses bounding boxes in YOLO coordinates:\n",
        "            <x> = <absolute_x> / <image_width>\n",
        "            <y> = <absolute_y> / <image_height>\n",
        "            <height> = <absolute_height> / <image_height>\n",
        "            <width> = <absolute_width> / <image_width>\n",
        "    \"\"\"\n",
        "   \n",
        "    ids=np.unique(mass_mask)[1:]\n",
        "    res = []\n",
        "    height, width = mass_mask.shape\n",
        "    nbr_mass = len(np.unique(mass_mask))-1\n",
        "    \n",
        "    \n",
        "    for i in range(nbr_mass):\n",
        "        mask = mass_mask.copy()\n",
        "        mask[mass_mask!=ids[i]]=0\n",
        "        #find contours of each mass\n",
        "        cnts, _ = cv2.findContours(mask.astype(np.uint8), cv2.RETR_EXTERNAL, cv2.CHAIN_APPROX_SIMPLE)\n",
        "        #create a bbox around the contours\n",
        "        x, y, w, h = cv2.boundingRect(cnts[0])\n",
        "        # print(\"xywh\\n\",x,y,w,h)\n",
        "        #convert to yolo coordinate system\n",
        "        # x = x+w//2 -1\n",
        "        # y= y+h//2 -1\n",
        "        # res.append([x/width,y/height,w/width,h/height, 'Calcification'])\n",
        "        # print(\"c= \",c)\n",
        "        if(c==1):\n",
        "          #c=1 so res[5]=Masse\n",
        "          res.append([x,y,w,h,1])\n",
        "          # print(\"res of Masses\\n\",res)\n",
        "        elif(c==0):\n",
        "          #c=0 so res[5]=Calcification\n",
        "          res.append([x,y,w,h,0])\n",
        "          # print(\"res of Calcifications\\n\",res)\n",
        "    return res"
      ]
    },
    {
      "cell_type": "markdown",
      "metadata": {
        "id": "DpqcU0BRB_3W"
      },
      "source": [
        "**write  the list of bbox into txt file**"
      ]
    },
    {
      "cell_type": "code",
      "execution_count": null,
      "metadata": {
        "id": "vrfp0RXziy38"
      },
      "outputs": [],
      "source": [
        "#@title bbox_to_txt{form-width:\"0.5%\"}\n",
        "def bbox_to_txt(bboxes):\n",
        "    \"\"\"\n",
        "    bboxes : numpy array of bounding boxes \n",
        "    return : a string for each object in new line: <object-class> <x> <y> <width> <height>\n",
        "    \"\"\"\n",
        "    txt=''\n",
        "    for l in bboxes:\n",
        "        l = [str(x) for x in l[:4]]\n",
        "        l = ' '.join(l)\n",
        "        if(l[5]==0):\n",
        "          txt += '0 ' + l + '\\n'\n",
        "        # else:\n",
        "        #   txt += '1 ' + l + '\\n'\n",
        "    return txt"
      ]
    },
    {
      "cell_type": "markdown",
      "metadata": {
        "id": "g6fzntHgDKFS"
      },
      "source": [
        "# Image processing"
      ]
    },
    {
      "cell_type": "markdown",
      "metadata": {
        "id": "W5NnE31OCv1j"
      },
      "source": [
        "**Crop breast ROI from image**  \n",
        "\n",
        "This can be done with OpenCV and Otsu’s thresholding technique"
      ]
    },
    {
      "cell_type": "code",
      "execution_count": null,
      "metadata": {
        "cellView": "form",
        "id": "yHSmyVphiynO"
      },
      "outputs": [],
      "source": [
        "#@title crop{form-width:\"0.5%\"}\n",
        "def crop(img, mask_mass, mask_cal):\n",
        "    \"\"\"\n",
        "    @img : numpy array image\n",
        "    @mask : numpy array mask of the lesions\n",
        "    return: numpy array of the ROI extracted for the image, \n",
        "            numpy array of the ROI extracted for the breast mask,\n",
        "            numpy array of the ROI extracted for the masses mask\n",
        "    \"\"\"\n",
        "    # Otsu's thresholding after Gaussian filtering\n",
        "    blur = cv2.GaussianBlur(img,(5,5),0)\n",
        "    blur=blur.astype(np.uint8)\n",
        "    _, breast_mask = cv2.threshold(blur,0,255,cv2.THRESH_BINARY+cv2.THRESH_OTSU)\n",
        "    \n",
        "    cnts, _ = cv2.findContours(breast_mask.astype(np.uint8), cv2.RETR_EXTERNAL, cv2.CHAIN_APPROX_SIMPLE)\n",
        "    cnt = max(cnts, key = cv2.contourArea)\n",
        "    x, y, w, h = cv2.boundingRect(cnt)\n",
        "    return img[y:y+h, x:x+w], breast_mask[y:y+h, x:x+w], mask_mass[y:y+h, x:x+w], mask_cal[y:y+h, x:x+w]"
      ]
    },
    {
      "cell_type": "markdown",
      "metadata": {
        "id": "vScWev2ZDdFQ"
      },
      "source": [
        "**3 preprocessing steps**\n",
        "\n",
        "\n",
        "*   Truncation normalization\n",
        "*   Image enhancement\n",
        "*   Image synthesizing\n",
        "\n",
        "\n"
      ]
    },
    {
      "cell_type": "markdown",
      "metadata": {
        "id": "NjkwkuKnEJAR"
      },
      "source": [
        "**Clip and normalize pixels in the breast ROI**\n",
        "\n",
        "After cropping, the image is still composed of many **black pixels**. This may have negative effects on the detection if we normalize the image as it is (because the breast region will appear less intense). Here the goal is to normalize the **intensity distribution of the pixels** in the breast region."
      ]
    },
    {
      "cell_type": "code",
      "execution_count": null,
      "metadata": {
        "cellView": "form",
        "id": "EIeXWSeui6I7"
      },
      "outputs": [],
      "source": [
        "#@title truncation_normalization{form-width:\"0.5%\"}\n",
        "def truncation_normalization(img, mask):\n",
        "    \"\"\"\n",
        "    *img : numpy array image\n",
        "    *mask : numpy array mask of the breast\n",
        "    return: numpy array of the normalized image\n",
        "    \"\"\"\n",
        "    Pmin = np.percentile(img[mask!=0], 5)\n",
        "    Pmax = np.percentile(img[mask!=0], 99)\n",
        "    truncated = np.clip(img,Pmin, Pmax)  \n",
        "    normalized = (truncated - Pmin)/(Pmax - Pmin)\n",
        "    normalized[mask==0]=0\n",
        "    return normalized"
      ]
    },
    {
      "cell_type": "markdown",
      "metadata": {
        "id": "CRJESG2HFuE5"
      },
      "source": [
        "**Image enhancement**\n",
        "\n",
        "To enhance the contrast of the breast region and so the mass lesion, Contrast Limited Adaptive Histogram Equalization (**CLAHE**) algorithm is applied with clip limit\n",
        "\n"
      ]
    },
    {
      "cell_type": "code",
      "execution_count": null,
      "metadata": {
        "cellView": "form",
        "id": "ICr6ZBPri6HM"
      },
      "outputs": [],
      "source": [
        "#@title CLAHE{form-width:\"1%\"}\n",
        "def clahe(img, clip=2.0, tile=(8, 8),):\n",
        "    \n",
        "    '''\n",
        "    This function applies the Contrast-Limited Adaptive\n",
        "    Histogram Equalisation filter to a given image.\n",
        "    \n",
        "    Parameters\n",
        "    ----------\n",
        "    img : {numpy.ndarray}\n",
        "        The image to edit.\n",
        "    clip : {int or floa}\n",
        "        Threshold for contrast limiting.\n",
        "    tile : {tuple (int, int)}\n",
        "        Size of grid for histogram equalization. Input\n",
        "        image will be divided into equally sized\n",
        "        rectangular tiles. `tile` defines the number of\n",
        "        tiles in row and column.\n",
        "    \n",
        "    Returns\n",
        "    -------\n",
        "    clahe_img : {numpy.ndarray}\n",
        "        The edited image.\n",
        "    '''\n",
        "    \n",
        "    # Convert to uint8.\n",
        "    # img = skimage.img_as_ubyte(img)\n",
        "\n",
        "    clahe_create = cv2.createCLAHE(clipLimit=clip, \n",
        "                                   tileGridSize=tile,\n",
        "                                   )\n",
        "    clahe_img = clahe_create.apply(img)\n",
        "\n",
        "    return clahe_img"
      ]
    },
    {
      "cell_type": "markdown",
      "metadata": {
        "id": "sDz8B7fEGZ99"
      },
      "source": [
        "**Image synthesizing**\n",
        "\n",
        "Create a 3-channel image composed of the truncated and normalized image,\n",
        "the contrast enhanced image with clip limit 1, \n",
        "and the contrast enhanced image with clip limit 2 "
      ]
    },
    {
      "cell_type": "code",
      "execution_count": null,
      "metadata": {
        "cellView": "form",
        "id": "k89fdfl-i6EH"
      },
      "outputs": [],
      "source": [
        "#@title synthetized_images{form-width:\"0.5%\"}\n",
        "def synthetized_images(patient_id, DatasetPath):\n",
        "    \"\"\"\n",
        "    @patient_id : patient id to recover image and mask in the dataset\n",
        "    return: numpy array of the breast region\n",
        "            numpy array of the synthetized images\n",
        "            numpy array of the masses mask\n",
        "    \"\"\"\n",
        "    image_path = glob(DatasetPath+'AllDICOMs/'+str(patient_id)+'*.dcm')[0]\n",
        "\n",
        "    calcification_mask = load_inbreast_mask(DatasetPath+'AllXML/'+str(patient_id)+'.xml', class__=0)\n",
        "    mass_mask = load_inbreast_mask(DatasetPath+'AllXML/'+str(patient_id)+'.xml', class__=1)\n",
        "\n",
        "    ds = dicom.dcmread(image_path)\n",
        "    pixel_array_numpy = ds.pixel_array\n",
        "    \n",
        "    breast, mask, mass_mask ,calcification_mask= crop(pixel_array_numpy, mass_mask,calcification_mask)\n",
        "\n",
        "    # normalized = truncation_normalization(breast, mask)\n",
        "   \n",
        "    normalized=cv2.normalize(\n",
        "        breast,\n",
        "        None,\n",
        "        alpha=0,\n",
        "        beta=255,\n",
        "        norm_type=cv2.NORM_MINMAX,\n",
        "        dtype=cv2.CV_8U,\n",
        "    )\n",
        "    \n",
        "    cl1 = clahe(normalized, 1.0)\n",
        "    cl2 = clahe(normalized, 2.0)\n",
        "    # synthetized = cv2.merge((np.array(normalized*255, dtype=np.uint8),cl1,cl2))\n",
        "\n",
        "    synthetized = np.moveaxis(np.array([normalized, cl1, cl2]), 0, -1)\n",
        "    mass_mask= mass_mask.astype(np.uint8)\n",
        "    calcification_mask= calcification_mask.astype(np.uint8)\n",
        "    \n",
        "    return breast, synthetized, mass_mask, calcification_mask"
      ]
    },
    {
      "cell_type": "markdown",
      "metadata": {
        "id": "4FFuxydTietf"
      },
      "source": [
        "p:probability of applying the transform"
      ]
    },
    {
      "cell_type": "code",
      "execution_count": null,
      "metadata": {
        "cellView": "form",
        "id": "3Ncbo55rh5pH"
      },
      "outputs": [],
      "source": [
        "#@title Transform{form-width:\"0.5%\"}\n",
        "transform = A.Compose([\n",
        "    A.HorizontalFlip(p=0.5),\n",
        "    A.VerticalFlip(p=0.5),\n",
        "    A.Rotate(limit=90,interpolation=1,border_mode=cv2.BORDER_CONSTANT,value=0, mask_value=0,p=0.5)\n",
        "    # A.SafeRotate(border_mode=cv2.BORDER_CONSTANT, value=0, mask_value=0,p=0.5)  #.geometric.rotate.SafeRotate\n",
        "    # A.ShiftScaleRotate(scale_limit = 0, rotate_limit=180, p=1, border_mode=0  )\n",
        "],\n",
        "# bbox_params=A.BboxParams(format='yolo' , min_visibility=0.1),\n",
        "\n",
        ")"
      ]
    },
    {
      "cell_type": "code",
      "execution_count": null,
      "metadata": {
        "cellView": "form",
        "id": "pFSJetG6i6Ct"
      },
      "outputs": [],
      "source": [
        "#@title Main PreProcess Function{form-width:\"0.5%\"}\n",
        "def PreprocessDicom(set_ids, size, nb_aug, DatasetPath, GenertedDatasetPath):\n",
        "  cntr = 0\n",
        "  dim=(size,size)\n",
        "  arry_bboxes=[]\n",
        "  for patient_id in tqdm(set_ids):\n",
        "          original, synthetized, mass_mask ,cal_mask= synthetized_images(patient_id, DatasetPath)\n",
        "\n",
        "          #Resizing an image needs a way to calculate pixel values for the new image from the original one.\n",
        "          synthetized = cv2.resize(synthetized, dim, interpolation = cv2.INTER_AREA)  #synthetized\n",
        "          mass_mask = cv2.resize(mass_mask, dim, interpolation = cv2.INTER_NEAREST).astype(np.uint8)\n",
        "          cal_mask = cv2.resize(cal_mask, dim, interpolation = cv2.INTER_NEAREST).astype(np.uint8)\n",
        "\n",
        "          \n",
        "          # bboxes = mask_to_yolo(mass_mask)\n",
        "\n",
        "          # if(cntr):\n",
        "          #       arry_imgs=np.append(arry_imgs,[synthetized],axis=0)\n",
        "          #       arry_masks=np.append(arry_masks,[mass_mask],axis=0)\n",
        "          # else:\n",
        "          #       arry_imgs=np.array([synthetized])\n",
        "          #       arry_masks=np.array([mass_mask])\n",
        "          # arry_bboxes.append(bboxes)\n",
        "          \n",
        "          #Saving instead of append\n",
        "          \n",
        "          sitk.WriteImage(sitk.GetImageFromArray(synthetized),\n",
        "                          f\"{GenertedDatasetPath}Images/{cntr}.dcm\"\n",
        "                          )\n",
        "    \n",
        "          sitk.WriteImage(sitk.GetImageFromArray(mass_mask),\n",
        "                          f\"{GenertedDatasetPath}Masks_masses/{cntr}.dcm\"\n",
        "                          )\n",
        "          \n",
        "          sitk.WriteImage(sitk.GetImageFromArray(cal_mask),\n",
        "                          f\"{GenertedDatasetPath}Masks_cal/{cntr}.dcm\"\n",
        "                          )\n",
        "          cntr+=1\n",
        "\n",
        "\n",
        "          for i in range(nb_aug):\n",
        "\n",
        "              r=random.randrange(1000)\n",
        "              random.seed(r)\n",
        "            \n",
        "              try:\n",
        "                  transformed_cal= transform(image=synthetized, mask=cal_mask)\n",
        "                  random.seed(r)\n",
        "                  transformed_mass= transform(image=synthetized, mask=mass_mask)\n",
        "              except:\n",
        "                    print('patient_id_______',patient_id)\n",
        "                          \n",
        "              transformed_image = transformed_cal['image']\n",
        "              transformed_Masks_cal = transformed_cal['mask']\n",
        "              transformed_Masks_mass=transformed_mass['mask']\n",
        "\n",
        "              # bboxes = mask_to_yolo(transformed_Masks)\n",
        "              \n",
        "              sitk.WriteImage(sitk.GetImageFromArray(transformed_image),\n",
        "                              f\"{GenertedDatasetPath}Images/{cntr}.dcm\"\n",
        "                              )\n",
        "    \n",
        "              sitk.WriteImage(sitk.GetImageFromArray(transformed_Masks_mass),\n",
        "                              f\"{GenertedDatasetPath}Masks_masses/{cntr}.dcm\"\n",
        "                              )\n",
        "              sitk.WriteImage(sitk.GetImageFromArray(transformed_Masks_cal),\n",
        "                              f\"{GenertedDatasetPath}Masks_cal/{cntr}.dcm\"\n",
        "                              )\n",
        "              # arry_imgs=np.append(arry_imgs,[transformed_image],axis=0)\n",
        "              # arry_masks=np.append(arry_masks,[transformed_Masks],axis=0)\n",
        "              # arry_bboxes.append(bboxes)\n",
        "              \n",
        "              cntr+=1\n",
        "\n",
        "  # arry_masks= np.where(arry_masks>0, 1, 0).astype(\"float32\")\n",
        "  # arry_imgs= arry_imgs/255\n",
        "  # return arry_imgs, arry_masks#, arry_bboxes"
      ]
    },
    {
      "cell_type": "code",
      "execution_count": null,
      "metadata": {
        "cellView": "form",
        "id": "QX3MTxoXmbgt"
      },
      "outputs": [],
      "source": [
        "#@title Main PreProcess Function V2{form-width:\"0.5%\"}\n",
        "def PreprocessDicomV2(set_ids, size, nb_aug, DatasetPath, GenertedDatasetPath):\n",
        "  cntr = 0\n",
        "  dim=(size,size)\n",
        "  arry_bboxes=[]\n",
        "  for patient_id in tqdm(set_ids):\n",
        "          original, synthetized, mass_mask ,cal_mask= synthetized_images(patient_id, DatasetPath)\n",
        "\n",
        "          #Resizing an image needs a way to calculate pixel values for the new image from the original one.\n",
        "          synthetized = cv2.resize(synthetized, dim, interpolation = cv2.INTER_AREA)  #synthetized\n",
        "          mass_mask = cv2.resize(mass_mask, dim, interpolation = cv2.INTER_NEAREST).astype(np.uint8)\n",
        "          cal_mask = cv2.resize(cal_mask, dim, interpolation = cv2.INTER_NEAREST).astype(np.uint8)\n",
        "\n",
        "          #Merge masks in one\n",
        "          mass_mask= np.where(mass_mask>0, 2, 0)\n",
        "          cal_mask= np.where(cal_mask>0, 1, 0)\n",
        "          mass_mask[cal_mask!=0]=0\n",
        "          mask=(mass_mask+cal_mask).astype(np.uint8)\n",
        "\n",
        "          #Saving\n",
        "          sitk.WriteImage(sitk.GetImageFromArray(synthetized),\n",
        "                          f\"{GenertedDatasetPath}Images/{cntr}.dcm\"\n",
        "                          )\n",
        "\n",
        "          sitk.WriteImage(sitk.GetImageFromArray(mask),\n",
        "                          f\"{GenertedDatasetPath}Masks/{cntr}.dcm\"\n",
        "                          )\n",
        "          \n",
        "          cntr+=1\n",
        "\n",
        "          #Augmentation\n",
        "          for i in range(nb_aug):\n",
        "            \n",
        "              try:\n",
        "                  transformed_cal= transform(image=synthetized, mask=mask)\n",
        "              except:\n",
        "                    print('patient_id_______',patient_id)\n",
        "                          \n",
        "              transformed_image = transformed_cal['image']\n",
        "              transformed_mask= transformed_cal['mask']\n",
        "              \n",
        "              sitk.WriteImage(sitk.GetImageFromArray(transformed_image),\n",
        "                              f\"{GenertedDatasetPath}Images/{cntr}.dcm\"\n",
        "                              )\n",
        "\n",
        "              sitk.WriteImage(sitk.GetImageFromArray(transformed_mask),\n",
        "                          f\"{GenertedDatasetPath}Masks/{cntr}.dcm\"\n",
        "                          )\n",
        "              \n",
        "              cntr+=1"
      ]
    },
    {
      "cell_type": "code",
      "execution_count": null,
      "metadata": {
        "colab": {
          "background_save": true
        },
        "id": "fjIYltpZ37Kv"
      },
      "outputs": [],
      "source": [
        "#@title Main PreProcess Patches Function{form-width:\"0.5%\"}\n",
        "def PreprocessDicomPatches(set_ids, size, nb_aug, DatasetPath, GenertedDatasetPath):\n",
        "  '''\n",
        "  size: since no resize needed, size now represent patches fixed size (model input size).\n",
        "  step: by default patchification step equals size to avoid overlap between patches.\n",
        "  '''\n",
        "  cntr = 0\n",
        "  dim=(size,size)\n",
        "  step=size\n",
        "\n",
        "  for patient_id in tqdm(set_ids):\n",
        "          original, synthetized, mass_mask ,cal_mask= synthetized_images(patient_id, DatasetPath)\n",
        "\n",
        "          img_patches = patchify(synthetized, dim+(3,), step=step)\n",
        "          mass_mask_patches = patchify(mass_mask, dim, step=step)\n",
        "          cal_mask_patches = patchify(cal_mask, dim, step=step)\n",
        "\n",
        "          \n",
        "          #Saving\n",
        "          cpt=0\n",
        "          for i in range(img_patches.shape[0]):\n",
        "            for j in range(img_patches.shape[1]):\n",
        "              if img_patches[i,j,0,:,:,0].sum()==0:\n",
        "                continue\n",
        "\n",
        "              sitk.WriteImage(sitk.GetImageFromArray(img_patches[i,j,0,...]),\n",
        "                          f\"{GenertedDatasetPath}Images/{cntr}_{cpt}.dcm\"\n",
        "                          )\n",
        "              sitk.WriteImage(sitk.GetImageFromArray(mass_mask_patches[i,j,...]),\n",
        "                          f\"{GenertedDatasetPath}Masks_masses/{cntr}_{cpt}.dcm\"\n",
        "                          )\n",
        "              sitk.WriteImage(sitk.GetImageFromArray(cal_mask_patches[i,j,...]),\n",
        "                          f\"{GenertedDatasetPath}Masks_cal/{cntr}_{cpt}.dcm\"\n",
        "                          )\n",
        "              cpt+=1\n",
        "\n",
        "          cntr+=1\n",
        "\n",
        "\n",
        "          #Augmentation\n",
        "          for i in range(nb_aug):\n",
        "              cpt=1\n",
        "              for i in range(img_patches.shape[0]):\n",
        "                for j in range(img_patches.shape[1]):\n",
        "                  if img_patches[i,j,0,:,:,0].sum()==0:\n",
        "                    continue\n",
        "                    \n",
        "                  r=random.randrange(1000)\n",
        "                  random.seed(r)\n",
        "                \n",
        "                  try:\n",
        "                      transformed_cal= transform(image=img_patches[i,j,0,...], mask=cal_mask_patches[i,j,...])\n",
        "                      random.seed(r)\n",
        "                      transformed_mass= transform(image=img_patches[i,j,0,...], mask=mass_mask_patches[i,j,...])\n",
        "                  except:\n",
        "                        print('patient_id_______',patient_id)\n",
        "                              \n",
        "                  transformed_image = transformed_cal['image']\n",
        "                  transformed_Masks_cal = transformed_cal['mask']\n",
        "                  transformed_Masks_mass= transformed_mass['mask']\n",
        "\n",
        "                  \n",
        "                  sitk.WriteImage(sitk.GetImageFromArray(transformed_image),\n",
        "                                  f\"{GenertedDatasetPath}Images/{cntr}_{cpt}.dcm\"\n",
        "                                  )\n",
        "        \n",
        "                  sitk.WriteImage(sitk.GetImageFromArray(transformed_Masks_mass),\n",
        "                                  f\"{GenertedDatasetPath}Masks_masses/{cntr}_{cpt}.dcm\"\n",
        "                                  )\n",
        "                  sitk.WriteImage(sitk.GetImageFromArray(transformed_Masks_cal),\n",
        "                                  f\"{GenertedDatasetPath}Masks_cal/{cntr}_{cpt}.dcm\"\n",
        "                                  )\n",
        "                  cpt+=1\n",
        "                \n",
        "              cntr+=1"
      ]
    },
    {
      "cell_type": "code",
      "execution_count": null,
      "metadata": {
        "id": "j-TWfErDgFvi"
      },
      "outputs": [],
      "source": [
        "#@title Main PreProcess Patches Function  V2{form-width:\"0.5%\"}\n",
        "def PreprocessDicomPatchesV2(set_ids, size, nb_aug, DatasetPath, GenertedDatasetPath):\n",
        "  cntr = 0\n",
        "  dim=(size,size)\n",
        "  step=size\n",
        "  arry_bboxes=[]\n",
        "  for patient_id in tqdm(set_ids):\n",
        "          original, synthetized, mass_mask ,cal_mask= synthetized_images(patient_id, DatasetPath)\n",
        "\n",
        "\n",
        "          #Merge masks in one\n",
        "          mass_mask= np.where(mass_mask>0, 2, 0)\n",
        "          cal_mask= np.where(cal_mask>0, 1, 0)\n",
        "          mass_mask[cal_mask!=0]=0\n",
        "          mask=(mass_mask+cal_mask).astype(np.uint8)\n",
        "\n",
        "          img_patches = patchify(synthetized, dim+(3,), step=step)\n",
        "          mask_patches = patchify(mask, dim, step=step)\n",
        "\n",
        "\n",
        "          #Saving\n",
        "          cpt=0\n",
        "          for i in range(img_patches.shape[0]):\n",
        "            for j in range(img_patches.shape[1]):\n",
        "              if img_patches[i,j,0,:,:,0].sum()==0:\n",
        "                continue\n",
        "                \n",
        "              sitk.WriteImage(sitk.GetImageFromArray(img_patches[i,j,0,...]),\n",
        "                          f\"{GenertedDatasetPath}Images/{cntr}_{cpt}.dcm\"\n",
        "                          )\n",
        "              sitk.WriteImage(sitk.GetImageFromArray(mask_patches[i,j,...]),\n",
        "                          f\"{GenertedDatasetPath}Masks/{cntr}_{cpt}.dcm\"\n",
        "                          )\n",
        "              cpt+=1\n",
        "\n",
        "          cntr+=1\n",
        "\n",
        "\n",
        "          #Augmentation\n",
        "          for i in range(nb_aug):\n",
        "            cpt=1\n",
        "            for i in range(img_patches.shape[0]):\n",
        "              for j in range(img_patches.shape[1]):\n",
        "                if img_patches[i,j,0,:,:,0].sum()==0:\n",
        "                  continue\n",
        "                try:\n",
        "                    transformed_cal= transform(image=img_patches[i,j,0,...], mask=mask_patches[i,j,...])\n",
        "                except:\n",
        "                      print('patient_id_______',patient_id)\n",
        "                            \n",
        "                transformed_image = transformed_cal['image']\n",
        "                transformed_mask= transformed_cal['mask']\n",
        "                \n",
        "                sitk.WriteImage(sitk.GetImageFromArray(transformed_image),\n",
        "                                f\"{GenertedDatasetPath}Images/{cntr}_{cpt}.dcm\"\n",
        "                                )\n",
        "\n",
        "                sitk.WriteImage(sitk.GetImageFromArray(transformed_mask),\n",
        "                            f\"{GenertedDatasetPath}Masks/{cntr}_{cpt}.dcm\"\n",
        "                            )\n",
        "                cpt+=1\n",
        "            cntr+=1"
      ]
    },
    {
      "cell_type": "markdown",
      "metadata": {
        "id": "n1E-kFrVYFB7"
      },
      "source": [
        "# Test Preprocess"
      ]
    },
    {
      "cell_type": "markdown",
      "metadata": {
        "id": "j6FENbq5XjQf"
      },
      "source": [
        "**Train set augmentation**"
      ]
    },
    {
      "cell_type": "code",
      "execution_count": null,
      "metadata": {
        "id": "8UT1F5El_sJn"
      },
      "outputs": [],
      "source": [
        "# from sklearn.model_selection import train_test_split"
      ]
    },
    {
      "cell_type": "code",
      "execution_count": null,
      "metadata": {
        "id": "cHT_zTAU_VeQ"
      },
      "outputs": [],
      "source": [
        "# DatasetPath='/content/Datasets/INbreast Release 1.0/'"
      ]
    },
    {
      "cell_type": "code",
      "execution_count": null,
      "metadata": {
        "colab": {
          "base_uri": "https://localhost:8080/"
        },
        "id": "qp1PcQfn_e4P",
        "outputId": "d1d365ed-cecb-45e3-da33-0e77c95576fb"
      },
      "outputs": [
        {
          "name": "stdout",
          "output_type": "stream",
          "text": [
            "train set: 308\n",
            "test set: 35\n"
          ]
        }
      ],
      "source": [
        "# XMLS=DatasetPath+'AllXML/*.xml'\n",
        "# xml=glob(XMLS)\n",
        "# Callcification_PATIENT_ID=[x.split('/')[-1].split('.')[0]for x in xml]\n",
        "\n",
        "# # Split the data into train val & test set\n",
        "# train_set,test_set  = train_test_split(Callcification_PATIENT_ID, test_size = 0.1, random_state=82)\n",
        "# # train_set, test_set = train_test_split(train_set, test_size = 0.11, random_state=seed)\n",
        "\n",
        "# print(\"train set: {0}\\ntest set: {1}\".format(len(train_set),\n",
        "#                                     # len(val_set),\n",
        "#                                     len(test_set)\n",
        "#                                     )\n",
        "#       )"
      ]
    },
    {
      "cell_type": "code",
      "execution_count": null,
      "metadata": {
        "id": "0gP5oXTP_89Y"
      },
      "outputs": [],
      "source": [
        "# gen_dataset_path='GenDataset/'\n",
        "# !rm -r {gen_dataset_path}\n",
        "# !mkdir {gen_dataset_path}\n",
        "# !mkdir {gen_dataset_path+'Images/'}\n",
        "# !mkdir {gen_dataset_path+'Masks_masses/'}\n",
        "# !mkdir {gen_dataset_path+'Masks_cal/'}"
      ]
    },
    {
      "cell_type": "code",
      "execution_count": null,
      "metadata": {
        "colab": {
          "base_uri": "https://localhost:8080/",
          "height": 49,
          "referenced_widgets": [
            "9acb9c7f050f4875a0776d73a0baacab",
            "278c1ec05d614fa2b7348a8e9bff444b",
            "2df3b93648a34a5d9e2d262f55f574bc",
            "05a72eda62dd464bb9e82dad5b7ea4a6",
            "1ea2ede4616e42639543677590cc022d",
            "314f63de5c794926b2a8c7f6c1c53fd5",
            "2a495a37820c46008ad87c3893460c6f",
            "a26605964ef44d689ba8b3878fd17b37",
            "81f674bfcdd8493c8edb100daed793e5",
            "4c02f2144149481d8e0539680d9756a7",
            "f6bee38404194f45b821531b9d05af10"
          ]
        },
        "id": "HIQhEIEU_Utz",
        "outputId": "7b526b65-a24c-4f80-81c4-775469819df7"
      },
      "outputs": [
        {
          "data": {
            "application/vnd.jupyter.widget-view+json": {
              "model_id": "9acb9c7f050f4875a0776d73a0baacab",
              "version_major": 2,
              "version_minor": 0
            },
            "text/plain": [
              "  0%|          | 0/308 [00:00<?, ?it/s]"
            ]
          },
          "metadata": {},
          "output_type": "display_data"
        }
      ],
      "source": [
        "# PreprocessDicom(train_set, 1024, 8, DatasetPath, gen_dataset_path)"
      ]
    },
    {
      "cell_type": "code",
      "execution_count": null,
      "metadata": {
        "id": "MFxCoCcyJuDW"
      },
      "outputs": [],
      "source": [
        "# fig = plt.figure(figsize=(20, 20))\n",
        "# id=random.choice(glob('/content/GenDataset/Images/*')).split(\"/\")[-1]\n",
        "\n",
        "\n",
        "# fig.add_subplot(1,3,1)\n",
        "# plt.imshow(dicom.dcmread(gen_dataset_path+'Images/'+id).pixel_array, cmap='gray')\n",
        "# plt.gca().set_title('Image')\n",
        "\n",
        "# fig.add_subplot(1,3,2)\n",
        "# masses_mask=dicom.dcmread(gen_dataset_path+'Masks_masses/'+id).pixel_array\n",
        "# plt.imshow(masses_mask, cmap='binary_r')\n",
        "# plt.gca().set_title(f'Nb Masses:{len(np.unique(masses_mask))-1}')\n",
        "\n",
        "# # if(len(val_masks[id]!=0)):\n",
        "# #   cnt=0\n",
        "# #   for box in val_boxes[id]:\n",
        "# #     x=box[0]\n",
        "# #     y=box[1]\n",
        "# #     w=box[2]\n",
        "# #     h=box[3]  \n",
        "# #     im=cv2.rectangle(val_imges[id], (x,y),(w+x,h+y),(0,255,0),1)\n",
        "# #     cnt+=1\n",
        "\n",
        "\n",
        "# fig.add_subplot(1,3,3)\n",
        "# calcifications_mask=dicom.dcmread(gen_dataset_path+'Masks_cal/'+id).pixel_array\n",
        "# plt.imshow(calcifications_mask, cmap='binary_r')\n",
        "# plt.gca().set_title(f'Nb Calcifications:{len(np.unique(calcifications_mask))-1}')\n",
        "\n",
        "\n",
        "# plt.show()"
      ]
    },
    {
      "cell_type": "code",
      "execution_count": null,
      "metadata": {
        "id": "4NJkmsOByf8j"
      },
      "outputs": [],
      "source": [
        "# -------------------------------------"
      ]
    },
    {
      "cell_type": "code",
      "execution_count": null,
      "metadata": {
        "id": "9OvwSSWS8Z2r"
      },
      "outputs": [],
      "source": []
    }
  ],
  "metadata": {
    "colab": {
      "collapsed_sections": [
        "juX6ghh5xO_F",
        "jVI9n-U0P69-",
        "_Mq_hdDG-XSS",
        "V4LzcUeoORL5",
        "n1E-kFrVYFB7"
      ],
      "provenance": [],
      "authorship_tag": "ABX9TyP+4jGxkftp2wePvSbqm8Y5",
      "include_colab_link": true
    },
    "kernelspec": {
      "display_name": "Python 3",
      "name": "python3"
    },
    "language_info": {
      "name": "python"
    },
    "widgets": {
      "application/vnd.jupyter.widget-state+json": {
        "05a72eda62dd464bb9e82dad5b7ea4a6": {
          "model_module": "@jupyter-widgets/controls",
          "model_module_version": "1.5.0",
          "model_name": "HTMLModel",
          "state": {
            "_dom_classes": [],
            "_model_module": "@jupyter-widgets/controls",
            "_model_module_version": "1.5.0",
            "_model_name": "HTMLModel",
            "_view_count": null,
            "_view_module": "@jupyter-widgets/controls",
            "_view_module_version": "1.5.0",
            "_view_name": "HTMLView",
            "description": "",
            "description_tooltip": null,
            "layout": "IPY_MODEL_4c02f2144149481d8e0539680d9756a7",
            "placeholder": "​",
            "style": "IPY_MODEL_f6bee38404194f45b821531b9d05af10",
            "value": " 308/308 [05:10&lt;00:00,  1.13it/s]"
          }
        },
        "1ea2ede4616e42639543677590cc022d": {
          "model_module": "@jupyter-widgets/base",
          "model_module_version": "1.2.0",
          "model_name": "LayoutModel",
          "state": {
            "_model_module": "@jupyter-widgets/base",
            "_model_module_version": "1.2.0",
            "_model_name": "LayoutModel",
            "_view_count": null,
            "_view_module": "@jupyter-widgets/base",
            "_view_module_version": "1.2.0",
            "_view_name": "LayoutView",
            "align_content": null,
            "align_items": null,
            "align_self": null,
            "border": null,
            "bottom": null,
            "display": null,
            "flex": null,
            "flex_flow": null,
            "grid_area": null,
            "grid_auto_columns": null,
            "grid_auto_flow": null,
            "grid_auto_rows": null,
            "grid_column": null,
            "grid_gap": null,
            "grid_row": null,
            "grid_template_areas": null,
            "grid_template_columns": null,
            "grid_template_rows": null,
            "height": null,
            "justify_content": null,
            "justify_items": null,
            "left": null,
            "margin": null,
            "max_height": null,
            "max_width": null,
            "min_height": null,
            "min_width": null,
            "object_fit": null,
            "object_position": null,
            "order": null,
            "overflow": null,
            "overflow_x": null,
            "overflow_y": null,
            "padding": null,
            "right": null,
            "top": null,
            "visibility": null,
            "width": null
          }
        },
        "278c1ec05d614fa2b7348a8e9bff444b": {
          "model_module": "@jupyter-widgets/controls",
          "model_module_version": "1.5.0",
          "model_name": "HTMLModel",
          "state": {
            "_dom_classes": [],
            "_model_module": "@jupyter-widgets/controls",
            "_model_module_version": "1.5.0",
            "_model_name": "HTMLModel",
            "_view_count": null,
            "_view_module": "@jupyter-widgets/controls",
            "_view_module_version": "1.5.0",
            "_view_name": "HTMLView",
            "description": "",
            "description_tooltip": null,
            "layout": "IPY_MODEL_314f63de5c794926b2a8c7f6c1c53fd5",
            "placeholder": "​",
            "style": "IPY_MODEL_2a495a37820c46008ad87c3893460c6f",
            "value": "100%"
          }
        },
        "2a495a37820c46008ad87c3893460c6f": {
          "model_module": "@jupyter-widgets/controls",
          "model_module_version": "1.5.0",
          "model_name": "DescriptionStyleModel",
          "state": {
            "_model_module": "@jupyter-widgets/controls",
            "_model_module_version": "1.5.0",
            "_model_name": "DescriptionStyleModel",
            "_view_count": null,
            "_view_module": "@jupyter-widgets/base",
            "_view_module_version": "1.2.0",
            "_view_name": "StyleView",
            "description_width": ""
          }
        },
        "2df3b93648a34a5d9e2d262f55f574bc": {
          "model_module": "@jupyter-widgets/controls",
          "model_module_version": "1.5.0",
          "model_name": "FloatProgressModel",
          "state": {
            "_dom_classes": [],
            "_model_module": "@jupyter-widgets/controls",
            "_model_module_version": "1.5.0",
            "_model_name": "FloatProgressModel",
            "_view_count": null,
            "_view_module": "@jupyter-widgets/controls",
            "_view_module_version": "1.5.0",
            "_view_name": "ProgressView",
            "bar_style": "success",
            "description": "",
            "description_tooltip": null,
            "layout": "IPY_MODEL_a26605964ef44d689ba8b3878fd17b37",
            "max": 308,
            "min": 0,
            "orientation": "horizontal",
            "style": "IPY_MODEL_81f674bfcdd8493c8edb100daed793e5",
            "value": 308
          }
        },
        "314f63de5c794926b2a8c7f6c1c53fd5": {
          "model_module": "@jupyter-widgets/base",
          "model_module_version": "1.2.0",
          "model_name": "LayoutModel",
          "state": {
            "_model_module": "@jupyter-widgets/base",
            "_model_module_version": "1.2.0",
            "_model_name": "LayoutModel",
            "_view_count": null,
            "_view_module": "@jupyter-widgets/base",
            "_view_module_version": "1.2.0",
            "_view_name": "LayoutView",
            "align_content": null,
            "align_items": null,
            "align_self": null,
            "border": null,
            "bottom": null,
            "display": null,
            "flex": null,
            "flex_flow": null,
            "grid_area": null,
            "grid_auto_columns": null,
            "grid_auto_flow": null,
            "grid_auto_rows": null,
            "grid_column": null,
            "grid_gap": null,
            "grid_row": null,
            "grid_template_areas": null,
            "grid_template_columns": null,
            "grid_template_rows": null,
            "height": null,
            "justify_content": null,
            "justify_items": null,
            "left": null,
            "margin": null,
            "max_height": null,
            "max_width": null,
            "min_height": null,
            "min_width": null,
            "object_fit": null,
            "object_position": null,
            "order": null,
            "overflow": null,
            "overflow_x": null,
            "overflow_y": null,
            "padding": null,
            "right": null,
            "top": null,
            "visibility": null,
            "width": null
          }
        },
        "4c02f2144149481d8e0539680d9756a7": {
          "model_module": "@jupyter-widgets/base",
          "model_module_version": "1.2.0",
          "model_name": "LayoutModel",
          "state": {
            "_model_module": "@jupyter-widgets/base",
            "_model_module_version": "1.2.0",
            "_model_name": "LayoutModel",
            "_view_count": null,
            "_view_module": "@jupyter-widgets/base",
            "_view_module_version": "1.2.0",
            "_view_name": "LayoutView",
            "align_content": null,
            "align_items": null,
            "align_self": null,
            "border": null,
            "bottom": null,
            "display": null,
            "flex": null,
            "flex_flow": null,
            "grid_area": null,
            "grid_auto_columns": null,
            "grid_auto_flow": null,
            "grid_auto_rows": null,
            "grid_column": null,
            "grid_gap": null,
            "grid_row": null,
            "grid_template_areas": null,
            "grid_template_columns": null,
            "grid_template_rows": null,
            "height": null,
            "justify_content": null,
            "justify_items": null,
            "left": null,
            "margin": null,
            "max_height": null,
            "max_width": null,
            "min_height": null,
            "min_width": null,
            "object_fit": null,
            "object_position": null,
            "order": null,
            "overflow": null,
            "overflow_x": null,
            "overflow_y": null,
            "padding": null,
            "right": null,
            "top": null,
            "visibility": null,
            "width": null
          }
        },
        "81f674bfcdd8493c8edb100daed793e5": {
          "model_module": "@jupyter-widgets/controls",
          "model_module_version": "1.5.0",
          "model_name": "ProgressStyleModel",
          "state": {
            "_model_module": "@jupyter-widgets/controls",
            "_model_module_version": "1.5.0",
            "_model_name": "ProgressStyleModel",
            "_view_count": null,
            "_view_module": "@jupyter-widgets/base",
            "_view_module_version": "1.2.0",
            "_view_name": "StyleView",
            "bar_color": null,
            "description_width": ""
          }
        },
        "9acb9c7f050f4875a0776d73a0baacab": {
          "model_module": "@jupyter-widgets/controls",
          "model_module_version": "1.5.0",
          "model_name": "HBoxModel",
          "state": {
            "_dom_classes": [],
            "_model_module": "@jupyter-widgets/controls",
            "_model_module_version": "1.5.0",
            "_model_name": "HBoxModel",
            "_view_count": null,
            "_view_module": "@jupyter-widgets/controls",
            "_view_module_version": "1.5.0",
            "_view_name": "HBoxView",
            "box_style": "",
            "children": [
              "IPY_MODEL_278c1ec05d614fa2b7348a8e9bff444b",
              "IPY_MODEL_2df3b93648a34a5d9e2d262f55f574bc",
              "IPY_MODEL_05a72eda62dd464bb9e82dad5b7ea4a6"
            ],
            "layout": "IPY_MODEL_1ea2ede4616e42639543677590cc022d"
          }
        },
        "a26605964ef44d689ba8b3878fd17b37": {
          "model_module": "@jupyter-widgets/base",
          "model_module_version": "1.2.0",
          "model_name": "LayoutModel",
          "state": {
            "_model_module": "@jupyter-widgets/base",
            "_model_module_version": "1.2.0",
            "_model_name": "LayoutModel",
            "_view_count": null,
            "_view_module": "@jupyter-widgets/base",
            "_view_module_version": "1.2.0",
            "_view_name": "LayoutView",
            "align_content": null,
            "align_items": null,
            "align_self": null,
            "border": null,
            "bottom": null,
            "display": null,
            "flex": null,
            "flex_flow": null,
            "grid_area": null,
            "grid_auto_columns": null,
            "grid_auto_flow": null,
            "grid_auto_rows": null,
            "grid_column": null,
            "grid_gap": null,
            "grid_row": null,
            "grid_template_areas": null,
            "grid_template_columns": null,
            "grid_template_rows": null,
            "height": null,
            "justify_content": null,
            "justify_items": null,
            "left": null,
            "margin": null,
            "max_height": null,
            "max_width": null,
            "min_height": null,
            "min_width": null,
            "object_fit": null,
            "object_position": null,
            "order": null,
            "overflow": null,
            "overflow_x": null,
            "overflow_y": null,
            "padding": null,
            "right": null,
            "top": null,
            "visibility": null,
            "width": null
          }
        },
        "f6bee38404194f45b821531b9d05af10": {
          "model_module": "@jupyter-widgets/controls",
          "model_module_version": "1.5.0",
          "model_name": "DescriptionStyleModel",
          "state": {
            "_model_module": "@jupyter-widgets/controls",
            "_model_module_version": "1.5.0",
            "_model_name": "DescriptionStyleModel",
            "_view_count": null,
            "_view_module": "@jupyter-widgets/base",
            "_view_module_version": "1.2.0",
            "_view_name": "StyleView",
            "description_width": ""
          }
        }
      }
    }
  },
  "nbformat": 4,
  "nbformat_minor": 0
}